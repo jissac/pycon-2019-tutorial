{
 "metadata": {
  "language_info": {
   "codemirror_mode": {
    "name": "ipython",
    "version": 3
   },
   "file_extension": ".py",
   "mimetype": "text/x-python",
   "name": "python",
   "nbconvert_exporter": "python",
   "pygments_lexer": "ipython3",
   "version": "3.8.3-final"
  },
  "orig_nbformat": 2,
  "kernelspec": {
   "name": "python3",
   "display_name": "Python 3"
  }
 },
 "nbformat": 4,
 "nbformat_minor": 2,
 "cells": [
  {
   "cell_type": "markdown",
   "metadata": {},
   "source": [
    "# PYCON 2019 Pandas Best Practices"
   ]
  },
  {
   "cell_type": "markdown",
   "metadata": {},
   "source": [
    "## 1. Intro to the Dataset\n",
    "https://www.kaggle.com/rounakbanik/ted-talks\n"
   ]
  },
  {
   "cell_type": "code",
   "execution_count": 1,
   "metadata": {},
   "outputs": [],
   "source": [
    "import pandas as pd"
   ]
  },
  {
   "cell_type": "code",
   "execution_count": 2,
   "metadata": {},
   "outputs": [
    {
     "output_type": "execute_result",
     "data": {
      "text/plain": [
       "'1.1.1'"
      ]
     },
     "metadata": {},
     "execution_count": 2
    }
   ],
   "source": [
    "pd.__version__"
   ]
  },
  {
   "cell_type": "code",
   "execution_count": 5,
   "metadata": {},
   "outputs": [],
   "source": [
    "import matplotlib.pyplot as plt\n",
    "%matplotlib inline"
   ]
  },
  {
   "cell_type": "code",
   "execution_count": 19,
   "metadata": {},
   "outputs": [],
   "source": [
    "ted = pd.read_csv('ted.csv')"
   ]
  },
  {
   "cell_type": "code",
   "execution_count": 7,
   "metadata": {},
   "outputs": [
    {
     "output_type": "execute_result",
     "data": {
      "text/plain": [
       "   comments                                        description  duration  \\\n",
       "0      4553  Sir Ken Robinson makes an entertaining and pro...      1164   \n",
       "1       265  With the same humor and humanity he exuded in ...       977   \n",
       "2       124  New York Times columnist David Pogue takes aim...      1286   \n",
       "3       200  In an emotionally charged talk, MacArthur-winn...      1116   \n",
       "4       593  You've never seen data presented like this. Wi...      1190   \n",
       "\n",
       "     event   film_date  languages   main_speaker  \\\n",
       "0  TED2006  1140825600         60   Ken Robinson   \n",
       "1  TED2006  1140825600         43        Al Gore   \n",
       "2  TED2006  1140739200         26    David Pogue   \n",
       "3  TED2006  1140912000         35  Majora Carter   \n",
       "4  TED2006  1140566400         48   Hans Rosling   \n",
       "\n",
       "                                            name  num_speaker  published_date  \\\n",
       "0      Ken Robinson: Do schools kill creativity?            1      1151367060   \n",
       "1           Al Gore: Averting the climate crisis            1      1151367060   \n",
       "2                  David Pogue: Simplicity sells            1      1151367060   \n",
       "3             Majora Carter: Greening the ghetto            1      1151367060   \n",
       "4  Hans Rosling: The best stats you've ever seen            1      1151440680   \n",
       "\n",
       "                                             ratings  \\\n",
       "0  [{'id': 7, 'name': 'Funny', 'count': 19645}, {...   \n",
       "1  [{'id': 7, 'name': 'Funny', 'count': 544}, {'i...   \n",
       "2  [{'id': 7, 'name': 'Funny', 'count': 964}, {'i...   \n",
       "3  [{'id': 3, 'name': 'Courageous', 'count': 760}...   \n",
       "4  [{'id': 9, 'name': 'Ingenious', 'count': 3202}...   \n",
       "\n",
       "                                       related_talks  \\\n",
       "0  [{'id': 865, 'hero': 'https://pe.tedcdn.com/im...   \n",
       "1  [{'id': 243, 'hero': 'https://pe.tedcdn.com/im...   \n",
       "2  [{'id': 1725, 'hero': 'https://pe.tedcdn.com/i...   \n",
       "3  [{'id': 1041, 'hero': 'https://pe.tedcdn.com/i...   \n",
       "4  [{'id': 2056, 'hero': 'https://pe.tedcdn.com/i...   \n",
       "\n",
       "                     speaker_occupation  \\\n",
       "0                       Author/educator   \n",
       "1                      Climate advocate   \n",
       "2                  Technology columnist   \n",
       "3    Activist for environmental justice   \n",
       "4  Global health expert; data visionary   \n",
       "\n",
       "                                                tags  \\\n",
       "0  ['children', 'creativity', 'culture', 'dance',...   \n",
       "1  ['alternative energy', 'cars', 'climate change...   \n",
       "2  ['computers', 'entertainment', 'interface desi...   \n",
       "3  ['MacArthur grant', 'activism', 'business', 'c...   \n",
       "4  ['Africa', 'Asia', 'Google', 'demo', 'economic...   \n",
       "\n",
       "                             title  \\\n",
       "0      Do schools kill creativity?   \n",
       "1      Averting the climate crisis   \n",
       "2                 Simplicity sells   \n",
       "3              Greening the ghetto   \n",
       "4  The best stats you've ever seen   \n",
       "\n",
       "                                                 url     views  \n",
       "0  https://www.ted.com/talks/ken_robinson_says_sc...  47227110  \n",
       "1  https://www.ted.com/talks/al_gore_on_averting_...   3200520  \n",
       "2  https://www.ted.com/talks/david_pogue_says_sim...   1636292  \n",
       "3  https://www.ted.com/talks/majora_carter_s_tale...   1697550  \n",
       "4  https://www.ted.com/talks/hans_rosling_shows_t...  12005869  "
      ],
      "text/html": "<div>\n<style scoped>\n    .dataframe tbody tr th:only-of-type {\n        vertical-align: middle;\n    }\n\n    .dataframe tbody tr th {\n        vertical-align: top;\n    }\n\n    .dataframe thead th {\n        text-align: right;\n    }\n</style>\n<table border=\"1\" class=\"dataframe\">\n  <thead>\n    <tr style=\"text-align: right;\">\n      <th></th>\n      <th>comments</th>\n      <th>description</th>\n      <th>duration</th>\n      <th>event</th>\n      <th>film_date</th>\n      <th>languages</th>\n      <th>main_speaker</th>\n      <th>name</th>\n      <th>num_speaker</th>\n      <th>published_date</th>\n      <th>ratings</th>\n      <th>related_talks</th>\n      <th>speaker_occupation</th>\n      <th>tags</th>\n      <th>title</th>\n      <th>url</th>\n      <th>views</th>\n    </tr>\n  </thead>\n  <tbody>\n    <tr>\n      <th>0</th>\n      <td>4553</td>\n      <td>Sir Ken Robinson makes an entertaining and pro...</td>\n      <td>1164</td>\n      <td>TED2006</td>\n      <td>1140825600</td>\n      <td>60</td>\n      <td>Ken Robinson</td>\n      <td>Ken Robinson: Do schools kill creativity?</td>\n      <td>1</td>\n      <td>1151367060</td>\n      <td>[{'id': 7, 'name': 'Funny', 'count': 19645}, {...</td>\n      <td>[{'id': 865, 'hero': 'https://pe.tedcdn.com/im...</td>\n      <td>Author/educator</td>\n      <td>['children', 'creativity', 'culture', 'dance',...</td>\n      <td>Do schools kill creativity?</td>\n      <td>https://www.ted.com/talks/ken_robinson_says_sc...</td>\n      <td>47227110</td>\n    </tr>\n    <tr>\n      <th>1</th>\n      <td>265</td>\n      <td>With the same humor and humanity he exuded in ...</td>\n      <td>977</td>\n      <td>TED2006</td>\n      <td>1140825600</td>\n      <td>43</td>\n      <td>Al Gore</td>\n      <td>Al Gore: Averting the climate crisis</td>\n      <td>1</td>\n      <td>1151367060</td>\n      <td>[{'id': 7, 'name': 'Funny', 'count': 544}, {'i...</td>\n      <td>[{'id': 243, 'hero': 'https://pe.tedcdn.com/im...</td>\n      <td>Climate advocate</td>\n      <td>['alternative energy', 'cars', 'climate change...</td>\n      <td>Averting the climate crisis</td>\n      <td>https://www.ted.com/talks/al_gore_on_averting_...</td>\n      <td>3200520</td>\n    </tr>\n    <tr>\n      <th>2</th>\n      <td>124</td>\n      <td>New York Times columnist David Pogue takes aim...</td>\n      <td>1286</td>\n      <td>TED2006</td>\n      <td>1140739200</td>\n      <td>26</td>\n      <td>David Pogue</td>\n      <td>David Pogue: Simplicity sells</td>\n      <td>1</td>\n      <td>1151367060</td>\n      <td>[{'id': 7, 'name': 'Funny', 'count': 964}, {'i...</td>\n      <td>[{'id': 1725, 'hero': 'https://pe.tedcdn.com/i...</td>\n      <td>Technology columnist</td>\n      <td>['computers', 'entertainment', 'interface desi...</td>\n      <td>Simplicity sells</td>\n      <td>https://www.ted.com/talks/david_pogue_says_sim...</td>\n      <td>1636292</td>\n    </tr>\n    <tr>\n      <th>3</th>\n      <td>200</td>\n      <td>In an emotionally charged talk, MacArthur-winn...</td>\n      <td>1116</td>\n      <td>TED2006</td>\n      <td>1140912000</td>\n      <td>35</td>\n      <td>Majora Carter</td>\n      <td>Majora Carter: Greening the ghetto</td>\n      <td>1</td>\n      <td>1151367060</td>\n      <td>[{'id': 3, 'name': 'Courageous', 'count': 760}...</td>\n      <td>[{'id': 1041, 'hero': 'https://pe.tedcdn.com/i...</td>\n      <td>Activist for environmental justice</td>\n      <td>['MacArthur grant', 'activism', 'business', 'c...</td>\n      <td>Greening the ghetto</td>\n      <td>https://www.ted.com/talks/majora_carter_s_tale...</td>\n      <td>1697550</td>\n    </tr>\n    <tr>\n      <th>4</th>\n      <td>593</td>\n      <td>You've never seen data presented like this. Wi...</td>\n      <td>1190</td>\n      <td>TED2006</td>\n      <td>1140566400</td>\n      <td>48</td>\n      <td>Hans Rosling</td>\n      <td>Hans Rosling: The best stats you've ever seen</td>\n      <td>1</td>\n      <td>1151440680</td>\n      <td>[{'id': 9, 'name': 'Ingenious', 'count': 3202}...</td>\n      <td>[{'id': 2056, 'hero': 'https://pe.tedcdn.com/i...</td>\n      <td>Global health expert; data visionary</td>\n      <td>['Africa', 'Asia', 'Google', 'demo', 'economic...</td>\n      <td>The best stats you've ever seen</td>\n      <td>https://www.ted.com/talks/hans_rosling_shows_t...</td>\n      <td>12005869</td>\n    </tr>\n  </tbody>\n</table>\n</div>"
     },
     "metadata": {},
     "execution_count": 7
    }
   ],
   "source": [
    "ted.head()"
   ]
  },
  {
   "cell_type": "code",
   "execution_count": 9,
   "metadata": {},
   "outputs": [
    {
     "output_type": "execute_result",
     "data": {
      "text/plain": [
       "(2550, 17)"
      ]
     },
     "metadata": {},
     "execution_count": 9
    }
   ],
   "source": [
    "ted.shape"
   ]
  },
  {
   "cell_type": "code",
   "execution_count": 10,
   "metadata": {},
   "outputs": [
    {
     "output_type": "execute_result",
     "data": {
      "text/plain": [
       "comments               int64\n",
       "description           object\n",
       "duration               int64\n",
       "event                 object\n",
       "film_date              int64\n",
       "languages              int64\n",
       "main_speaker          object\n",
       "name                  object\n",
       "num_speaker            int64\n",
       "published_date         int64\n",
       "ratings               object\n",
       "related_talks         object\n",
       "speaker_occupation    object\n",
       "tags                  object\n",
       "title                 object\n",
       "url                   object\n",
       "views                  int64\n",
       "dtype: object"
      ]
     },
     "metadata": {},
     "execution_count": 10
    }
   ],
   "source": [
    "ted.dtypes # object can contain strings, lists, dictionaries"
   ]
  },
  {
   "cell_type": "code",
   "execution_count": 12,
   "metadata": {},
   "outputs": [
    {
     "output_type": "execute_result",
     "data": {
      "text/plain": [
       "comments              0\n",
       "description           0\n",
       "duration              0\n",
       "event                 0\n",
       "film_date             0\n",
       "languages             0\n",
       "main_speaker          0\n",
       "name                  0\n",
       "num_speaker           0\n",
       "published_date        0\n",
       "ratings               0\n",
       "related_talks         0\n",
       "speaker_occupation    6\n",
       "tags                  0\n",
       "title                 0\n",
       "url                   0\n",
       "views                 0\n",
       "dtype: int64"
      ]
     },
     "metadata": {},
     "execution_count": 12
    }
   ],
   "source": [
    "ted.isna().sum() # any missing values?"
   ]
  },
  {
   "cell_type": "markdown",
   "metadata": {},
   "source": [
    "## 2. Which talks provoke the most online discussion?\n",
    "LESSONS: \n",
    "- consider limitations and biases of data (only have 1st level comments, bias-older talks prolly have more views/comments)\n",
    "- make columns understandable views/comment rather than comment/views"
   ]
  },
  {
   "cell_type": "code",
   "execution_count": 13,
   "metadata": {},
   "outputs": [
    {
     "output_type": "execute_result",
     "data": {
      "text/plain": [
       "      comments                                        description  duration  \\\n",
       "96        6404  Richard Dawkins urges all atheists to openly s...      1750   \n",
       "0         4553  Sir Ken Robinson makes an entertaining and pro...      1164   \n",
       "644       3356  Questions of good and evil, right and wrong ar...      1386   \n",
       "201       2877  Jill Bolte Taylor got a research opportunity f...      1099   \n",
       "1787      2673  Our consciousness is a fundamental aspect of o...      1117   \n",
       "\n",
       "        event   film_date  languages       main_speaker  \\\n",
       "96    TED2002  1012608000         42    Richard Dawkins   \n",
       "0     TED2006  1140825600         60       Ken Robinson   \n",
       "644   TED2010  1265846400         39         Sam Harris   \n",
       "201   TED2008  1204070400         49  Jill Bolte Taylor   \n",
       "1787  TED2014  1395100800         33     David Chalmers   \n",
       "\n",
       "                                                   name  num_speaker  \\\n",
       "96                    Richard Dawkins: Militant atheism            1   \n",
       "0             Ken Robinson: Do schools kill creativity?            1   \n",
       "644      Sam Harris: Science can answer moral questions            1   \n",
       "201             Jill Bolte Taylor: My stroke of insight            1   \n",
       "1787  David Chalmers: How do you explain consciousness?            1   \n",
       "\n",
       "      published_date                                            ratings  \\\n",
       "96        1176689220  [{'id': 3, 'name': 'Courageous', 'count': 3236...   \n",
       "0         1151367060  [{'id': 7, 'name': 'Funny', 'count': 19645}, {...   \n",
       "644       1269249180  [{'id': 8, 'name': 'Informative', 'count': 923...   \n",
       "201       1205284200  [{'id': 22, 'name': 'Fascinating', 'count': 14...   \n",
       "1787      1405350484  [{'id': 25, 'name': 'OK', 'count': 280}, {'id'...   \n",
       "\n",
       "                                          related_talks  \\\n",
       "96    [{'id': 86, 'hero': 'https://pe.tedcdn.com/ima...   \n",
       "0     [{'id': 865, 'hero': 'https://pe.tedcdn.com/im...   \n",
       "644   [{'id': 666, 'hero': 'https://pe.tedcdn.com/im...   \n",
       "201   [{'id': 184, 'hero': 'https://pe.tedcdn.com/im...   \n",
       "1787  [{'id': 1308, 'hero': 'https://pe.tedcdn.com/i...   \n",
       "\n",
       "               speaker_occupation  \\\n",
       "96         Evolutionary biologist   \n",
       "0                 Author/educator   \n",
       "644   Neuroscientist, philosopher   \n",
       "201                Neuroanatomist   \n",
       "1787                  Philosopher   \n",
       "\n",
       "                                                   tags  \\\n",
       "96    ['God', 'atheism', 'culture', 'religion', 'sci...   \n",
       "0     ['children', 'creativity', 'culture', 'dance',...   \n",
       "644   ['culture', 'evolutionary psychology', 'global...   \n",
       "201   ['biology', 'brain', 'consciousness', 'global ...   \n",
       "1787  ['brain', 'consciousness', 'neuroscience', 'ph...   \n",
       "\n",
       "                                   title  \\\n",
       "96                      Militant atheism   \n",
       "0            Do schools kill creativity?   \n",
       "644   Science can answer moral questions   \n",
       "201                 My stroke of insight   \n",
       "1787   How do you explain consciousness?   \n",
       "\n",
       "                                                    url     views  \n",
       "96    https://www.ted.com/talks/richard_dawkins_on_m...   4374792  \n",
       "0     https://www.ted.com/talks/ken_robinson_says_sc...  47227110  \n",
       "644   https://www.ted.com/talks/sam_harris_science_c...   3433437  \n",
       "201   https://www.ted.com/talks/jill_bolte_taylor_s_...  21190883  \n",
       "1787  https://www.ted.com/talks/david_chalmers_how_d...   2162764  "
      ],
      "text/html": "<div>\n<style scoped>\n    .dataframe tbody tr th:only-of-type {\n        vertical-align: middle;\n    }\n\n    .dataframe tbody tr th {\n        vertical-align: top;\n    }\n\n    .dataframe thead th {\n        text-align: right;\n    }\n</style>\n<table border=\"1\" class=\"dataframe\">\n  <thead>\n    <tr style=\"text-align: right;\">\n      <th></th>\n      <th>comments</th>\n      <th>description</th>\n      <th>duration</th>\n      <th>event</th>\n      <th>film_date</th>\n      <th>languages</th>\n      <th>main_speaker</th>\n      <th>name</th>\n      <th>num_speaker</th>\n      <th>published_date</th>\n      <th>ratings</th>\n      <th>related_talks</th>\n      <th>speaker_occupation</th>\n      <th>tags</th>\n      <th>title</th>\n      <th>url</th>\n      <th>views</th>\n    </tr>\n  </thead>\n  <tbody>\n    <tr>\n      <th>96</th>\n      <td>6404</td>\n      <td>Richard Dawkins urges all atheists to openly s...</td>\n      <td>1750</td>\n      <td>TED2002</td>\n      <td>1012608000</td>\n      <td>42</td>\n      <td>Richard Dawkins</td>\n      <td>Richard Dawkins: Militant atheism</td>\n      <td>1</td>\n      <td>1176689220</td>\n      <td>[{'id': 3, 'name': 'Courageous', 'count': 3236...</td>\n      <td>[{'id': 86, 'hero': 'https://pe.tedcdn.com/ima...</td>\n      <td>Evolutionary biologist</td>\n      <td>['God', 'atheism', 'culture', 'religion', 'sci...</td>\n      <td>Militant atheism</td>\n      <td>https://www.ted.com/talks/richard_dawkins_on_m...</td>\n      <td>4374792</td>\n    </tr>\n    <tr>\n      <th>0</th>\n      <td>4553</td>\n      <td>Sir Ken Robinson makes an entertaining and pro...</td>\n      <td>1164</td>\n      <td>TED2006</td>\n      <td>1140825600</td>\n      <td>60</td>\n      <td>Ken Robinson</td>\n      <td>Ken Robinson: Do schools kill creativity?</td>\n      <td>1</td>\n      <td>1151367060</td>\n      <td>[{'id': 7, 'name': 'Funny', 'count': 19645}, {...</td>\n      <td>[{'id': 865, 'hero': 'https://pe.tedcdn.com/im...</td>\n      <td>Author/educator</td>\n      <td>['children', 'creativity', 'culture', 'dance',...</td>\n      <td>Do schools kill creativity?</td>\n      <td>https://www.ted.com/talks/ken_robinson_says_sc...</td>\n      <td>47227110</td>\n    </tr>\n    <tr>\n      <th>644</th>\n      <td>3356</td>\n      <td>Questions of good and evil, right and wrong ar...</td>\n      <td>1386</td>\n      <td>TED2010</td>\n      <td>1265846400</td>\n      <td>39</td>\n      <td>Sam Harris</td>\n      <td>Sam Harris: Science can answer moral questions</td>\n      <td>1</td>\n      <td>1269249180</td>\n      <td>[{'id': 8, 'name': 'Informative', 'count': 923...</td>\n      <td>[{'id': 666, 'hero': 'https://pe.tedcdn.com/im...</td>\n      <td>Neuroscientist, philosopher</td>\n      <td>['culture', 'evolutionary psychology', 'global...</td>\n      <td>Science can answer moral questions</td>\n      <td>https://www.ted.com/talks/sam_harris_science_c...</td>\n      <td>3433437</td>\n    </tr>\n    <tr>\n      <th>201</th>\n      <td>2877</td>\n      <td>Jill Bolte Taylor got a research opportunity f...</td>\n      <td>1099</td>\n      <td>TED2008</td>\n      <td>1204070400</td>\n      <td>49</td>\n      <td>Jill Bolte Taylor</td>\n      <td>Jill Bolte Taylor: My stroke of insight</td>\n      <td>1</td>\n      <td>1205284200</td>\n      <td>[{'id': 22, 'name': 'Fascinating', 'count': 14...</td>\n      <td>[{'id': 184, 'hero': 'https://pe.tedcdn.com/im...</td>\n      <td>Neuroanatomist</td>\n      <td>['biology', 'brain', 'consciousness', 'global ...</td>\n      <td>My stroke of insight</td>\n      <td>https://www.ted.com/talks/jill_bolte_taylor_s_...</td>\n      <td>21190883</td>\n    </tr>\n    <tr>\n      <th>1787</th>\n      <td>2673</td>\n      <td>Our consciousness is a fundamental aspect of o...</td>\n      <td>1117</td>\n      <td>TED2014</td>\n      <td>1395100800</td>\n      <td>33</td>\n      <td>David Chalmers</td>\n      <td>David Chalmers: How do you explain consciousness?</td>\n      <td>1</td>\n      <td>1405350484</td>\n      <td>[{'id': 25, 'name': 'OK', 'count': 280}, {'id'...</td>\n      <td>[{'id': 1308, 'hero': 'https://pe.tedcdn.com/i...</td>\n      <td>Philosopher</td>\n      <td>['brain', 'consciousness', 'neuroscience', 'ph...</td>\n      <td>How do you explain consciousness?</td>\n      <td>https://www.ted.com/talks/david_chalmers_how_d...</td>\n      <td>2162764</td>\n    </tr>\n  </tbody>\n</table>\n</div>"
     },
     "metadata": {},
     "execution_count": 13
    }
   ],
   "source": [
    "ted.sort_values('comments',ascending=False).head()"
   ]
  },
  {
   "cell_type": "code",
   "execution_count": 14,
   "metadata": {},
   "outputs": [],
   "source": [
    "ted['comments_per_view'] = ted.comments / ted.views # for every view of this talk there are x comments"
   ]
  },
  {
   "cell_type": "code",
   "execution_count": 16,
   "metadata": {},
   "outputs": [
    {
     "output_type": "execute_result",
     "data": {
      "text/plain": [
       "     comments                                        description  duration  \\\n",
       "744       649  Hours before New York lawmakers rejected a key...       453   \n",
       "803       834  David Bismark demos a new system for voting th...       422   \n",
       "96       6404  Richard Dawkins urges all atheists to openly s...      1750   \n",
       "694      1502  Filmmaker Sharmeen Obaid-Chinoy takes on a ter...       489   \n",
       "954      2492  Janet Echelman found her true voice as an arti...       566   \n",
       "\n",
       "                     event   film_date  languages           main_speaker  \\\n",
       "744  New York State Senate  1259712000          0        Diane J. Savino   \n",
       "803         TEDGlobal 2010  1279065600         36          David Bismark   \n",
       "96                 TED2002  1012608000         42        Richard Dawkins   \n",
       "694                TED2010  1265760000         32  Sharmeen Obaid-Chinoy   \n",
       "954                TED2011  1299110400         35         Janet Echelman   \n",
       "\n",
       "                                                  name  num_speaker  \\\n",
       "744    Diane J. Savino: The case for same-sex marriage            1   \n",
       "803              David Bismark: E-voting without fraud            1   \n",
       "96                   Richard Dawkins: Militant atheism            1   \n",
       "694  Sharmeen Obaid-Chinoy: Inside a school for sui...            1   \n",
       "954       Janet Echelman: Taking imagination seriously            1   \n",
       "\n",
       "     published_date                                            ratings  \\\n",
       "744      1282062180  [{'id': 25, 'name': 'OK', 'count': 100}, {'id'...   \n",
       "803      1288685640  [{'id': 25, 'name': 'OK', 'count': 111}, {'id'...   \n",
       "96       1176689220  [{'id': 3, 'name': 'Courageous', 'count': 3236...   \n",
       "694      1274865960  [{'id': 23, 'name': 'Jaw-dropping', 'count': 3...   \n",
       "954      1307489760  [{'id': 23, 'name': 'Jaw-dropping', 'count': 3...   \n",
       "\n",
       "                                         related_talks  \\\n",
       "744  [{'id': 217, 'hero': 'https://pe.tedcdn.com/im...   \n",
       "803  [{'id': 803, 'hero': 'https://pe.tedcdn.com/im...   \n",
       "96   [{'id': 86, 'hero': 'https://pe.tedcdn.com/ima...   \n",
       "694  [{'id': 171, 'hero': 'https://pe.tedcdn.com/im...   \n",
       "954  [{'id': 453, 'hero': 'https://pe.tedcdn.com/im...   \n",
       "\n",
       "         speaker_occupation  \\\n",
       "744                 Senator   \n",
       "803  Voting system designer   \n",
       "96   Evolutionary biologist   \n",
       "694               Filmmaker   \n",
       "954                  Artist   \n",
       "\n",
       "                                                  tags  \\\n",
       "744  ['God', 'LGBT', 'culture', 'government', 'law'...   \n",
       "803  ['culture', 'democracy', 'design', 'global iss...   \n",
       "96   ['God', 'atheism', 'culture', 'religion', 'sci...   \n",
       "694  ['TED Fellows', 'children', 'culture', 'film',...   \n",
       "954  ['art', 'cities', 'culture', 'data', 'design',...   \n",
       "\n",
       "                                   title  \\\n",
       "744       The case for same-sex marriage   \n",
       "803               E-voting without fraud   \n",
       "96                      Militant atheism   \n",
       "694  Inside a school for suicide bombers   \n",
       "954         Taking imagination seriously   \n",
       "\n",
       "                                                   url    views  \\\n",
       "744  https://www.ted.com/talks/diane_j_savino_the_c...   292395   \n",
       "803  https://www.ted.com/talks/david_bismark_e_voti...   543551   \n",
       "96   https://www.ted.com/talks/richard_dawkins_on_m...  4374792   \n",
       "694  https://www.ted.com/talks/sharmeen_obaid_chino...  1057238   \n",
       "954           https://www.ted.com/talks/janet_echelman  1832930   \n",
       "\n",
       "     comments_per_view  \n",
       "744           0.002220  \n",
       "803           0.001534  \n",
       "96            0.001464  \n",
       "694           0.001421  \n",
       "954           0.001360  "
      ],
      "text/html": "<div>\n<style scoped>\n    .dataframe tbody tr th:only-of-type {\n        vertical-align: middle;\n    }\n\n    .dataframe tbody tr th {\n        vertical-align: top;\n    }\n\n    .dataframe thead th {\n        text-align: right;\n    }\n</style>\n<table border=\"1\" class=\"dataframe\">\n  <thead>\n    <tr style=\"text-align: right;\">\n      <th></th>\n      <th>comments</th>\n      <th>description</th>\n      <th>duration</th>\n      <th>event</th>\n      <th>film_date</th>\n      <th>languages</th>\n      <th>main_speaker</th>\n      <th>name</th>\n      <th>num_speaker</th>\n      <th>published_date</th>\n      <th>ratings</th>\n      <th>related_talks</th>\n      <th>speaker_occupation</th>\n      <th>tags</th>\n      <th>title</th>\n      <th>url</th>\n      <th>views</th>\n      <th>comments_per_view</th>\n    </tr>\n  </thead>\n  <tbody>\n    <tr>\n      <th>744</th>\n      <td>649</td>\n      <td>Hours before New York lawmakers rejected a key...</td>\n      <td>453</td>\n      <td>New York State Senate</td>\n      <td>1259712000</td>\n      <td>0</td>\n      <td>Diane J. Savino</td>\n      <td>Diane J. Savino: The case for same-sex marriage</td>\n      <td>1</td>\n      <td>1282062180</td>\n      <td>[{'id': 25, 'name': 'OK', 'count': 100}, {'id'...</td>\n      <td>[{'id': 217, 'hero': 'https://pe.tedcdn.com/im...</td>\n      <td>Senator</td>\n      <td>['God', 'LGBT', 'culture', 'government', 'law'...</td>\n      <td>The case for same-sex marriage</td>\n      <td>https://www.ted.com/talks/diane_j_savino_the_c...</td>\n      <td>292395</td>\n      <td>0.002220</td>\n    </tr>\n    <tr>\n      <th>803</th>\n      <td>834</td>\n      <td>David Bismark demos a new system for voting th...</td>\n      <td>422</td>\n      <td>TEDGlobal 2010</td>\n      <td>1279065600</td>\n      <td>36</td>\n      <td>David Bismark</td>\n      <td>David Bismark: E-voting without fraud</td>\n      <td>1</td>\n      <td>1288685640</td>\n      <td>[{'id': 25, 'name': 'OK', 'count': 111}, {'id'...</td>\n      <td>[{'id': 803, 'hero': 'https://pe.tedcdn.com/im...</td>\n      <td>Voting system designer</td>\n      <td>['culture', 'democracy', 'design', 'global iss...</td>\n      <td>E-voting without fraud</td>\n      <td>https://www.ted.com/talks/david_bismark_e_voti...</td>\n      <td>543551</td>\n      <td>0.001534</td>\n    </tr>\n    <tr>\n      <th>96</th>\n      <td>6404</td>\n      <td>Richard Dawkins urges all atheists to openly s...</td>\n      <td>1750</td>\n      <td>TED2002</td>\n      <td>1012608000</td>\n      <td>42</td>\n      <td>Richard Dawkins</td>\n      <td>Richard Dawkins: Militant atheism</td>\n      <td>1</td>\n      <td>1176689220</td>\n      <td>[{'id': 3, 'name': 'Courageous', 'count': 3236...</td>\n      <td>[{'id': 86, 'hero': 'https://pe.tedcdn.com/ima...</td>\n      <td>Evolutionary biologist</td>\n      <td>['God', 'atheism', 'culture', 'religion', 'sci...</td>\n      <td>Militant atheism</td>\n      <td>https://www.ted.com/talks/richard_dawkins_on_m...</td>\n      <td>4374792</td>\n      <td>0.001464</td>\n    </tr>\n    <tr>\n      <th>694</th>\n      <td>1502</td>\n      <td>Filmmaker Sharmeen Obaid-Chinoy takes on a ter...</td>\n      <td>489</td>\n      <td>TED2010</td>\n      <td>1265760000</td>\n      <td>32</td>\n      <td>Sharmeen Obaid-Chinoy</td>\n      <td>Sharmeen Obaid-Chinoy: Inside a school for sui...</td>\n      <td>1</td>\n      <td>1274865960</td>\n      <td>[{'id': 23, 'name': 'Jaw-dropping', 'count': 3...</td>\n      <td>[{'id': 171, 'hero': 'https://pe.tedcdn.com/im...</td>\n      <td>Filmmaker</td>\n      <td>['TED Fellows', 'children', 'culture', 'film',...</td>\n      <td>Inside a school for suicide bombers</td>\n      <td>https://www.ted.com/talks/sharmeen_obaid_chino...</td>\n      <td>1057238</td>\n      <td>0.001421</td>\n    </tr>\n    <tr>\n      <th>954</th>\n      <td>2492</td>\n      <td>Janet Echelman found her true voice as an arti...</td>\n      <td>566</td>\n      <td>TED2011</td>\n      <td>1299110400</td>\n      <td>35</td>\n      <td>Janet Echelman</td>\n      <td>Janet Echelman: Taking imagination seriously</td>\n      <td>1</td>\n      <td>1307489760</td>\n      <td>[{'id': 23, 'name': 'Jaw-dropping', 'count': 3...</td>\n      <td>[{'id': 453, 'hero': 'https://pe.tedcdn.com/im...</td>\n      <td>Artist</td>\n      <td>['art', 'cities', 'culture', 'data', 'design',...</td>\n      <td>Taking imagination seriously</td>\n      <td>https://www.ted.com/talks/janet_echelman</td>\n      <td>1832930</td>\n      <td>0.001360</td>\n    </tr>\n  </tbody>\n</table>\n</div>"
     },
     "metadata": {},
     "execution_count": 16
    }
   ],
   "source": [
    "ted.sort_values('comments_per_view',ascending=False).head()"
   ]
  },
  {
   "cell_type": "code",
   "execution_count": 22,
   "metadata": {},
   "outputs": [
    {
     "output_type": "execute_result",
     "data": {
      "text/plain": [
       "     comments                                        description  duration  \\\n",
       "744       649  Hours before New York lawmakers rejected a key...       453   \n",
       "803       834  David Bismark demos a new system for voting th...       422   \n",
       "96       6404  Richard Dawkins urges all atheists to openly s...      1750   \n",
       "694      1502  Filmmaker Sharmeen Obaid-Chinoy takes on a ter...       489   \n",
       "954      2492  Janet Echelman found her true voice as an arti...       566   \n",
       "\n",
       "                     event   film_date  languages           main_speaker  \\\n",
       "744  New York State Senate  1259712000          0        Diane J. Savino   \n",
       "803         TEDGlobal 2010  1279065600         36          David Bismark   \n",
       "96                 TED2002  1012608000         42        Richard Dawkins   \n",
       "694                TED2010  1265760000         32  Sharmeen Obaid-Chinoy   \n",
       "954                TED2011  1299110400         35         Janet Echelman   \n",
       "\n",
       "                                                  name  num_speaker  \\\n",
       "744    Diane J. Savino: The case for same-sex marriage            1   \n",
       "803              David Bismark: E-voting without fraud            1   \n",
       "96                   Richard Dawkins: Militant atheism            1   \n",
       "694  Sharmeen Obaid-Chinoy: Inside a school for sui...            1   \n",
       "954       Janet Echelman: Taking imagination seriously            1   \n",
       "\n",
       "     published_date                                            ratings  \\\n",
       "744      1282062180  [{'id': 25, 'name': 'OK', 'count': 100}, {'id'...   \n",
       "803      1288685640  [{'id': 25, 'name': 'OK', 'count': 111}, {'id'...   \n",
       "96       1176689220  [{'id': 3, 'name': 'Courageous', 'count': 3236...   \n",
       "694      1274865960  [{'id': 23, 'name': 'Jaw-dropping', 'count': 3...   \n",
       "954      1307489760  [{'id': 23, 'name': 'Jaw-dropping', 'count': 3...   \n",
       "\n",
       "                                         related_talks  \\\n",
       "744  [{'id': 217, 'hero': 'https://pe.tedcdn.com/im...   \n",
       "803  [{'id': 803, 'hero': 'https://pe.tedcdn.com/im...   \n",
       "96   [{'id': 86, 'hero': 'https://pe.tedcdn.com/ima...   \n",
       "694  [{'id': 171, 'hero': 'https://pe.tedcdn.com/im...   \n",
       "954  [{'id': 453, 'hero': 'https://pe.tedcdn.com/im...   \n",
       "\n",
       "         speaker_occupation  \\\n",
       "744                 Senator   \n",
       "803  Voting system designer   \n",
       "96   Evolutionary biologist   \n",
       "694               Filmmaker   \n",
       "954                  Artist   \n",
       "\n",
       "                                                  tags  \\\n",
       "744  ['God', 'LGBT', 'culture', 'government', 'law'...   \n",
       "803  ['culture', 'democracy', 'design', 'global iss...   \n",
       "96   ['God', 'atheism', 'culture', 'religion', 'sci...   \n",
       "694  ['TED Fellows', 'children', 'culture', 'film',...   \n",
       "954  ['art', 'cities', 'culture', 'data', 'design',...   \n",
       "\n",
       "                                   title  \\\n",
       "744       The case for same-sex marriage   \n",
       "803               E-voting without fraud   \n",
       "96                      Militant atheism   \n",
       "694  Inside a school for suicide bombers   \n",
       "954         Taking imagination seriously   \n",
       "\n",
       "                                                   url    views  \\\n",
       "744  https://www.ted.com/talks/diane_j_savino_the_c...   292395   \n",
       "803  https://www.ted.com/talks/david_bismark_e_voti...   543551   \n",
       "96   https://www.ted.com/talks/richard_dawkins_on_m...  4374792   \n",
       "694  https://www.ted.com/talks/sharmeen_obaid_chino...  1057238   \n",
       "954           https://www.ted.com/talks/janet_echelman  1832930   \n",
       "\n",
       "     views_per_comment  \n",
       "744         450.531587  \n",
       "803         651.739808  \n",
       "96          683.134291  \n",
       "694         703.886818  \n",
       "954         735.525682  "
      ],
      "text/html": "<div>\n<style scoped>\n    .dataframe tbody tr th:only-of-type {\n        vertical-align: middle;\n    }\n\n    .dataframe tbody tr th {\n        vertical-align: top;\n    }\n\n    .dataframe thead th {\n        text-align: right;\n    }\n</style>\n<table border=\"1\" class=\"dataframe\">\n  <thead>\n    <tr style=\"text-align: right;\">\n      <th></th>\n      <th>comments</th>\n      <th>description</th>\n      <th>duration</th>\n      <th>event</th>\n      <th>film_date</th>\n      <th>languages</th>\n      <th>main_speaker</th>\n      <th>name</th>\n      <th>num_speaker</th>\n      <th>published_date</th>\n      <th>ratings</th>\n      <th>related_talks</th>\n      <th>speaker_occupation</th>\n      <th>tags</th>\n      <th>title</th>\n      <th>url</th>\n      <th>views</th>\n      <th>views_per_comment</th>\n    </tr>\n  </thead>\n  <tbody>\n    <tr>\n      <th>744</th>\n      <td>649</td>\n      <td>Hours before New York lawmakers rejected a key...</td>\n      <td>453</td>\n      <td>New York State Senate</td>\n      <td>1259712000</td>\n      <td>0</td>\n      <td>Diane J. Savino</td>\n      <td>Diane J. Savino: The case for same-sex marriage</td>\n      <td>1</td>\n      <td>1282062180</td>\n      <td>[{'id': 25, 'name': 'OK', 'count': 100}, {'id'...</td>\n      <td>[{'id': 217, 'hero': 'https://pe.tedcdn.com/im...</td>\n      <td>Senator</td>\n      <td>['God', 'LGBT', 'culture', 'government', 'law'...</td>\n      <td>The case for same-sex marriage</td>\n      <td>https://www.ted.com/talks/diane_j_savino_the_c...</td>\n      <td>292395</td>\n      <td>450.531587</td>\n    </tr>\n    <tr>\n      <th>803</th>\n      <td>834</td>\n      <td>David Bismark demos a new system for voting th...</td>\n      <td>422</td>\n      <td>TEDGlobal 2010</td>\n      <td>1279065600</td>\n      <td>36</td>\n      <td>David Bismark</td>\n      <td>David Bismark: E-voting without fraud</td>\n      <td>1</td>\n      <td>1288685640</td>\n      <td>[{'id': 25, 'name': 'OK', 'count': 111}, {'id'...</td>\n      <td>[{'id': 803, 'hero': 'https://pe.tedcdn.com/im...</td>\n      <td>Voting system designer</td>\n      <td>['culture', 'democracy', 'design', 'global iss...</td>\n      <td>E-voting without fraud</td>\n      <td>https://www.ted.com/talks/david_bismark_e_voti...</td>\n      <td>543551</td>\n      <td>651.739808</td>\n    </tr>\n    <tr>\n      <th>96</th>\n      <td>6404</td>\n      <td>Richard Dawkins urges all atheists to openly s...</td>\n      <td>1750</td>\n      <td>TED2002</td>\n      <td>1012608000</td>\n      <td>42</td>\n      <td>Richard Dawkins</td>\n      <td>Richard Dawkins: Militant atheism</td>\n      <td>1</td>\n      <td>1176689220</td>\n      <td>[{'id': 3, 'name': 'Courageous', 'count': 3236...</td>\n      <td>[{'id': 86, 'hero': 'https://pe.tedcdn.com/ima...</td>\n      <td>Evolutionary biologist</td>\n      <td>['God', 'atheism', 'culture', 'religion', 'sci...</td>\n      <td>Militant atheism</td>\n      <td>https://www.ted.com/talks/richard_dawkins_on_m...</td>\n      <td>4374792</td>\n      <td>683.134291</td>\n    </tr>\n    <tr>\n      <th>694</th>\n      <td>1502</td>\n      <td>Filmmaker Sharmeen Obaid-Chinoy takes on a ter...</td>\n      <td>489</td>\n      <td>TED2010</td>\n      <td>1265760000</td>\n      <td>32</td>\n      <td>Sharmeen Obaid-Chinoy</td>\n      <td>Sharmeen Obaid-Chinoy: Inside a school for sui...</td>\n      <td>1</td>\n      <td>1274865960</td>\n      <td>[{'id': 23, 'name': 'Jaw-dropping', 'count': 3...</td>\n      <td>[{'id': 171, 'hero': 'https://pe.tedcdn.com/im...</td>\n      <td>Filmmaker</td>\n      <td>['TED Fellows', 'children', 'culture', 'film',...</td>\n      <td>Inside a school for suicide bombers</td>\n      <td>https://www.ted.com/talks/sharmeen_obaid_chino...</td>\n      <td>1057238</td>\n      <td>703.886818</td>\n    </tr>\n    <tr>\n      <th>954</th>\n      <td>2492</td>\n      <td>Janet Echelman found her true voice as an arti...</td>\n      <td>566</td>\n      <td>TED2011</td>\n      <td>1299110400</td>\n      <td>35</td>\n      <td>Janet Echelman</td>\n      <td>Janet Echelman: Taking imagination seriously</td>\n      <td>1</td>\n      <td>1307489760</td>\n      <td>[{'id': 23, 'name': 'Jaw-dropping', 'count': 3...</td>\n      <td>[{'id': 453, 'hero': 'https://pe.tedcdn.com/im...</td>\n      <td>Artist</td>\n      <td>['art', 'cities', 'culture', 'data', 'design',...</td>\n      <td>Taking imagination seriously</td>\n      <td>https://www.ted.com/talks/janet_echelman</td>\n      <td>1832930</td>\n      <td>735.525682</td>\n    </tr>\n  </tbody>\n</table>\n</div>"
     },
     "metadata": {},
     "execution_count": 22
    }
   ],
   "source": [
    "ted['views_per_comment'] = ted.views / ted.comments # easier to understand\n",
    "ted.sort_values('views_per_comment').head()\n"
   ]
  },
  {
   "cell_type": "markdown",
   "metadata": {},
   "source": [
    "## 3. Visualize the distribution of comments\n",
    "LESSONS: \n",
    "- frequency distribution\n",
    "- choose plots based on datatypes\n",
    "- use pandas one-liners to iterate thru plots quickly\n",
    "- try modifying the plot defaults\n",
    "- creating plots involves decision making (have to cut/add, plots are summaries)"
   ]
  },
  {
   "cell_type": "code",
   "execution_count": 23,
   "metadata": {},
   "outputs": [
    {
     "output_type": "execute_result",
     "data": {
      "text/plain": [
       "<matplotlib.axes._subplots.AxesSubplot at 0x7fb9d8dd95e0>"
      ]
     },
     "metadata": {},
     "execution_count": 23
    },
    {
     "output_type": "display_data",
     "data": {
      "text/plain": "<Figure size 432x288 with 1 Axes>",
      "image/svg+xml": "<?xml version=\"1.0\" encoding=\"utf-8\" standalone=\"no\"?>\n<!DOCTYPE svg PUBLIC \"-//W3C//DTD SVG 1.1//EN\"\n  \"http://www.w3.org/Graphics/SVG/1.1/DTD/svg11.dtd\">\n<!-- Created with matplotlib (https://matplotlib.org/) -->\n<svg height=\"248.518125pt\" version=\"1.1\" viewBox=\"0 0 381.65 248.518125\" width=\"381.65pt\" xmlns=\"http://www.w3.org/2000/svg\" xmlns:xlink=\"http://www.w3.org/1999/xlink\">\n <defs>\n  <style type=\"text/css\">\n*{stroke-linecap:butt;stroke-linejoin:round;}\n  </style>\n </defs>\n <g id=\"figure_1\">\n  <g id=\"patch_1\">\n   <path d=\"M -0 248.518125 \nL 381.65 248.518125 \nL 381.65 0 \nL -0 0 \nz\n\" style=\"fill:none;\"/>\n  </g>\n  <g id=\"axes_1\">\n   <g id=\"patch_2\">\n    <path d=\"M 39.65 224.64 \nL 374.45 224.64 \nL 374.45 7.2 \nL 39.65 7.2 \nz\n\" style=\"fill:#ffffff;\"/>\n   </g>\n   <g id=\"matplotlib.axis_1\">\n    <g id=\"xtick_1\">\n     <g id=\"line2d_1\">\n      <defs>\n       <path d=\"M 0 0 \nL 0 3.5 \n\" id=\"m0df4e86358\" style=\"stroke:#000000;stroke-width:0.8;\"/>\n      </defs>\n      <g>\n       <use style=\"stroke:#000000;stroke-width:0.8;\" x=\"54.868182\" xlink:href=\"#m0df4e86358\" y=\"224.64\"/>\n      </g>\n     </g>\n     <g id=\"text_1\">\n      <!-- 0 -->\n      <defs>\n       <path d=\"M 31.78125 66.40625 \nQ 24.171875 66.40625 20.328125 58.90625 \nQ 16.5 51.421875 16.5 36.375 \nQ 16.5 21.390625 20.328125 13.890625 \nQ 24.171875 6.390625 31.78125 6.390625 \nQ 39.453125 6.390625 43.28125 13.890625 \nQ 47.125 21.390625 47.125 36.375 \nQ 47.125 51.421875 43.28125 58.90625 \nQ 39.453125 66.40625 31.78125 66.40625 \nz\nM 31.78125 74.21875 \nQ 44.046875 74.21875 50.515625 64.515625 \nQ 56.984375 54.828125 56.984375 36.375 \nQ 56.984375 17.96875 50.515625 8.265625 \nQ 44.046875 -1.421875 31.78125 -1.421875 \nQ 19.53125 -1.421875 13.0625 8.265625 \nQ 6.59375 17.96875 6.59375 36.375 \nQ 6.59375 54.828125 13.0625 64.515625 \nQ 19.53125 74.21875 31.78125 74.21875 \nz\n\" id=\"DejaVuSans-48\"/>\n      </defs>\n      <g transform=\"translate(51.686932 239.238438)scale(0.1 -0.1)\">\n       <use xlink:href=\"#DejaVuSans-48\"/>\n      </g>\n     </g>\n    </g>\n    <g id=\"xtick_2\">\n     <g id=\"line2d_2\">\n      <g>\n       <use style=\"stroke:#000000;stroke-width:0.8;\" x=\"114.570739\" xlink:href=\"#m0df4e86358\" y=\"224.64\"/>\n      </g>\n     </g>\n     <g id=\"text_2\">\n      <!-- 500 -->\n      <defs>\n       <path d=\"M 10.796875 72.90625 \nL 49.515625 72.90625 \nL 49.515625 64.59375 \nL 19.828125 64.59375 \nL 19.828125 46.734375 \nQ 21.96875 47.46875 24.109375 47.828125 \nQ 26.265625 48.1875 28.421875 48.1875 \nQ 40.625 48.1875 47.75 41.5 \nQ 54.890625 34.8125 54.890625 23.390625 \nQ 54.890625 11.625 47.5625 5.09375 \nQ 40.234375 -1.421875 26.90625 -1.421875 \nQ 22.3125 -1.421875 17.546875 -0.640625 \nQ 12.796875 0.140625 7.71875 1.703125 \nL 7.71875 11.625 \nQ 12.109375 9.234375 16.796875 8.0625 \nQ 21.484375 6.890625 26.703125 6.890625 \nQ 35.15625 6.890625 40.078125 11.328125 \nQ 45.015625 15.765625 45.015625 23.390625 \nQ 45.015625 31 40.078125 35.4375 \nQ 35.15625 39.890625 26.703125 39.890625 \nQ 22.75 39.890625 18.8125 39.015625 \nQ 14.890625 38.140625 10.796875 36.28125 \nz\n\" id=\"DejaVuSans-53\"/>\n      </defs>\n      <g transform=\"translate(105.026989 239.238438)scale(0.1 -0.1)\">\n       <use xlink:href=\"#DejaVuSans-53\"/>\n       <use x=\"63.623047\" xlink:href=\"#DejaVuSans-48\"/>\n       <use x=\"127.246094\" xlink:href=\"#DejaVuSans-48\"/>\n      </g>\n     </g>\n    </g>\n    <g id=\"xtick_3\">\n     <g id=\"line2d_3\">\n      <g>\n       <use style=\"stroke:#000000;stroke-width:0.8;\" x=\"174.273296\" xlink:href=\"#m0df4e86358\" y=\"224.64\"/>\n      </g>\n     </g>\n     <g id=\"text_3\">\n      <!-- 1000 -->\n      <defs>\n       <path d=\"M 12.40625 8.296875 \nL 28.515625 8.296875 \nL 28.515625 63.921875 \nL 10.984375 60.40625 \nL 10.984375 69.390625 \nL 28.421875 72.90625 \nL 38.28125 72.90625 \nL 38.28125 8.296875 \nL 54.390625 8.296875 \nL 54.390625 0 \nL 12.40625 0 \nz\n\" id=\"DejaVuSans-49\"/>\n      </defs>\n      <g transform=\"translate(161.548296 239.238438)scale(0.1 -0.1)\">\n       <use xlink:href=\"#DejaVuSans-49\"/>\n       <use x=\"63.623047\" xlink:href=\"#DejaVuSans-48\"/>\n       <use x=\"127.246094\" xlink:href=\"#DejaVuSans-48\"/>\n       <use x=\"190.869141\" xlink:href=\"#DejaVuSans-48\"/>\n      </g>\n     </g>\n    </g>\n    <g id=\"xtick_4\">\n     <g id=\"line2d_4\">\n      <g>\n       <use style=\"stroke:#000000;stroke-width:0.8;\" x=\"233.975853\" xlink:href=\"#m0df4e86358\" y=\"224.64\"/>\n      </g>\n     </g>\n     <g id=\"text_4\">\n      <!-- 1500 -->\n      <g transform=\"translate(221.250853 239.238438)scale(0.1 -0.1)\">\n       <use xlink:href=\"#DejaVuSans-49\"/>\n       <use x=\"63.623047\" xlink:href=\"#DejaVuSans-53\"/>\n       <use x=\"127.246094\" xlink:href=\"#DejaVuSans-48\"/>\n       <use x=\"190.869141\" xlink:href=\"#DejaVuSans-48\"/>\n      </g>\n     </g>\n    </g>\n    <g id=\"xtick_5\">\n     <g id=\"line2d_5\">\n      <g>\n       <use style=\"stroke:#000000;stroke-width:0.8;\" x=\"293.67841\" xlink:href=\"#m0df4e86358\" y=\"224.64\"/>\n      </g>\n     </g>\n     <g id=\"text_5\">\n      <!-- 2000 -->\n      <defs>\n       <path d=\"M 19.1875 8.296875 \nL 53.609375 8.296875 \nL 53.609375 0 \nL 7.328125 0 \nL 7.328125 8.296875 \nQ 12.9375 14.109375 22.625 23.890625 \nQ 32.328125 33.6875 34.8125 36.53125 \nQ 39.546875 41.84375 41.421875 45.53125 \nQ 43.3125 49.21875 43.3125 52.78125 \nQ 43.3125 58.59375 39.234375 62.25 \nQ 35.15625 65.921875 28.609375 65.921875 \nQ 23.96875 65.921875 18.8125 64.3125 \nQ 13.671875 62.703125 7.8125 59.421875 \nL 7.8125 69.390625 \nQ 13.765625 71.78125 18.9375 73 \nQ 24.125 74.21875 28.421875 74.21875 \nQ 39.75 74.21875 46.484375 68.546875 \nQ 53.21875 62.890625 53.21875 53.421875 \nQ 53.21875 48.921875 51.53125 44.890625 \nQ 49.859375 40.875 45.40625 35.40625 \nQ 44.1875 33.984375 37.640625 27.21875 \nQ 31.109375 20.453125 19.1875 8.296875 \nz\n\" id=\"DejaVuSans-50\"/>\n      </defs>\n      <g transform=\"translate(280.95341 239.238438)scale(0.1 -0.1)\">\n       <use xlink:href=\"#DejaVuSans-50\"/>\n       <use x=\"63.623047\" xlink:href=\"#DejaVuSans-48\"/>\n       <use x=\"127.246094\" xlink:href=\"#DejaVuSans-48\"/>\n       <use x=\"190.869141\" xlink:href=\"#DejaVuSans-48\"/>\n      </g>\n     </g>\n    </g>\n    <g id=\"xtick_6\">\n     <g id=\"line2d_6\">\n      <g>\n       <use style=\"stroke:#000000;stroke-width:0.8;\" x=\"353.380968\" xlink:href=\"#m0df4e86358\" y=\"224.64\"/>\n      </g>\n     </g>\n     <g id=\"text_6\">\n      <!-- 2500 -->\n      <g transform=\"translate(340.655968 239.238438)scale(0.1 -0.1)\">\n       <use xlink:href=\"#DejaVuSans-50\"/>\n       <use x=\"63.623047\" xlink:href=\"#DejaVuSans-53\"/>\n       <use x=\"127.246094\" xlink:href=\"#DejaVuSans-48\"/>\n       <use x=\"190.869141\" xlink:href=\"#DejaVuSans-48\"/>\n      </g>\n     </g>\n    </g>\n   </g>\n   <g id=\"matplotlib.axis_2\">\n    <g id=\"ytick_1\">\n     <g id=\"line2d_7\">\n      <defs>\n       <path d=\"M 0 0 \nL -3.5 0 \n\" id=\"m20a483bd07\" style=\"stroke:#000000;stroke-width:0.8;\"/>\n      </defs>\n      <g>\n       <use style=\"stroke:#000000;stroke-width:0.8;\" x=\"39.65\" xlink:href=\"#m20a483bd07\" y=\"214.818117\"/>\n      </g>\n     </g>\n     <g id=\"text_7\">\n      <!-- 0 -->\n      <g transform=\"translate(26.2875 218.617336)scale(0.1 -0.1)\">\n       <use xlink:href=\"#DejaVuSans-48\"/>\n      </g>\n     </g>\n    </g>\n    <g id=\"ytick_2\">\n     <g id=\"line2d_8\">\n      <g>\n       <use style=\"stroke:#000000;stroke-width:0.8;\" x=\"39.65\" xlink:href=\"#m20a483bd07\" y=\"183.941402\"/>\n      </g>\n     </g>\n     <g id=\"text_8\">\n      <!-- 1000 -->\n      <g transform=\"translate(7.2 187.740621)scale(0.1 -0.1)\">\n       <use xlink:href=\"#DejaVuSans-49\"/>\n       <use x=\"63.623047\" xlink:href=\"#DejaVuSans-48\"/>\n       <use x=\"127.246094\" xlink:href=\"#DejaVuSans-48\"/>\n       <use x=\"190.869141\" xlink:href=\"#DejaVuSans-48\"/>\n      </g>\n     </g>\n    </g>\n    <g id=\"ytick_3\">\n     <g id=\"line2d_9\">\n      <g>\n       <use style=\"stroke:#000000;stroke-width:0.8;\" x=\"39.65\" xlink:href=\"#m20a483bd07\" y=\"153.064688\"/>\n      </g>\n     </g>\n     <g id=\"text_9\">\n      <!-- 2000 -->\n      <g transform=\"translate(7.2 156.863906)scale(0.1 -0.1)\">\n       <use xlink:href=\"#DejaVuSans-50\"/>\n       <use x=\"63.623047\" xlink:href=\"#DejaVuSans-48\"/>\n       <use x=\"127.246094\" xlink:href=\"#DejaVuSans-48\"/>\n       <use x=\"190.869141\" xlink:href=\"#DejaVuSans-48\"/>\n      </g>\n     </g>\n    </g>\n    <g id=\"ytick_4\">\n     <g id=\"line2d_10\">\n      <g>\n       <use style=\"stroke:#000000;stroke-width:0.8;\" x=\"39.65\" xlink:href=\"#m20a483bd07\" y=\"122.187973\"/>\n      </g>\n     </g>\n     <g id=\"text_10\">\n      <!-- 3000 -->\n      <defs>\n       <path d=\"M 40.578125 39.3125 \nQ 47.65625 37.796875 51.625 33 \nQ 55.609375 28.21875 55.609375 21.1875 \nQ 55.609375 10.40625 48.1875 4.484375 \nQ 40.765625 -1.421875 27.09375 -1.421875 \nQ 22.515625 -1.421875 17.65625 -0.515625 \nQ 12.796875 0.390625 7.625 2.203125 \nL 7.625 11.71875 \nQ 11.71875 9.328125 16.59375 8.109375 \nQ 21.484375 6.890625 26.8125 6.890625 \nQ 36.078125 6.890625 40.9375 10.546875 \nQ 45.796875 14.203125 45.796875 21.1875 \nQ 45.796875 27.640625 41.28125 31.265625 \nQ 36.765625 34.90625 28.71875 34.90625 \nL 20.21875 34.90625 \nL 20.21875 43.015625 \nL 29.109375 43.015625 \nQ 36.375 43.015625 40.234375 45.921875 \nQ 44.09375 48.828125 44.09375 54.296875 \nQ 44.09375 59.90625 40.109375 62.90625 \nQ 36.140625 65.921875 28.71875 65.921875 \nQ 24.65625 65.921875 20.015625 65.03125 \nQ 15.375 64.15625 9.8125 62.3125 \nL 9.8125 71.09375 \nQ 15.4375 72.65625 20.34375 73.4375 \nQ 25.25 74.21875 29.59375 74.21875 \nQ 40.828125 74.21875 47.359375 69.109375 \nQ 53.90625 64.015625 53.90625 55.328125 \nQ 53.90625 49.265625 50.4375 45.09375 \nQ 46.96875 40.921875 40.578125 39.3125 \nz\n\" id=\"DejaVuSans-51\"/>\n      </defs>\n      <g transform=\"translate(7.2 125.987192)scale(0.1 -0.1)\">\n       <use xlink:href=\"#DejaVuSans-51\"/>\n       <use x=\"63.623047\" xlink:href=\"#DejaVuSans-48\"/>\n       <use x=\"127.246094\" xlink:href=\"#DejaVuSans-48\"/>\n       <use x=\"190.869141\" xlink:href=\"#DejaVuSans-48\"/>\n      </g>\n     </g>\n    </g>\n    <g id=\"ytick_5\">\n     <g id=\"line2d_11\">\n      <g>\n       <use style=\"stroke:#000000;stroke-width:0.8;\" x=\"39.65\" xlink:href=\"#m20a483bd07\" y=\"91.311258\"/>\n      </g>\n     </g>\n     <g id=\"text_11\">\n      <!-- 4000 -->\n      <defs>\n       <path d=\"M 37.796875 64.3125 \nL 12.890625 25.390625 \nL 37.796875 25.390625 \nz\nM 35.203125 72.90625 \nL 47.609375 72.90625 \nL 47.609375 25.390625 \nL 58.015625 25.390625 \nL 58.015625 17.1875 \nL 47.609375 17.1875 \nL 47.609375 0 \nL 37.796875 0 \nL 37.796875 17.1875 \nL 4.890625 17.1875 \nL 4.890625 26.703125 \nz\n\" id=\"DejaVuSans-52\"/>\n      </defs>\n      <g transform=\"translate(7.2 95.110477)scale(0.1 -0.1)\">\n       <use xlink:href=\"#DejaVuSans-52\"/>\n       <use x=\"63.623047\" xlink:href=\"#DejaVuSans-48\"/>\n       <use x=\"127.246094\" xlink:href=\"#DejaVuSans-48\"/>\n       <use x=\"190.869141\" xlink:href=\"#DejaVuSans-48\"/>\n      </g>\n     </g>\n    </g>\n    <g id=\"ytick_6\">\n     <g id=\"line2d_12\">\n      <g>\n       <use style=\"stroke:#000000;stroke-width:0.8;\" x=\"39.65\" xlink:href=\"#m20a483bd07\" y=\"60.434544\"/>\n      </g>\n     </g>\n     <g id=\"text_12\">\n      <!-- 5000 -->\n      <g transform=\"translate(7.2 64.233763)scale(0.1 -0.1)\">\n       <use xlink:href=\"#DejaVuSans-53\"/>\n       <use x=\"63.623047\" xlink:href=\"#DejaVuSans-48\"/>\n       <use x=\"127.246094\" xlink:href=\"#DejaVuSans-48\"/>\n       <use x=\"190.869141\" xlink:href=\"#DejaVuSans-48\"/>\n      </g>\n     </g>\n    </g>\n    <g id=\"ytick_7\">\n     <g id=\"line2d_13\">\n      <g>\n       <use style=\"stroke:#000000;stroke-width:0.8;\" x=\"39.65\" xlink:href=\"#m20a483bd07\" y=\"29.557829\"/>\n      </g>\n     </g>\n     <g id=\"text_13\">\n      <!-- 6000 -->\n      <defs>\n       <path d=\"M 33.015625 40.375 \nQ 26.375 40.375 22.484375 35.828125 \nQ 18.609375 31.296875 18.609375 23.390625 \nQ 18.609375 15.53125 22.484375 10.953125 \nQ 26.375 6.390625 33.015625 6.390625 \nQ 39.65625 6.390625 43.53125 10.953125 \nQ 47.40625 15.53125 47.40625 23.390625 \nQ 47.40625 31.296875 43.53125 35.828125 \nQ 39.65625 40.375 33.015625 40.375 \nz\nM 52.59375 71.296875 \nL 52.59375 62.3125 \nQ 48.875 64.0625 45.09375 64.984375 \nQ 41.3125 65.921875 37.59375 65.921875 \nQ 27.828125 65.921875 22.671875 59.328125 \nQ 17.53125 52.734375 16.796875 39.40625 \nQ 19.671875 43.65625 24.015625 45.921875 \nQ 28.375 48.1875 33.59375 48.1875 \nQ 44.578125 48.1875 50.953125 41.515625 \nQ 57.328125 34.859375 57.328125 23.390625 \nQ 57.328125 12.15625 50.6875 5.359375 \nQ 44.046875 -1.421875 33.015625 -1.421875 \nQ 20.359375 -1.421875 13.671875 8.265625 \nQ 6.984375 17.96875 6.984375 36.375 \nQ 6.984375 53.65625 15.1875 63.9375 \nQ 23.390625 74.21875 37.203125 74.21875 \nQ 40.921875 74.21875 44.703125 73.484375 \nQ 48.484375 72.75 52.59375 71.296875 \nz\n\" id=\"DejaVuSans-54\"/>\n      </defs>\n      <g transform=\"translate(7.2 33.357048)scale(0.1 -0.1)\">\n       <use xlink:href=\"#DejaVuSans-54\"/>\n       <use x=\"63.623047\" xlink:href=\"#DejaVuSans-48\"/>\n       <use x=\"127.246094\" xlink:href=\"#DejaVuSans-48\"/>\n       <use x=\"190.869141\" xlink:href=\"#DejaVuSans-48\"/>\n      </g>\n     </g>\n    </g>\n   </g>\n   <g id=\"line2d_14\">\n    <path clip-path=\"url(#pb634b5ead1)\" d=\"M 54.868182 74.236435 \nL 54.987587 206.635788 \nL 55.106992 210.989404 \nL 55.226397 208.642774 \nL 55.465207 194.068965 \nL 55.584613 186.442416 \nL 55.704018 213.397788 \nL 55.823423 188.511156 \nL 55.942828 187.029074 \nL 56.062233 212.378857 \nL 56.181638 213.119898 \nL 56.301043 212.62587 \nL 56.420448 207.345952 \nL 56.539853 211.761322 \nL 56.659259 204.783185 \nL 56.778664 205.400719 \nL 56.898069 212.100966 \nL 57.017474 209.785213 \nL 57.136879 212.224473 \nL 57.256284 211.483432 \nL 57.375689 209.105925 \nL 57.495094 213.274281 \nL 57.614499 197.650664 \nL 57.733905 211.205541 \nL 57.85331 209.136802 \nL 57.972715 199.163623 \nL 58.09212 211.884829 \nL 58.211525 203.856883 \nL 58.33093 184.867704 \nL 58.450335 184.219293 \nL 58.56974 208.241377 \nL 58.689145 195.921568 \nL 58.808551 212.53324 \nL 59.047361 213.490418 \nL 59.166766 212.749377 \nL 59.286171 209.075048 \nL 59.405576 213.058144 \nL 59.524981 211.359925 \nL 59.763792 213.799185 \nL 59.883197 211.576062 \nL 60.002602 199.56502 \nL 60.241412 210.217487 \nL 60.360817 213.212528 \nL 60.480222 196.971376 \nL 60.599627 211.884829 \nL 60.719032 208.673651 \nL 60.838438 212.193596 \nL 60.957843 199.410636 \nL 61.077248 203.362856 \nL 61.196653 212.996391 \nL 61.316058 208.550144 \nL 61.554868 213.366911 \nL 61.674273 212.008336 \nL 61.793678 207.963486 \nL 62.032489 213.953569 \nL 62.151894 212.842007 \nL 62.271299 207.83998 \nL 62.390704 211.823076 \nL 62.510109 212.070089 \nL 62.629514 211.514309 \nL 62.868324 208.02524 \nL 63.107135 212.100966 \nL 63.22654 210.804144 \nL 63.345945 213.305158 \nL 63.584755 211.514309 \nL 63.70416 213.274281 \nL 63.823565 212.409733 \nL 64.062376 213.984446 \nL 64.301186 210.773267 \nL 64.420591 210.896774 \nL 64.539996 213.768309 \nL 64.659401 213.366911 \nL 64.778806 204.474418 \nL 65.017617 213.058144 \nL 65.256427 213.768309 \nL 65.375832 199.348883 \nL 65.734047 213.027268 \nL 65.853452 213.027268 \nL 65.972857 212.502363 \nL 66.092263 213.274281 \nL 66.211668 196.662609 \nL 66.331073 17.083636 \nL 66.450478 213.305158 \nL 66.569883 213.613925 \nL 66.689288 213.521295 \nL 66.808693 212.749377 \nL 66.928098 213.089021 \nL 67.047503 212.594994 \nL 67.166909 204.690555 \nL 67.286314 213.830062 \nL 67.405719 211.761322 \nL 67.525124 207.716473 \nL 67.644529 212.131843 \nL 67.883339 205.709486 \nL 68.002744 210.896774 \nL 68.12215 210.989404 \nL 68.241555 208.02524 \nL 68.36096 214.385843 \nL 68.480365 205.400719 \nL 68.59977 213.984446 \nL 68.719175 214.138829 \nL 68.83858 206.759295 \nL 68.957985 207.407706 \nL 69.07739 202.714445 \nL 69.196796 210.18661 \nL 69.435606 210.618884 \nL 69.555011 210.927651 \nL 69.674416 206.296144 \nL 69.793821 207.685596 \nL 69.913226 212.34798 \nL 70.152036 211.483432 \nL 70.271442 209.445569 \nL 70.390847 213.860939 \nL 70.510252 210.18661 \nL 70.629657 212.44061 \nL 70.749062 211.545185 \nL 70.987872 213.706555 \nL 71.107277 213.305158 \nL 71.346088 210.155733 \nL 71.465493 210.927651 \nL 71.584898 205.431596 \nL 71.704303 210.989404 \nL 71.823708 193.914581 \nL 72.062518 212.811131 \nL 72.181923 212.25535 \nL 72.301329 209.599952 \nL 72.420734 213.922692 \nL 72.540139 207.870856 \nL 72.778949 212.34798 \nL 72.898354 207.345952 \nL 73.017759 213.428665 \nL 73.137164 210.340993 \nL 73.256569 201.479376 \nL 73.375975 212.842007 \nL 73.614785 202.096911 \nL 73.73419 204.690555 \nL 73.853595 213.583048 \nL 73.973 206.203514 \nL 74.21181 213.397788 \nL 74.331215 213.860939 \nL 74.450621 209.105925 \nL 74.570026 210.00135 \nL 74.689431 209.877843 \nL 74.808836 210.063103 \nL 74.928241 196.168581 \nL 75.167051 212.62587 \nL 75.405861 200.460445 \nL 75.525267 212.62587 \nL 75.644672 211.884829 \nL 75.764077 207.809103 \nL 75.883482 197.712417 \nL 76.002887 213.583048 \nL 76.241697 213.552172 \nL 76.361102 211.884829 \nL 76.480508 208.488391 \nL 76.719318 213.768309 \nL 76.838723 211.205541 \nL 77.196938 213.891816 \nL 77.316343 209.723459 \nL 77.435748 212.965514 \nL 77.555154 211.576062 \nL 77.793964 213.922692 \nL 77.913369 213.397788 \nL 78.032774 212.224473 \nL 78.271584 214.015322 \nL 78.390989 212.656747 \nL 78.510394 212.934637 \nL 78.6298 210.588007 \nL 78.749205 212.842007 \nL 78.86861 125.985809 \nL 78.988015 214.540227 \nL 79.226825 200.738335 \nL 79.34623 212.687624 \nL 79.465635 212.749377 \nL 79.704446 207.068062 \nL 79.823851 212.749377 \nL 79.943256 212.286226 \nL 80.062661 213.613925 \nL 80.182066 212.7185 \nL 80.420876 194.315979 \nL 80.659687 212.131843 \nL 80.779092 211.977459 \nL 80.898497 213.243405 \nL 81.017902 210.340993 \nL 81.137307 198.329951 \nL 81.495522 213.830062 \nL 81.614927 203.826007 \nL 81.734333 212.687624 \nL 81.853738 212.286226 \nL 81.973143 205.462473 \nL 82.092548 208.30313 \nL 82.211953 198.237321 \nL 82.450763 212.965514 \nL 82.570168 212.471487 \nL 82.689573 213.305158 \nL 82.808979 210.526254 \nL 82.928384 203.764253 \nL 83.047789 213.058144 \nL 83.167194 213.490418 \nL 83.286599 209.445569 \nL 83.406004 212.471487 \nL 83.525409 212.193596 \nL 83.644814 208.086993 \nL 83.883625 212.25535 \nL 84.00303 210.773267 \nL 84.122435 211.143788 \nL 84.24184 195.118773 \nL 84.361245 213.490418 \nL 84.48065 213.521295 \nL 84.600055 213.274281 \nL 84.71946 213.644802 \nL 84.838866 208.735404 \nL 84.958271 213.305158 \nL 85.077676 213.552172 \nL 85.197081 213.490418 \nL 85.316486 209.692582 \nL 85.435891 212.842007 \nL 85.555296 212.996391 \nL 85.674701 212.131843 \nL 85.794106 207.747349 \nL 85.913512 190.394636 \nL 86.032917 196.816992 \nL 86.152322 194.161595 \nL 86.391132 214.354966 \nL 86.510537 210.588007 \nL 86.629942 212.656747 \nL 86.749347 212.378857 \nL 86.868752 213.706555 \nL 86.988158 207.623843 \nL 87.226968 212.780254 \nL 87.346373 214.32409 \nL 87.465778 206.419651 \nL 87.585183 212.039213 \nL 87.704588 212.34798 \nL 87.943398 210.680637 \nL 88.062804 213.428665 \nL 88.182209 213.119898 \nL 88.301614 209.445569 \nL 88.421019 211.977459 \nL 88.540424 211.761322 \nL 88.659829 213.150774 \nL 88.779234 212.008336 \nL 88.898639 212.903761 \nL 89.018045 210.155733 \nL 89.13745 212.903761 \nL 89.256855 212.193596 \nL 89.37626 213.089021 \nL 89.61507 212.7185 \nL 89.734475 214.447596 \nL 89.85388 208.056117 \nL 89.973285 188.94343 \nL 90.092691 211.823076 \nL 90.212096 211.668692 \nL 90.331501 213.428665 \nL 90.450906 202.992335 \nL 90.689716 213.613925 \nL 90.809121 208.086993 \nL 91.047931 213.552172 \nL 91.167337 209.507322 \nL 91.406147 213.799185 \nL 91.525552 209.260308 \nL 91.764362 214.354966 \nL 91.883767 211.946583 \nL 92.003172 206.23439 \nL 92.122577 214.107953 \nL 92.241983 213.490418 \nL 92.361388 211.112911 \nL 92.480793 211.390802 \nL 92.600198 213.922692 \nL 92.719603 207.315075 \nL 92.839008 213.583048 \nL 92.958413 208.272254 \nL 93.197224 213.552172 \nL 93.316629 213.675679 \nL 93.555439 211.761322 \nL 93.674844 213.891816 \nL 93.794249 210.124856 \nL 93.913654 213.397788 \nL 94.033059 212.286226 \nL 94.152464 213.891816 \nL 94.27187 213.984446 \nL 94.51068 210.526254 \nL 94.74949 213.058144 \nL 94.9883 213.922692 \nL 95.107705 212.34798 \nL 95.22711 213.243405 \nL 95.346516 212.070089 \nL 95.465921 213.706555 \nL 95.585326 206.944555 \nL 95.704731 213.706555 \nL 95.824136 207.83998 \nL 95.943541 213.799185 \nL 96.182351 212.780254 \nL 96.421162 210.896774 \nL 96.540567 214.231459 \nL 96.659972 213.860939 \nL 96.779377 213.027268 \nL 96.898782 211.390802 \nL 97.018187 213.490418 \nL 97.137592 207.716473 \nL 97.376403 213.521295 \nL 97.615213 211.236418 \nL 97.734618 212.224473 \nL 97.854023 211.236418 \nL 97.973428 214.015322 \nL 98.092833 214.077076 \nL 98.212238 210.989404 \nL 98.451049 214.077076 \nL 98.570454 212.7185 \nL 98.689859 213.521295 \nL 98.809264 212.070089 \nL 99.048074 213.706555 \nL 99.167479 214.138829 \nL 99.286884 211.205541 \nL 99.406289 213.737432 \nL 99.525695 210.37187 \nL 99.6451 213.521295 \nL 99.764505 212.749377 \nL 99.88391 213.274281 \nL 100.003315 213.181651 \nL 100.12272 212.039213 \nL 100.242125 200.367815 \nL 100.36153 165.291867 \nL 100.480935 214.169706 \nL 100.600341 210.27924 \nL 100.719746 199.225376 \nL 100.839151 200.985349 \nL 100.958556 210.649761 \nL 101.077961 208.519267 \nL 101.197366 209.630829 \nL 101.316771 208.611897 \nL 101.436176 212.996391 \nL 101.555582 209.723459 \nL 101.674987 213.891816 \nL 101.913797 210.896774 \nL 102.033202 212.008336 \nL 102.152607 210.00135 \nL 102.272012 212.934637 \nL 102.391417 202.189541 \nL 102.630228 213.428665 \nL 102.749633 191.1048 \nL 102.988443 210.124856 \nL 103.107848 209.291185 \nL 103.346658 206.172637 \nL 103.466063 211.606939 \nL 103.585468 211.082035 \nL 103.704874 207.623843 \nL 103.824279 211.267295 \nL 103.943684 211.143788 \nL 104.063089 212.008336 \nL 104.182494 206.512281 \nL 104.421304 213.613925 \nL 104.660114 211.205541 \nL 104.77952 214.262336 \nL 104.898925 205.740363 \nL 105.01833 214.107953 \nL 105.25714 201.849897 \nL 105.49595 211.977459 \nL 105.615355 202.807075 \nL 105.854166 211.637815 \nL 105.973571 206.450527 \nL 106.092976 213.119898 \nL 106.212381 211.329048 \nL 106.451191 213.799185 \nL 106.570596 207.469459 \nL 106.690001 214.200583 \nL 106.809407 208.581021 \nL 107.048217 211.359925 \nL 107.167622 211.977459 \nL 107.287027 211.514309 \nL 107.406432 210.433624 \nL 107.645242 212.34798 \nL 107.764647 188.696416 \nL 107.884053 206.265267 \nL 108.003458 206.604911 \nL 108.242268 210.958528 \nL 108.361673 210.711514 \nL 108.481078 212.100966 \nL 108.600483 211.452555 \nL 108.839293 203.88776 \nL 109.078104 212.903761 \nL 109.197509 196.569979 \nL 109.316914 196.662609 \nL 109.555724 211.637815 \nL 109.794534 204.844938 \nL 109.91394 210.340993 \nL 110.033345 210.402747 \nL 110.15275 213.119898 \nL 110.39156 209.507322 \nL 110.510965 212.687624 \nL 110.63037 211.359925 \nL 110.749775 212.594994 \nL 110.86918 209.198555 \nL 110.988586 211.637815 \nL 111.227396 194.995266 \nL 111.346801 211.421678 \nL 111.585611 209.692582 \nL 111.824421 213.521295 \nL 111.943826 212.965514 \nL 112.063232 202.529185 \nL 112.182637 209.507322 \nL 112.302042 201.757267 \nL 112.421447 214.015322 \nL 112.540852 211.699569 \nL 112.660257 212.34798 \nL 112.779662 210.37187 \nL 112.899067 200.213431 \nL 113.018472 213.150774 \nL 113.137878 212.317103 \nL 113.257283 210.032226 \nL 113.496093 198.947486 \nL 113.615498 200.275184 \nL 113.734903 212.193596 \nL 113.854308 195.643677 \nL 113.973713 211.637815 \nL 114.093119 191.598828 \nL 114.331929 210.4645 \nL 114.451334 208.334007 \nL 114.570739 181.038991 \nL 114.809549 211.051158 \nL 114.928954 211.020281 \nL 115.048359 211.761322 \nL 115.167765 211.174665 \nL 115.28717 212.008336 \nL 115.406575 210.958528 \nL 115.52598 212.965514 \nL 115.645385 205.925623 \nL 115.76479 211.421678 \nL 115.884195 202.899705 \nL 116.123005 212.008336 \nL 116.242411 207.809103 \nL 116.361816 211.483432 \nL 116.481221 204.690555 \nL 116.600626 212.008336 \nL 116.720031 211.853952 \nL 116.839436 211.421678 \nL 116.958841 205.802116 \nL 117.197651 213.212528 \nL 117.317057 209.105925 \nL 117.436462 212.842007 \nL 117.555867 205.215459 \nL 117.675272 212.656747 \nL 117.794677 209.939596 \nL 117.914082 211.390802 \nL 118.033487 207.160692 \nL 118.152892 179.155512 \nL 118.391703 210.217487 \nL 118.511108 213.058144 \nL 118.869323 204.227404 \nL 119.108133 210.711514 \nL 119.227538 212.070089 \nL 119.466349 207.623843 \nL 119.585754 211.359925 \nL 119.705159 206.481404 \nL 119.824564 210.00135 \nL 119.943969 206.821048 \nL 120.182779 213.397788 \nL 120.302184 210.124856 \nL 120.42159 212.934637 \nL 120.540995 210.989404 \nL 120.779805 212.656747 \nL 120.89921 173.782963 \nL 121.018615 213.274281 \nL 121.13802 213.119898 \nL 121.257425 200.089924 \nL 121.37683 212.100966 \nL 121.496236 206.296144 \nL 121.735046 210.248363 \nL 121.854451 196.446472 \nL 122.212666 210.310117 \nL 122.332071 210.18661 \nL 122.451477 213.613925 \nL 122.570882 197.774171 \nL 122.690287 212.687624 \nL 122.809692 213.089021 \nL 122.929097 212.842007 \nL 123.048502 209.538199 \nL 123.167907 211.823076 \nL 123.287312 211.853952 \nL 123.406717 209.445569 \nL 123.526123 213.089021 \nL 123.884338 209.136802 \nL 124.003743 209.630829 \nL 124.123148 205.338966 \nL 124.242553 211.576062 \nL 124.361958 211.946583 \nL 124.481363 203.084965 \nL 124.600769 213.027268 \nL 124.720174 205.431596 \nL 124.839579 213.521295 \nL 125.078389 210.989404 \nL 125.197794 208.519267 \nL 125.317199 212.131843 \nL 125.436604 211.946583 \nL 125.556009 206.265267 \nL 125.79482 214.200583 \nL 126.03363 205.67861 \nL 126.153035 213.737432 \nL 126.27244 210.155733 \nL 126.391845 211.606939 \nL 126.630656 209.352939 \nL 126.869466 213.675679 \nL 126.988871 200.244308 \nL 127.108276 210.37187 \nL 127.347086 203.826007 \nL 127.585896 211.884829 \nL 127.705302 212.7185 \nL 127.824707 209.538199 \nL 127.944112 213.706555 \nL 128.063517 208.766281 \nL 128.182922 179.711292 \nL 128.302327 208.364884 \nL 128.541137 206.604911 \nL 128.660542 185.546992 \nL 128.779948 210.433624 \nL 128.899353 206.265267 \nL 129.018758 211.421678 \nL 129.138163 202.992335 \nL 129.257568 212.7185 \nL 129.615783 201.695513 \nL 129.735188 212.039213 \nL 129.973999 210.310117 \nL 130.332214 206.851925 \nL 130.451619 212.039213 \nL 130.690429 205.030199 \nL 130.809835 209.754336 \nL 130.92924 197.650664 \nL 131.048645 211.699569 \nL 131.16805 212.286226 \nL 131.287455 211.699569 \nL 131.40686 174.400498 \nL 131.526265 211.606939 \nL 131.64567 212.564117 \nL 131.765075 111.195863 \nL 131.884481 212.471487 \nL 132.123291 209.260308 \nL 132.242696 209.260308 \nL 132.362101 212.53324 \nL 132.481506 206.481404 \nL 132.720316 210.588007 \nL 132.959127 190.271129 \nL 133.197937 206.604911 \nL 133.317342 210.495377 \nL 133.436747 209.167678 \nL 133.556152 212.996391 \nL 133.675557 208.889788 \nL 133.794962 144.666221 \nL 133.914367 211.205541 \nL 134.033773 210.495377 \nL 134.153178 212.811131 \nL 134.272583 210.124856 \nL 134.391988 212.44061 \nL 134.511393 167.113593 \nL 134.630798 213.644802 \nL 134.750203 209.229432 \nL 134.869608 212.070089 \nL 134.989014 210.18661 \nL 135.108419 206.23439 \nL 135.227824 212.224473 \nL 135.347229 212.378857 \nL 135.466634 206.203514 \nL 135.586039 208.457514 \nL 135.705444 155.226058 \nL 135.944254 211.112911 \nL 136.06366 212.842007 \nL 136.183065 205.122829 \nL 136.30247 205.431596 \nL 136.421875 211.792199 \nL 136.54128 200.800089 \nL 136.660685 207.623843 \nL 137.0189 194.748253 \nL 137.138306 212.7185 \nL 137.257711 208.272254 \nL 137.496521 176.716251 \nL 137.615926 205.431596 \nL 137.735331 168.441292 \nL 137.854736 210.526254 \nL 137.974141 212.193596 \nL 138.093546 212.100966 \nL 138.451762 200.089924 \nL 138.690572 210.433624 \nL 138.809977 202.683568 \nL 138.929382 212.16272 \nL 139.168193 186.380663 \nL 139.287598 210.217487 \nL 139.407003 188.974307 \nL 139.645813 212.903761 \nL 139.765218 193.729321 \nL 139.884623 210.032226 \nL 140.004028 203.60987 \nL 140.123433 210.649761 \nL 140.242839 210.27924 \nL 140.362244 205.9565 \nL 140.481649 210.55713 \nL 140.601054 205.740363 \nL 140.839864 212.687624 \nL 141.078674 206.975432 \nL 141.198079 210.896774 \nL 141.317485 205.67861 \nL 141.43689 210.18661 \nL 141.556295 196.075951 \nL 141.6757 203.455486 \nL 141.795105 200.645705 \nL 141.91451 210.4645 \nL 142.033915 177.241155 \nL 142.392131 206.357897 \nL 142.511536 196.878746 \nL 142.630941 211.329048 \nL 142.750346 185.207348 \nL 142.869751 211.020281 \nL 142.989156 208.086993 \nL 143.108561 213.027268 \nL 143.227966 195.890691 \nL 143.347372 209.476445 \nL 143.466777 209.599952 \nL 143.705587 194.779129 \nL 143.944397 211.761322 \nL 144.063802 205.9565 \nL 144.183207 205.709486 \nL 144.302612 206.018253 \nL 144.422018 207.531212 \nL 144.541423 202.343924 \nL 144.660828 212.780254 \nL 144.780233 209.414692 \nL 144.899638 210.588007 \nL 145.138448 197.280143 \nL 145.257853 208.179623 \nL 145.377258 196.847869 \nL 145.496664 209.414692 \nL 145.616069 195.489294 \nL 145.735474 212.656747 \nL 145.974284 211.823076 \nL 146.332499 199.873787 \nL 146.57131 210.958528 \nL 146.690715 212.965514 \nL 146.929525 203.733377 \nL 147.04893 213.583048 \nL 147.407145 207.747349 \nL 147.526551 213.583048 \nL 147.645956 210.4645 \nL 147.765361 202.127787 \nL 147.884766 212.7185 \nL 148.123576 206.604911 \nL 148.242981 203.578993 \nL 148.362386 213.737432 \nL 148.720602 185.361731 \nL 148.959412 212.44061 \nL 149.078817 212.687624 \nL 149.317627 207.870856 \nL 149.437032 192.648636 \nL 149.556437 206.604911 \nL 149.675843 206.821048 \nL 149.914653 212.872884 \nL 150.153463 206.666664 \nL 150.272868 212.008336 \nL 150.392273 212.25535 \nL 150.511678 210.37187 \nL 150.631083 204.227404 \nL 150.750489 189.066937 \nL 150.869894 213.027268 \nL 151.108704 207.83998 \nL 151.347514 212.53324 \nL 151.466919 188.57291 \nL 151.586324 210.310117 \nL 151.70573 210.680637 \nL 151.825135 196.940499 \nL 152.063945 213.212528 \nL 152.18335 205.400719 \nL 152.302755 213.860939 \nL 152.541565 209.044171 \nL 152.66097 196.631732 \nL 152.780376 208.982418 \nL 152.899781 191.135677 \nL 153.138591 205.647733 \nL 153.377401 211.205541 \nL 153.496806 208.364884 \nL 153.616211 187.245211 \nL 153.735616 208.02524 \nL 153.855022 189.159567 \nL 154.093832 208.056117 \nL 154.213237 205.832993 \nL 154.332642 200.213431 \nL 154.452047 210.09398 \nL 154.571452 188.017129 \nL 154.690857 212.7185 \nL 154.810262 155.318688 \nL 154.929668 206.419651 \nL 155.049073 202.189541 \nL 155.168478 141.516796 \nL 155.287883 208.2105 \nL 155.407288 208.426637 \nL 155.526693 196.539102 \nL 155.646098 208.488391 \nL 155.765503 207.098938 \nL 155.884909 209.291185 \nL 156.004314 204.875815 \nL 156.123719 195.798061 \nL 156.362529 210.433624 \nL 156.481934 203.826007 \nL 156.601339 213.119898 \nL 156.720744 211.298172 \nL 156.840149 186.41154 \nL 156.959555 211.792199 \nL 157.198365 210.310117 \nL 157.31777 213.027268 \nL 157.55658 211.792199 \nL 157.675985 209.630829 \nL 157.79539 204.011267 \nL 157.914795 212.070089 \nL 158.034201 206.080007 \nL 158.273011 212.378857 \nL 158.392416 207.747349 \nL 158.511821 211.946583 \nL 158.631226 212.224473 \nL 158.750631 204.103897 \nL 158.989441 212.471487 \nL 159.108847 211.514309 \nL 159.228252 206.388774 \nL 159.347657 213.644802 \nL 159.467062 197.68154 \nL 159.586467 212.286226 \nL 159.705872 211.823076 \nL 159.825277 209.785213 \nL 159.944682 203.146719 \nL 160.064088 208.951541 \nL 160.302898 207.129815 \nL 160.422303 208.581021 \nL 160.541708 197.897677 \nL 160.780518 210.680637 \nL 161.019328 207.438582 \nL 161.258139 211.452555 \nL 161.377544 194.902636 \nL 161.616354 207.654719 \nL 161.735759 190.950417 \nL 161.974569 212.62587 \nL 162.093974 203.918637 \nL 162.332785 211.668692 \nL 162.45219 205.894747 \nL 162.571595 206.481404 \nL 162.691 212.16272 \nL 162.810405 206.23439 \nL 162.92981 211.421678 \nL 163.288026 208.426637 \nL 163.407431 213.830062 \nL 163.526836 198.082938 \nL 163.765646 210.680637 \nL 163.885051 204.814062 \nL 164.004456 206.388774 \nL 164.123861 198.484335 \nL 164.243267 199.997294 \nL 164.482077 212.687624 \nL 164.601482 202.652691 \nL 164.720887 204.690555 \nL 164.840292 212.409733 \nL 165.079102 207.531212 \nL 165.198507 211.143788 \nL 165.317913 199.163623 \nL 165.556723 212.34798 \nL 165.676128 210.37187 \nL 165.795533 203.60987 \nL 165.914938 209.816089 \nL 166.034343 208.241377 \nL 166.153748 211.915706 \nL 166.273153 205.585979 \nL 166.511964 212.687624 \nL 166.631369 209.569076 \nL 166.750774 210.402747 \nL 166.870179 201.63376 \nL 166.989584 211.884829 \nL 167.108989 205.277212 \nL 167.347799 212.378857 \nL 167.467205 211.823076 \nL 167.58661 209.723459 \nL 167.706015 195.828938 \nL 167.82542 212.594994 \nL 168.06423 209.599952 \nL 168.183635 211.946583 \nL 168.30304 204.536171 \nL 168.541851 210.649761 \nL 168.661256 208.982418 \nL 168.780661 137.873344 \nL 168.900066 202.992335 \nL 169.019471 207.376829 \nL 169.138876 204.350911 \nL 169.258281 211.020281 \nL 169.377686 206.14176 \nL 169.616497 211.082035 \nL 169.735902 207.83998 \nL 169.855307 211.730446 \nL 169.974712 206.203514 \nL 170.094117 208.02524 \nL 170.213522 212.409733 \nL 170.332927 212.193596 \nL 170.571738 200.275184 \nL 170.810548 208.673651 \nL 170.929953 211.977459 \nL 171.049358 192.092855 \nL 171.168763 209.908719 \nL 171.407573 208.148747 \nL 171.646384 211.020281 \nL 171.885194 205.061075 \nL 172.004599 208.673651 \nL 172.124004 207.963486 \nL 172.243409 195.643677 \nL 172.362814 205.802116 \nL 172.482219 201.232363 \nL 172.601625 208.272254 \nL 172.72103 207.469459 \nL 172.95984 209.816089 \nL 173.079245 203.98039 \nL 173.19865 208.982418 \nL 173.43746 202.313048 \nL 173.556865 212.502363 \nL 173.676271 194.562992 \nL 173.915081 210.773267 \nL 174.034486 212.286226 \nL 174.153891 205.215459 \nL 174.273296 210.773267 \nL 174.392701 203.084965 \nL 174.512106 212.872884 \nL 174.631511 210.402747 \nL 174.750917 204.844938 \nL 174.870322 210.00135 \nL 174.989727 209.445569 \nL 175.109132 212.409733 \nL 175.228537 211.452555 \nL 175.347942 207.253322 \nL 175.467347 209.908719 \nL 175.586752 203.270226 \nL 175.825563 209.661706 \nL 175.944968 210.248363 \nL 176.064373 209.846966 \nL 176.183778 210.927651 \nL 176.303183 196.539102 \nL 176.541993 211.668692 \nL 176.661398 210.37187 \nL 176.780804 207.809103 \nL 176.900209 207.685596 \nL 177.139019 213.181651 \nL 177.258424 204.350911 \nL 177.377829 211.205541 \nL 177.497234 198.947486 \nL 177.616639 210.09398 \nL 177.736044 203.362856 \nL 177.85545 164.581702 \nL 178.09426 213.521295 \nL 178.213665 207.037185 \nL 178.452475 213.027268 \nL 178.57188 197.49628 \nL 178.691285 206.821048 \nL 178.81069 203.733377 \nL 178.930096 205.524226 \nL 179.049501 212.100966 \nL 179.168906 212.224473 \nL 179.288311 210.248363 \nL 179.407716 182.150553 \nL 179.527121 207.623843 \nL 179.646526 205.215459 \nL 179.885336 212.656747 \nL 180.004742 210.55713 \nL 180.124147 205.246336 \nL 180.243552 211.545185 \nL 180.362957 207.098938 \nL 180.601767 213.397788 \nL 180.721172 212.039213 \nL 180.840577 209.013295 \nL 181.079388 211.946583 \nL 181.198793 211.606939 \nL 181.318198 206.728418 \nL 181.437603 206.975432 \nL 181.557008 211.174665 \nL 181.676413 199.534143 \nL 181.795818 211.112911 \nL 181.915223 205.338966 \nL 182.154034 209.877843 \nL 182.273439 207.407706 \nL 182.392844 207.93261 \nL 182.631654 211.637815 \nL 182.751059 210.773267 \nL 182.989869 205.616856 \nL 183.109275 209.507322 \nL 183.22868 208.11787 \nL 183.348085 204.567048 \nL 183.46749 211.823076 \nL 183.586895 208.056117 \nL 183.7063 212.224473 \nL 183.825705 209.075048 \nL 183.94511 212.008336 \nL 184.064515 205.308089 \nL 184.183921 211.205541 \nL 184.303326 201.942527 \nL 184.542136 212.502363 \nL 184.661541 210.55713 \nL 184.780946 212.16272 \nL 184.900351 207.901733 \nL 185.019756 210.032226 \nL 185.139162 209.383815 \nL 185.258567 213.336035 \nL 185.377972 210.804144 \nL 185.497377 211.143788 \nL 185.616782 203.60987 \nL 185.736187 211.421678 \nL 185.855592 207.685596 \nL 185.974997 211.483432 \nL 186.094402 209.630829 \nL 186.213808 209.692582 \nL 186.333213 205.709486 \nL 186.452618 206.481404 \nL 186.810833 213.552172 \nL 186.930238 208.30313 \nL 187.049643 209.569076 \nL 187.169048 213.058144 \nL 187.288454 209.846966 \nL 187.407859 213.428665 \nL 187.527264 204.783185 \nL 187.646669 213.490418 \nL 187.766074 210.340993 \nL 187.885479 173.81384 \nL 188.004884 211.421678 \nL 188.124289 193.544061 \nL 188.243694 211.421678 \nL 188.3631 208.797158 \nL 188.482505 212.471487 \nL 188.60191 203.239349 \nL 188.84072 211.730446 \nL 188.960125 199.163623 \nL 189.07953 212.811131 \nL 189.318341 211.329048 \nL 189.437746 195.489294 \nL 189.557151 209.044171 \nL 189.676556 191.537074 \nL 189.795961 212.872884 \nL 189.915366 212.62587 \nL 190.034771 210.618884 \nL 190.154176 212.34798 \nL 190.273581 207.253322 \nL 190.392987 212.16272 \nL 190.512392 209.260308 \nL 190.751202 212.409733 \nL 190.870607 211.390802 \nL 190.990012 206.574034 \nL 191.109417 212.656747 \nL 191.228822 211.699569 \nL 191.348227 203.918637 \nL 191.467633 214.354966 \nL 191.706443 213.459542 \nL 191.825848 213.706555 \nL 191.945253 190.888663 \nL 192.064658 212.34798 \nL 192.184063 205.400719 \nL 192.303468 211.853952 \nL 192.422873 209.229432 \nL 192.542279 211.421678 \nL 192.661684 210.155733 \nL 192.900494 212.039213 \nL 193.019899 208.272254 \nL 193.139304 214.077076 \nL 193.258709 213.984446 \nL 193.49752 190.549019 \nL 193.616925 203.208472 \nL 193.73633 179.155512 \nL 193.97514 207.191569 \nL 194.094545 188.75817 \nL 194.21395 208.148747 \nL 194.333355 204.814062 \nL 194.45276 211.020281 \nL 194.572166 185.824882 \nL 194.691571 210.124856 \nL 194.810976 201.602883 \nL 194.930381 212.903761 \nL 195.049786 210.340993 \nL 195.169191 199.47239 \nL 195.288596 207.376829 \nL 195.408001 192.98828 \nL 195.527406 212.224473 \nL 195.646812 211.761322 \nL 195.766217 198.947486 \nL 195.885622 209.816089 \nL 196.005027 202.251294 \nL 196.243837 212.996391 \nL 196.602052 199.812034 \nL 196.721458 211.606939 \nL 196.840863 207.592966 \nL 197.079673 212.16272 \nL 197.199078 211.051158 \nL 197.318483 212.471487 \nL 197.437888 196.693486 \nL 197.557293 211.390802 \nL 197.676699 212.286226 \nL 197.796104 209.352939 \nL 197.915509 209.414692 \nL 198.034914 201.880774 \nL 198.154319 209.630829 \nL 198.273724 195.705431 \nL 198.393129 194.748253 \nL 198.512534 210.248363 \nL 198.631939 210.989404 \nL 198.751345 208.920665 \nL 198.990155 212.903761 \nL 199.10956 210.835021 \nL 199.228965 213.181651 \nL 199.34837 191.259184 \nL 199.58718 207.901733 \nL 199.706585 208.39576 \nL 199.825991 209.970473 \nL 199.945396 202.529185 \nL 200.184206 212.378857 \nL 200.303611 203.270226 \nL 200.423016 212.7185 \nL 200.542421 206.882801 \nL 200.661826 208.39576 \nL 200.781231 206.512281 \nL 200.900637 212.996391 \nL 201.020042 210.865898 \nL 201.258852 212.749377 \nL 201.378257 207.407706 \nL 201.617067 212.564117 \nL 201.855878 207.407706 \nL 201.975283 211.699569 \nL 202.094688 208.241377 \nL 202.333498 212.7185 \nL 202.452903 208.766281 \nL 202.572308 212.749377 \nL 202.691713 212.193596 \nL 202.811118 199.65765 \nL 202.930524 212.471487 \nL 203.049929 211.483432 \nL 203.288739 205.740363 \nL 203.408144 213.089021 \nL 203.527549 210.804144 \nL 203.766359 213.644802 \nL 204.00517 207.253322 \nL 204.124575 208.39576 \nL 204.24398 200.738335 \nL 204.363385 211.112911 \nL 204.48279 203.146719 \nL 204.7216 212.872884 \nL 204.841005 210.55713 \nL 204.96041 212.7185 \nL 205.079816 208.148747 \nL 205.199221 212.502363 \nL 205.318626 212.409733 \nL 205.438031 203.239349 \nL 205.557436 211.606939 \nL 205.676841 209.908719 \nL 205.796246 205.308089 \nL 205.915651 212.471487 \nL 206.035057 209.075048 \nL 206.273867 212.934637 \nL 206.393272 212.872884 \nL 206.512677 209.939596 \nL 206.632082 210.18661 \nL 206.751487 212.131843 \nL 206.870892 211.452555 \nL 206.990297 210.00135 \nL 207.229108 205.277212 \nL 207.467918 213.089021 \nL 207.587323 211.668692 \nL 207.706728 208.30313 \nL 207.826133 197.712417 \nL 208.064943 211.483432 \nL 208.184349 200.676582 \nL 208.303754 213.336035 \nL 208.423159 209.723459 \nL 208.542564 213.428665 \nL 208.661969 208.735404 \nL 208.900779 212.070089 \nL 209.020184 210.495377 \nL 209.13959 206.265267 \nL 209.258995 212.780254 \nL 209.3784 212.749377 \nL 209.61721 207.809103 \nL 209.736615 210.649761 \nL 209.85602 202.343924 \nL 210.09483 212.070089 \nL 210.214236 213.490418 \nL 210.333641 200.522198 \nL 210.453046 209.630829 \nL 210.572451 200.213431 \nL 210.691856 212.842007 \nL 211.050071 208.550144 \nL 211.169476 200.429568 \nL 211.408287 208.550144 \nL 211.527692 207.93261 \nL 211.647097 198.576965 \nL 211.766502 212.502363 \nL 211.885907 209.569076 \nL 212.005312 212.286226 \nL 212.124717 201.263239 \nL 212.244122 212.008336 \nL 212.363528 211.792199 \nL 212.482933 212.872884 \nL 212.602338 212.409733 \nL 212.721743 213.305158 \nL 212.960553 209.908719 \nL 213.079958 209.599952 \nL 213.199363 211.853952 \nL 213.318769 200.769212 \nL 213.438174 211.853952 \nL 213.676984 212.409733 \nL 213.796389 208.30313 \nL 214.154604 211.915706 \nL 214.274009 212.008336 \nL 214.393415 212.317103 \nL 214.632225 206.790171 \nL 214.75163 213.428665 \nL 214.871035 208.581021 \nL 214.99044 209.260308 \nL 215.109845 203.084965 \nL 215.348655 213.583048 \nL 215.468061 211.051158 \nL 215.587466 144.11044 \nL 215.706871 210.958528 \nL 215.826276 209.291185 \nL 216.065086 213.860939 \nL 216.303896 212.903761 \nL 216.542707 204.011267 \nL 216.662112 213.830062 \nL 216.781517 210.18661 \nL 216.900922 211.977459 \nL 217.139732 210.896774 \nL 217.259137 211.390802 \nL 217.378542 211.267295 \nL 217.497948 211.668692 \nL 217.736758 210.155733 \nL 217.856163 211.452555 \nL 217.975568 203.671623 \nL 218.094973 213.027268 \nL 218.214378 212.378857 \nL 218.333783 212.44061 \nL 218.572594 205.555103 \nL 218.811404 213.459542 \nL 219.050214 211.514309 \nL 219.169619 212.471487 \nL 219.408429 208.735404 \nL 219.64724 213.552172 \nL 219.766645 205.277212 \nL 220.005455 212.131843 \nL 220.244265 190.672526 \nL 220.483075 207.994363 \nL 220.60248 204.258281 \nL 220.721886 212.53324 \nL 220.960696 207.469459 \nL 221.199506 211.668692 \nL 221.318911 210.340993 \nL 221.438316 212.224473 \nL 221.677127 211.514309 \nL 221.796532 208.642774 \nL 221.915937 212.594994 \nL 222.035342 211.359925 \nL 222.154747 212.286226 \nL 222.274152 209.167678 \nL 222.393557 212.502363 \nL 222.512962 208.179623 \nL 222.632367 189.807978 \nL 222.751773 208.642774 \nL 222.871178 205.215459 \nL 222.990583 213.089021 \nL 223.109988 207.83998 \nL 223.229393 208.735404 \nL 223.468203 213.150774 \nL 223.587608 203.517239 \nL 223.707013 210.896774 \nL 223.826419 209.599952 \nL 223.945824 188.696416 \nL 224.065229 211.946583 \nL 224.184634 194.470362 \nL 224.304039 211.112911 \nL 224.423444 189.560964 \nL 224.542849 212.564117 \nL 224.662254 190.116745 \nL 224.781659 210.37187 \nL 224.901065 210.402747 \nL 225.02047 202.127787 \nL 225.139875 211.637815 \nL 225.25928 207.747349 \nL 225.378685 211.946583 \nL 225.49809 205.184582 \nL 225.856306 211.761322 \nL 225.975711 209.692582 \nL 226.095116 211.051158 \nL 226.333926 200.213431 \nL 226.453331 209.939596 \nL 226.572736 208.457514 \nL 226.692141 204.258281 \nL 226.930952 210.340993 \nL 227.050357 210.588007 \nL 227.169762 211.205541 \nL 227.289167 210.835021 \nL 227.408572 197.897677 \nL 227.527977 206.203514 \nL 227.766787 165.847648 \nL 227.886192 208.488391 \nL 228.005598 171.189319 \nL 228.125003 208.39576 \nL 228.363813 170.016004 \nL 228.483218 208.272254 \nL 228.602623 202.467431 \nL 228.722028 203.671623 \nL 228.841433 210.649761 \nL 228.960838 209.507322 \nL 229.080244 201.942527 \nL 229.199649 186.96732 \nL 229.319054 210.00135 \nL 229.438459 208.39576 \nL 229.557864 212.008336 \nL 229.677269 204.690555 \nL 229.796674 207.222445 \nL 229.916079 212.34798 \nL 230.035485 209.167678 \nL 230.15489 210.495377 \nL 230.274295 205.338966 \nL 230.3937 192.339869 \nL 230.513105 208.39576 \nL 230.63251 209.044171 \nL 230.751915 211.668692 \nL 230.87132 209.167678 \nL 230.990725 204.103897 \nL 231.110131 210.835021 \nL 231.229536 208.334007 \nL 231.348941 209.661706 \nL 231.468346 206.666664 \nL 231.587751 207.870856 \nL 231.707156 206.110884 \nL 231.826561 208.056117 \nL 231.945966 202.837952 \nL 232.065371 208.642774 \nL 232.184777 207.562089 \nL 232.304182 210.927651 \nL 232.423587 209.908719 \nL 232.542992 204.844938 \nL 232.662397 208.828034 \nL 232.781802 200.213431 \nL 232.901207 210.927651 \nL 233.020612 210.310117 \nL 233.140017 195.304033 \nL 233.259423 210.248363 \nL 233.378828 201.232363 \nL 233.498233 202.313048 \nL 233.737043 211.112911 \nL 233.856448 212.903761 \nL 234.334069 185.886635 \nL 234.453474 210.865898 \nL 234.572879 211.823076 \nL 234.692284 210.340993 \nL 234.931094 200.151678 \nL 235.050499 209.507322 \nL 235.169904 207.438582 \nL 235.28931 209.260308 \nL 235.408715 206.296144 \nL 235.52812 211.174665 \nL 235.647525 186.380663 \nL 235.76693 210.310117 \nL 236.00574 199.719404 \nL 236.125145 210.896774 \nL 236.24455 210.217487 \nL 236.363956 211.637815 \nL 236.483361 211.421678 \nL 236.602766 203.88776 \nL 236.841576 206.172637 \nL 236.960981 210.063103 \nL 237.080386 204.350911 \nL 237.319196 211.298172 \nL 237.438602 205.215459 \nL 237.558007 211.483432 \nL 237.677412 210.526254 \nL 237.916222 183.941402 \nL 238.035627 212.872884 \nL 238.155032 211.452555 \nL 238.274437 207.93261 \nL 238.393843 164.180305 \nL 238.513248 212.193596 \nL 238.632653 208.457514 \nL 238.752058 210.835021 \nL 238.990868 205.308089 \nL 239.110273 210.804144 \nL 239.229678 206.512281 \nL 239.587894 211.020281 \nL 239.707299 207.438582 \nL 239.826704 210.09398 \nL 239.946109 209.476445 \nL 240.065514 195.365787 \nL 240.304324 211.514309 \nL 240.543135 205.709486 \nL 240.66254 211.082035 \nL 240.781945 209.816089 \nL 240.90135 212.409733 \nL 241.14016 209.352939 \nL 241.259565 202.776198 \nL 241.498375 212.039213 \nL 241.617781 194.099842 \nL 241.737186 208.611897 \nL 241.856591 205.894747 \nL 241.975996 209.970473 \nL 242.095401 201.880774 \nL 242.334211 209.075048 \nL 242.453616 208.581021 \nL 242.573022 193.420554 \nL 242.692427 197.712417 \nL 242.931237 209.692582 \nL 243.050642 212.7185 \nL 243.289452 211.792199 \nL 243.408857 206.018253 \nL 243.528262 210.711514 \nL 243.647668 207.006308 \nL 243.767073 211.761322 \nL 243.886478 200.522198 \nL 244.005883 207.006308 \nL 244.125288 198.762225 \nL 244.364098 210.896774 \nL 244.602908 197.372773 \nL 244.722314 201.201486 \nL 244.841719 209.599952 \nL 244.961124 202.343924 \nL 245.080529 210.711514 \nL 245.199934 206.604911 \nL 245.319339 208.086993 \nL 245.438744 202.621815 \nL 245.558149 210.248363 \nL 245.677554 210.27924 \nL 245.79696 206.543158 \nL 245.916365 212.842007 \nL 246.03577 210.989404 \nL 246.155175 210.989404 \nL 246.27458 208.797158 \nL 246.393985 210.680637 \nL 246.51339 209.723459 \nL 246.632795 210.402747 \nL 246.871606 207.809103 \nL 246.991011 208.426637 \nL 247.110416 212.224473 \nL 247.229821 206.728418 \nL 247.349226 210.804144 \nL 247.468631 208.828034 \nL 247.707441 209.661706 \nL 247.826847 205.987377 \nL 247.946252 210.248363 \nL 248.065657 210.00135 \nL 248.185062 198.916609 \nL 248.304467 204.783185 \nL 248.423872 189.097814 \nL 248.543277 211.730446 \nL 248.662682 208.364884 \nL 248.782087 210.927651 \nL 248.901493 210.27924 \nL 249.020898 210.55713 \nL 249.379113 205.832993 \nL 249.498518 206.851925 \nL 249.617923 209.198555 \nL 249.737328 184.188416 \nL 249.976139 208.11787 \nL 250.095544 207.191569 \nL 250.214949 199.163623 \nL 250.334354 209.816089 \nL 250.573164 206.635788 \nL 250.811974 212.34798 \nL 250.93138 196.477349 \nL 251.050785 212.070089 \nL 251.17019 209.322062 \nL 251.289595 211.298172 \nL 251.409 191.135677 \nL 251.528405 210.588007 \nL 251.64781 190.672526 \nL 251.88662 211.761322 \nL 252.006026 193.729321 \nL 252.244836 209.939596 \nL 252.364241 198.329951 \nL 252.483646 212.44061 \nL 252.603051 210.495377 \nL 252.722456 210.742391 \nL 252.841861 209.569076 \nL 252.961266 209.970473 \nL 253.080672 212.811131 \nL 253.319482 208.828034 \nL 253.438887 210.989404 \nL 253.558292 210.4645 \nL 253.677697 211.082035 \nL 253.797102 209.322062 \nL 253.916507 209.846966 \nL 254.155318 213.459542 \nL 254.274723 211.236418 \nL 254.513533 213.706555 \nL 254.632938 213.706555 \nL 254.752343 205.061075 \nL 254.871748 213.243405 \nL 254.991153 209.352939 \nL 255.110559 210.248363 \nL 255.229964 213.274281 \nL 255.349369 212.872884 \nL 255.468774 208.39576 \nL 255.588179 213.212528 \nL 255.826989 205.86387 \nL 256.065799 212.409733 \nL 256.30461 209.754336 \nL 256.54342 211.977459 \nL 256.662825 211.761322 \nL 256.78223 212.811131 \nL 256.901635 212.16272 \nL 257.02104 212.842007 \nL 257.259851 207.963486 \nL 257.618066 212.378857 \nL 257.737471 209.352939 \nL 257.856876 211.143788 \nL 257.976281 201.81902 \nL 258.095686 209.507322 \nL 258.215091 208.179623 \nL 258.334497 201.232363 \nL 258.453902 210.865898 \nL 258.573307 209.198555 \nL 258.692712 212.286226 \nL 258.812117 209.476445 \nL 258.931522 212.286226 \nL 259.050927 205.061075 \nL 259.289738 213.521295 \nL 259.409143 202.189541 \nL 259.647953 210.55713 \nL 259.767358 207.778226 \nL 259.886763 212.409733 \nL 260.006168 208.457514 \nL 260.125573 208.39576 \nL 260.244978 213.397788 \nL 260.364384 212.34798 \nL 260.483789 208.642774 \nL 260.722599 210.680637 \nL 260.842004 209.198555 \nL 260.961409 213.459542 \nL 261.200219 209.785213 \nL 261.319624 210.18661 \nL 261.43903 213.058144 \nL 261.67784 207.469459 \nL 261.91665 212.687624 \nL 262.036055 210.402747 \nL 262.15546 212.224473 \nL 262.274865 204.011267 \nL 262.39427 212.193596 \nL 262.513676 211.884829 \nL 262.633081 211.205541 \nL 262.752486 212.16272 \nL 262.871891 210.773267 \nL 262.991296 213.305158 \nL 263.110701 206.944555 \nL 263.230106 213.459542 \nL 263.468917 205.740363 \nL 263.588322 211.792199 \nL 263.707727 207.901733 \nL 263.946537 212.100966 \nL 264.065942 207.685596 \nL 264.185347 213.459542 \nL 264.304752 211.051158 \nL 264.424157 213.119898 \nL 264.662968 209.260308 \nL 264.782373 207.160692 \nL 265.021183 213.305158 \nL 265.259993 208.426637 \nL 265.379398 211.576062 \nL 265.498803 211.174665 \nL 265.737614 212.687624 \nL 265.857019 200.830965 \nL 265.976424 211.020281 \nL 266.095829 202.560061 \nL 266.334639 212.53324 \nL 266.454044 210.27924 \nL 266.573449 211.205541 \nL 266.692855 204.381788 \nL 266.81226 212.656747 \nL 266.931665 205.647733 \nL 267.170475 213.675679 \nL 267.28988 176.716251 \nL 267.409285 211.699569 \nL 267.52869 210.711514 \nL 267.767501 212.749377 \nL 267.886906 212.471487 \nL 268.006311 204.474418 \nL 268.125716 209.538199 \nL 268.245121 132.284659 \nL 268.364526 211.205541 \nL 268.483931 213.799185 \nL 268.603336 212.872884 \nL 268.722742 207.068062 \nL 269.200362 213.243405 \nL 269.319767 209.846966 \nL 269.439172 212.62587 \nL 269.558577 184.188416 \nL 269.677982 210.680637 \nL 269.797388 210.310117 \nL 269.916793 205.77124 \nL 270.155603 213.768309 \nL 270.275008 212.656747 \nL 270.394413 209.352939 \nL 270.513818 213.799185 \nL 270.633223 206.080007 \nL 270.752628 213.428665 \nL 270.872034 208.39576 \nL 270.991439 211.730446 \nL 271.110844 209.136802 \nL 271.230249 199.28713 \nL 271.469059 211.977459 \nL 271.588464 213.089021 \nL 271.707869 201.942527 \nL 271.827275 213.644802 \nL 271.94668 209.352939 \nL 272.066085 213.212528 \nL 272.18549 212.008336 \nL 272.304895 212.903761 \nL 272.4243 211.298172 \nL 272.66311 213.459542 \nL 272.782515 209.383815 \nL 272.901921 212.811131 \nL 273.140731 206.697541 \nL 273.379541 212.934637 \nL 273.618351 211.359925 \nL 273.737756 206.450527 \nL 273.857161 213.737432 \nL 274.095972 208.457514 \nL 274.334782 211.576062 \nL 274.454187 202.467431 \nL 274.692997 213.366911 \nL 274.812402 212.34798 \nL 274.931807 212.62587 \nL 275.051213 213.274281 \nL 275.170618 212.903761 \nL 275.290023 213.305158 \nL 275.409428 211.236418 \nL 275.528833 213.830062 \nL 275.648238 213.397788 \nL 275.767643 211.421678 \nL 275.887048 213.644802 \nL 276.006454 213.089021 \nL 276.245264 213.583048 \nL 276.364669 212.62587 \nL 276.484074 213.953569 \nL 276.603479 212.53324 \nL 276.722884 213.150774 \nL 276.842289 212.44061 \nL 276.961694 213.366911 \nL 277.0811 211.730446 \nL 277.200505 204.937568 \nL 277.439315 213.984446 \nL 277.55872 213.583048 \nL 277.678125 211.359925 \nL 277.79753 213.428665 \nL 278.03634 209.569076 \nL 278.155746 211.637815 \nL 278.275151 210.124856 \nL 278.394556 212.25535 \nL 278.513961 212.131843 \nL 278.633366 213.644802 \nL 278.872176 210.032226 \nL 278.991581 213.336035 \nL 279.110986 213.521295 \nL 279.349797 210.340993 \nL 279.469202 202.899705 \nL 279.588607 212.811131 \nL 279.827417 207.129815 \nL 279.946822 208.550144 \nL 280.066227 213.737432 \nL 280.185633 213.490418 \nL 280.424443 211.668692 \nL 280.543848 213.860939 \nL 280.663253 212.62587 \nL 280.782658 212.811131 \nL 280.902063 214.262336 \nL 281.021468 214.138829 \nL 281.140873 212.656747 \nL 281.260279 213.830062 \nL 281.499089 213.305158 \nL 281.618494 211.236418 \nL 281.857304 213.799185 \nL 281.976709 209.229432 \nL 282.215519 213.799185 \nL 282.334925 211.946583 \nL 282.45433 204.350911 \nL 282.573735 213.397788 \nL 282.69314 213.706555 \nL 282.812545 208.766281 \nL 282.93195 213.150774 \nL 283.051355 213.336035 \nL 283.17076 213.891816 \nL 283.290165 211.730446 \nL 283.409571 212.687624 \nL 283.528976 210.711514 \nL 283.767786 205.555103 \nL 283.887191 213.675679 \nL 284.006596 212.903761 \nL 284.126001 210.989404 \nL 284.245406 211.267295 \nL 284.364812 213.428665 \nL 284.484217 212.25535 \nL 284.603622 214.015322 \nL 284.723027 212.811131 \nL 284.842432 213.305158 \nL 284.961837 212.25535 \nL 285.081242 213.860939 \nL 285.200647 211.082035 \nL 285.320052 211.112911 \nL 285.439458 213.830062 \nL 285.558863 211.668692 \nL 285.797673 213.428665 \nL 286.036483 212.903761 \nL 286.275293 207.994363 \nL 286.394698 212.62587 \nL 286.514104 172.980169 \nL 286.633509 209.105925 \nL 286.991724 213.243405 \nL 287.111129 212.16272 \nL 287.349939 213.521295 \nL 287.469344 208.241377 \nL 287.58875 212.656747 \nL 287.82756 208.889788 \nL 287.946965 211.792199 \nL 288.06637 209.383815 \nL 288.30518 214.231459 \nL 288.663396 207.500336 \nL 288.782801 210.217487 \nL 288.902206 205.400719 \nL 289.021611 213.644802 \nL 289.260421 209.538199 \nL 289.379826 213.922692 \nL 289.499231 203.60987 \nL 289.738042 212.903761 \nL 289.857447 208.457514 \nL 289.976852 199.812034 \nL 290.096257 211.606939 \nL 290.215662 211.730446 \nL 290.454472 213.799185 \nL 290.693283 210.773267 \nL 290.812688 211.452555 \nL 290.932093 209.569076 \nL 291.051498 212.842007 \nL 291.170903 212.564117 \nL 291.409713 203.393733 \nL 291.529118 212.687624 \nL 291.648523 212.594994 \nL 291.767929 206.450527 \nL 292.006739 212.872884 \nL 292.126144 209.692582 \nL 292.245549 211.977459 \nL 292.364954 211.977459 \nL 292.72317 208.2105 \nL 292.842575 213.428665 \nL 292.96198 203.146719 \nL 293.081385 212.996391 \nL 293.320195 211.359925 \nL 293.4396 205.925623 \nL 293.559005 213.490418 \nL 293.67841 212.502363 \nL 293.797816 209.723459 \nL 293.917221 213.212528 \nL 294.036626 208.704528 \nL 294.156031 209.075048 \nL 294.275436 212.780254 \nL 294.394841 207.809103 \nL 294.633651 212.409733 \nL 294.753056 213.521295 \nL 294.872462 212.996391 \nL 294.991867 191.135677 \nL 295.111272 211.112911 \nL 295.230677 212.008336 \nL 295.350082 208.611897 \nL 295.588892 214.138829 \nL 295.708297 213.984446 \nL 295.947108 205.061075 \nL 296.185918 213.305158 \nL 296.305323 198.638719 \nL 296.544133 207.284199 \nL 296.663538 213.799185 \nL 296.782943 212.811131 \nL 296.902349 213.119898 \nL 297.021754 212.378857 \nL 297.141159 210.433624 \nL 297.379969 213.706555 \nL 297.499374 211.143788 \nL 297.618779 214.169706 \nL 297.738184 213.860939 \nL 297.976995 212.903761 \nL 298.0964 212.7185 \nL 298.215805 211.452555 \nL 298.33521 213.058144 \nL 298.57402 211.823076 \nL 298.693425 207.284199 \nL 298.81283 214.169706 \nL 298.932235 212.53324 \nL 299.051641 212.842007 \nL 299.171046 209.754336 \nL 299.290451 210.217487 \nL 299.409856 209.229432 \nL 299.529261 212.44061 \nL 299.648666 212.039213 \nL 299.768071 210.865898 \nL 299.887476 214.447596 \nL 300.126287 209.816089 \nL 300.245692 213.830062 \nL 300.365097 212.471487 \nL 300.484502 199.719404 \nL 300.723312 213.521295 \nL 300.842717 212.502363 \nL 300.962122 210.032226 \nL 301.081528 213.644802 \nL 301.200933 212.471487 \nL 301.320338 213.675679 \nL 301.439743 211.267295 \nL 301.559148 213.428665 \nL 301.678553 213.274281 \nL 301.917363 208.11787 \nL 302.156174 214.138829 \nL 302.275579 212.34798 \nL 302.633794 213.891816 \nL 302.753199 210.835021 \nL 302.872604 213.830062 \nL 302.992009 212.656747 \nL 303.111414 213.089021 \nL 303.23082 211.668692 \nL 303.350225 213.459542 \nL 303.589035 213.058144 \nL 303.70844 205.462473 \nL 303.827845 213.397788 \nL 303.94725 212.502363 \nL 304.066655 213.305158 \nL 304.18606 212.811131 \nL 304.305466 210.217487 \nL 304.544276 212.872884 \nL 304.663681 209.877843 \nL 304.902491 214.169706 \nL 305.021896 208.056117 \nL 305.141301 213.397788 \nL 305.380112 213.953569 \nL 305.499517 212.502363 \nL 305.618922 212.471487 \nL 305.738327 213.737432 \nL 305.857732 212.687624 \nL 305.977137 210.27924 \nL 306.096542 213.675679 \nL 306.215947 213.212528 \nL 306.335353 212.100966 \nL 306.454758 213.613925 \nL 306.574163 213.459542 \nL 306.693568 198.546088 \nL 306.932378 213.428665 \nL 307.051783 211.977459 \nL 307.171188 213.490418 \nL 307.290593 210.18661 \nL 307.409999 213.336035 \nL 307.529404 211.853952 \nL 307.648809 212.749377 \nL 307.768214 212.594994 \nL 307.887619 214.046199 \nL 308.126429 212.039213 \nL 308.365239 213.459542 \nL 308.484645 205.585979 \nL 308.60405 214.231459 \nL 308.723455 212.842007 \nL 308.84286 214.077076 \nL 308.962265 211.576062 \nL 309.201075 213.521295 \nL 309.32048 210.835021 \nL 309.439886 214.200583 \nL 309.559291 213.644802 \nL 309.678696 209.599952 \nL 309.917506 213.706555 \nL 310.036911 211.421678 \nL 310.156316 211.298172 \nL 310.275721 211.668692 \nL 310.395126 208.179623 \nL 310.514532 210.402747 \nL 310.633937 210.18661 \nL 310.753342 212.934637 \nL 310.992152 201.788143 \nL 311.111557 214.293213 \nL 311.230962 213.058144 \nL 311.350367 209.136802 \nL 311.469772 213.706555 \nL 311.589178 214.015322 \nL 311.947393 209.538199 \nL 312.186203 212.25535 \nL 312.305608 213.953569 \nL 312.544418 212.070089 \nL 312.663824 211.112911 \nL 312.783229 212.44061 \nL 312.902634 205.246336 \nL 313.260849 213.366911 \nL 313.380254 211.699569 \nL 313.499659 213.089021 \nL 313.619065 212.131843 \nL 313.73847 213.799185 \nL 313.857875 210.958528 \nL 313.97728 211.946583 \nL 314.096685 204.474418 \nL 314.335495 214.107953 \nL 314.4549 210.649761 \nL 314.574305 213.737432 \nL 314.693711 212.564117 \nL 314.813116 213.428665 \nL 314.932521 210.032226 \nL 315.051926 212.842007 \nL 315.171331 210.217487 \nL 315.410141 210.526254 \nL 315.648951 213.428665 \nL 315.768357 213.706555 \nL 315.887762 211.514309 \nL 316.126572 213.860939 \nL 316.245977 212.44061 \nL 316.365382 213.737432 \nL 316.604192 212.934637 \nL 316.723597 213.922692 \nL 316.843003 210.526254 \nL 316.962408 213.583048 \nL 317.081813 212.749377 \nL 317.320623 214.354966 \nL 317.559433 211.112911 \nL 317.678838 212.53324 \nL 317.798244 211.853952 \nL 318.037054 213.644802 \nL 318.156459 213.953569 \nL 318.275864 211.514309 \nL 318.395269 213.737432 \nL 318.514674 212.7185 \nL 318.634079 208.272254 \nL 318.753484 213.243405 \nL 318.87289 203.331979 \nL 319.1117 213.768309 \nL 319.231105 214.015322 \nL 319.469915 213.613925 \nL 319.58932 212.62587 \nL 319.708725 213.953569 \nL 319.82813 212.965514 \nL 320.066941 213.521295 \nL 320.305751 211.637815 \nL 320.425156 212.965514 \nL 320.544561 212.656747 \nL 320.902776 214.262336 \nL 321.022182 213.305158 \nL 321.141587 213.490418 \nL 321.380397 212.564117 \nL 321.499802 212.996391 \nL 321.738612 214.077076 \nL 321.858017 213.706555 \nL 321.977423 210.927651 \nL 322.096828 213.891816 \nL 322.216233 213.583048 \nL 322.335638 212.811131 \nL 322.455043 203.918637 \nL 322.693853 213.891816 \nL 322.813258 213.644802 \nL 322.932663 213.119898 \nL 323.052069 213.891816 \nL 323.290879 212.34798 \nL 323.410284 212.811131 \nL 323.529689 214.046199 \nL 323.649094 212.7185 \nL 323.768499 213.305158 \nL 323.887904 210.680637 \nL 324.126715 213.428665 \nL 324.24612 213.089021 \nL 324.365525 214.231459 \nL 324.48493 211.514309 \nL 324.72374 213.305158 \nL 324.96255 213.490418 \nL 325.081955 214.478473 \nL 325.201361 211.576062 \nL 325.440171 213.737432 \nL 325.559576 211.730446 \nL 325.798386 214.200583 \nL 325.917791 211.668692 \nL 326.037196 212.100966 \nL 326.156602 213.521295 \nL 326.276007 213.397788 \nL 326.395412 210.340993 \nL 326.634222 213.397788 \nL 326.753627 214.015322 \nL 326.873032 212.224473 \nL 327.111842 206.604911 \nL 327.231248 212.965514 \nL 327.350653 211.884829 \nL 327.470058 213.027268 \nL 327.589463 212.564117 \nL 327.828273 214.50935 \nL 328.067083 212.780254 \nL 328.305894 214.200583 \nL 328.425299 199.688527 \nL 328.544704 213.706555 \nL 328.664109 213.613925 \nL 328.783514 212.594994 \nL 328.902919 213.089021 \nL 329.022324 211.452555 \nL 329.141729 214.41672 \nL 329.261134 212.25535 \nL 329.38054 213.922692 \nL 329.499945 213.830062 \nL 329.738755 214.077076 \nL 329.85816 212.16272 \nL 330.09697 214.077076 \nL 330.216375 212.224473 \nL 330.455186 213.644802 \nL 330.574591 211.946583 \nL 330.813401 213.860939 \nL 331.052211 214.632857 \nL 331.171616 204.752308 \nL 331.410427 210.865898 \nL 331.529832 214.478473 \nL 331.649237 214.107953 \nL 331.768642 214.571103 \nL 332.126857 208.2105 \nL 332.246262 214.262336 \nL 332.485073 211.545185 \nL 332.604478 213.336035 \nL 332.723883 213.428665 \nL 332.843288 213.675679 \nL 332.962693 212.286226 \nL 333.082098 212.62587 \nL 333.201503 211.946583 \nL 333.320908 212.687624 \nL 333.440313 205.832993 \nL 333.679124 213.490418 \nL 333.798529 214.41672 \nL 333.917934 212.811131 \nL 334.156744 213.583048 \nL 334.276149 212.378857 \nL 334.395554 213.521295 \nL 334.51496 213.459542 \nL 334.634365 213.768309 \nL 334.873175 212.193596 \nL 334.99258 213.212528 \nL 335.23139 210.649761 \nL 335.350795 213.737432 \nL 335.4702 213.583048 \nL 335.589606 207.407706 \nL 335.709011 213.181651 \nL 335.947821 211.977459 \nL 336.067226 213.428665 \nL 336.186631 211.236418 \nL 336.306036 213.490418 \nL 336.425441 213.027268 \nL 336.544846 214.262336 \nL 336.664252 213.490418 \nL 336.783657 213.860939 \nL 337.022467 203.7025 \nL 337.141872 214.385843 \nL 337.261277 210.865898 \nL 337.500087 213.860939 \nL 337.738898 212.996391 \nL 337.977708 214.200583 \nL 338.097113 213.768309 \nL 338.335923 210.711514 \nL 338.455328 212.780254 \nL 338.574733 210.958528 \nL 338.694139 205.308089 \nL 338.932949 213.799185 \nL 339.171759 213.552172 \nL 339.291164 213.799185 \nL 339.410569 213.181651 \nL 339.529974 211.946583 \nL 339.649379 213.891816 \nL 339.88819 204.165651 \nL 340.007595 213.212528 \nL 340.127 213.459542 \nL 340.246405 214.138829 \nL 340.36581 211.730446 \nL 340.485215 214.632857 \nL 340.60462 212.53324 \nL 340.724025 214.138829 \nL 340.962836 214.41672 \nL 341.082241 208.920665 \nL 341.201646 208.735404 \nL 341.321051 213.953569 \nL 341.440456 212.780254 \nL 341.559861 212.965514 \nL 341.679266 212.34798 \nL 341.918077 213.799185 \nL 342.037482 211.699569 \nL 342.156887 212.656747 \nL 342.276292 214.663733 \nL 342.395697 213.675679 \nL 342.515102 214.138829 \nL 342.634507 213.922692 \nL 342.753912 214.447596 \nL 342.873318 212.25535 \nL 343.112128 214.138829 \nL 343.470343 213.058144 \nL 343.589748 214.478473 \nL 343.709153 214.354966 \nL 343.828558 213.089021 \nL 343.947964 213.521295 \nL 344.067369 213.089021 \nL 344.186774 214.138829 \nL 344.306179 213.150774 \nL 344.425584 213.799185 \nL 344.544989 213.737432 \nL 344.664394 212.656747 \nL 344.783799 214.478473 \nL 344.903204 214.262336 \nL 345.02261 213.119898 \nL 345.142015 213.984446 \nL 345.26142 213.891816 \nL 345.380825 214.046199 \nL 345.50023 213.830062 \nL 345.619635 212.749377 \nL 345.73904 213.181651 \nL 345.858445 214.107953 \nL 345.97785 207.562089 \nL 346.097256 214.138829 \nL 346.216661 213.243405 \nL 346.336066 207.098938 \nL 346.574876 212.34798 \nL 346.694281 213.737432 \nL 346.813686 213.305158 \nL 346.933091 214.41672 \nL 347.052497 211.267295 \nL 347.291307 214.354966 \nL 347.410712 211.576062 \nL 347.649522 213.552172 \nL 347.768927 206.821048 \nL 348.007737 213.336035 \nL 348.127143 209.167678 \nL 348.246548 214.447596 \nL 348.365953 213.150774 \nL 348.604763 213.984446 \nL 348.843573 213.737432 \nL 348.962978 213.768309 \nL 349.201789 214.50935 \nL 349.440599 213.737432 \nL 349.679409 214.200583 \nL 349.798814 213.953569 \nL 349.918219 212.811131 \nL 350.037624 213.119898 \nL 350.157029 214.169706 \nL 350.276435 213.552172 \nL 350.515245 214.571103 \nL 350.63465 212.965514 \nL 350.754055 213.860939 \nL 350.87346 212.903761 \nL 350.992865 214.015322 \nL 351.11227 213.922692 \nL 351.231676 212.780254 \nL 351.351081 213.984446 \nL 351.589891 213.243405 \nL 351.709296 214.447596 \nL 351.828701 213.922692 \nL 351.948106 214.015322 \nL 352.067511 210.649761 \nL 352.306322 214.478473 \nL 352.425727 214.354966 \nL 352.545132 212.996391 \nL 352.664537 214.60198 \nL 352.783942 213.613925 \nL 352.903347 214.354966 \nL 353.022752 214.293213 \nL 353.261562 213.397788 \nL 353.500373 214.725487 \nL 353.619778 214.200583 \nL 353.858588 214.262336 \nL 353.977993 213.366911 \nL 354.097398 213.706555 \nL 354.216803 214.632857 \nL 354.336208 214.200583 \nL 354.455614 214.354966 \nL 354.575019 213.274281 \nL 354.694424 214.571103 \nL 354.933234 214.015322 \nL 355.052639 214.385843 \nL 355.172044 214.077076 \nL 355.291449 214.262336 \nL 355.410855 213.737432 \nL 355.649665 214.385843 \nL 355.76907 212.317103 \nL 355.888475 214.41672 \nL 356.00788 214.447596 \nL 356.127285 214.200583 \nL 356.24669 214.540227 \nL 356.366095 214.262336 \nL 356.485501 213.613925 \nL 356.724311 214.725487 \nL 356.843716 213.428665 \nL 356.963121 214.447596 \nL 357.201931 214.046199 \nL 357.440741 214.756364 \nL 357.560147 214.571103 \nL 357.798957 213.613925 \nL 357.918362 214.60198 \nL 358.037767 214.50935 \nL 358.157172 213.799185 \nL 358.395982 214.725487 \nL 358.754198 214.293213 \nL 358.873603 214.632857 \nL 358.993008 214.50935 \nL 359.112413 213.830062 \nL 359.231818 214.571103 \nL 359.231818 214.571103 \n\" style=\"fill:none;stroke:#1f77b4;stroke-linecap:square;stroke-width:1.5;\"/>\n   </g>\n   <g id=\"patch_3\">\n    <path d=\"M 39.65 224.64 \nL 39.65 7.2 \n\" style=\"fill:none;stroke:#000000;stroke-linecap:square;stroke-linejoin:miter;stroke-width:0.8;\"/>\n   </g>\n   <g id=\"patch_4\">\n    <path d=\"M 374.45 224.64 \nL 374.45 7.2 \n\" style=\"fill:none;stroke:#000000;stroke-linecap:square;stroke-linejoin:miter;stroke-width:0.8;\"/>\n   </g>\n   <g id=\"patch_5\">\n    <path d=\"M 39.65 224.64 \nL 374.45 224.64 \n\" style=\"fill:none;stroke:#000000;stroke-linecap:square;stroke-linejoin:miter;stroke-width:0.8;\"/>\n   </g>\n   <g id=\"patch_6\">\n    <path d=\"M 39.65 7.2 \nL 374.45 7.2 \n\" style=\"fill:none;stroke:#000000;stroke-linecap:square;stroke-linejoin:miter;stroke-width:0.8;\"/>\n   </g>\n  </g>\n </g>\n <defs>\n  <clipPath id=\"pb634b5ead1\">\n   <rect height=\"217.44\" width=\"334.8\" x=\"39.65\" y=\"7.2\"/>\n  </clipPath>\n </defs>\n</svg>\n",
      "image/png": "[encoded data removed]"
     },
     "metadata": {
      "needs_background": "light"
     }
    }
   ],
   "source": [
    "ted.comments.plot() # x is index, y is value of comments field\n",
    "# line plot is for showing change over time, so not necessarily the right plot for this"
   ]
  },
  {
   "cell_type": "code",
   "execution_count": 24,
   "metadata": {},
   "outputs": [
    {
     "output_type": "execute_result",
     "data": {
      "text/plain": [
       "<matplotlib.axes._subplots.AxesSubplot at 0x7fb9999587f0>"
      ]
     },
     "metadata": {},
     "execution_count": 24
    },
    {
     "output_type": "display_data",
     "data": {
      "text/plain": "<Figure size 432x288 with 1 Axes>",
      "image/svg+xml": "<?xml version=\"1.0\" encoding=\"utf-8\" standalone=\"no\"?>\n<!DOCTYPE svg PUBLIC \"-//W3C//DTD SVG 1.1//EN\"\n  \"http://www.w3.org/Graphics/SVG/1.1/DTD/svg11.dtd\">\n<!-- Created with matplotlib (https://matplotlib.org/) -->\n<svg height=\"248.518125pt\" version=\"1.1\" viewBox=\"0 0 395.328125 248.518125\" width=\"395.328125pt\" xmlns=\"http://www.w3.org/2000/svg\" xmlns:xlink=\"http://www.w3.org/1999/xlink\">\n <defs>\n  <style type=\"text/css\">\n*{stroke-linecap:butt;stroke-linejoin:round;}\n  </style>\n </defs>\n <g id=\"figure_1\">\n  <g id=\"patch_1\">\n   <path d=\"M 0 248.518125 \nL 395.328125 248.518125 \nL 395.328125 0 \nL 0 0 \nz\n\" style=\"fill:none;\"/>\n  </g>\n  <g id=\"axes_1\">\n   <g id=\"patch_2\">\n    <path d=\"M 53.328125 224.64 \nL 388.128125 224.64 \nL 388.128125 7.2 \nL 53.328125 7.2 \nz\n\" style=\"fill:#ffffff;\"/>\n   </g>\n   <g id=\"patch_3\">\n    <path clip-path=\"url(#p7b79edaee3)\" d=\"M 68.546307 224.64 \nL 98.98267 224.64 \nL 98.98267 17.554286 \nL 68.546307 17.554286 \nz\n\" style=\"fill:#1f77b4;\"/>\n   </g>\n   <g id=\"patch_4\">\n    <path clip-path=\"url(#p7b79edaee3)\" d=\"M 98.98267 224.64 \nL 129.419034 224.64 \nL 129.419034 217.957087 \nL 98.98267 217.957087 \nz\n\" style=\"fill:#1f77b4;\"/>\n   </g>\n   <g id=\"patch_5\">\n    <path clip-path=\"url(#p7b79edaee3)\" d=\"M 129.419034 224.64 \nL 159.855398 224.64 \nL 159.855398 223.624874 \nL 129.419034 223.624874 \nz\n\" style=\"fill:#1f77b4;\"/>\n   </g>\n   <g id=\"patch_6\">\n    <path clip-path=\"url(#p7b79edaee3)\" d=\"M 159.855398 224.64 \nL 190.291761 224.64 \nL 190.291761 224.132437 \nL 159.855398 224.132437 \nz\n\" style=\"fill:#1f77b4;\"/>\n   </g>\n   <g id=\"patch_7\">\n    <path clip-path=\"url(#p7b79edaee3)\" d=\"M 190.291761 224.64 \nL 220.728125 224.64 \nL 220.728125 224.470812 \nL 190.291761 224.470812 \nz\n\" style=\"fill:#1f77b4;\"/>\n   </g>\n   <g id=\"patch_8\">\n    <path clip-path=\"url(#p7b79edaee3)\" d=\"M 220.728125 224.64 \nL 251.164489 224.64 \nL 251.164489 224.555406 \nL 220.728125 224.555406 \nz\n\" style=\"fill:#1f77b4;\"/>\n   </g>\n   <g id=\"patch_9\">\n    <path clip-path=\"url(#p7b79edaee3)\" d=\"M 251.164489 224.64 \nL 281.600852 224.64 \nL 281.600852 224.64 \nL 251.164489 224.64 \nz\n\" style=\"fill:#1f77b4;\"/>\n   </g>\n   <g id=\"patch_10\">\n    <path clip-path=\"url(#p7b79edaee3)\" d=\"M 281.600852 224.64 \nL 312.037216 224.64 \nL 312.037216 224.555406 \nL 281.600852 224.555406 \nz\n\" style=\"fill:#1f77b4;\"/>\n   </g>\n   <g id=\"patch_11\">\n    <path clip-path=\"url(#p7b79edaee3)\" d=\"M 312.037216 224.64 \nL 342.47358 224.64 \nL 342.47358 224.64 \nL 312.037216 224.64 \nz\n\" style=\"fill:#1f77b4;\"/>\n   </g>\n   <g id=\"patch_12\">\n    <path clip-path=\"url(#p7b79edaee3)\" d=\"M 342.47358 224.64 \nL 372.909943 224.64 \nL 372.909943 224.555406 \nL 342.47358 224.555406 \nz\n\" style=\"fill:#1f77b4;\"/>\n   </g>\n   <g id=\"matplotlib.axis_1\">\n    <g id=\"xtick_1\">\n     <g id=\"line2d_1\">\n      <defs>\n       <path d=\"M 0 0 \nL 0 3.5 \n\" id=\"m3ad032ba12\" style=\"stroke:#000000;stroke-width:0.8;\"/>\n      </defs>\n      <g>\n       <use style=\"stroke:#000000;stroke-width:0.8;\" x=\"68.451223\" xlink:href=\"#m3ad032ba12\" y=\"224.64\"/>\n      </g>\n     </g>\n     <g id=\"text_1\">\n      <!-- 0 -->\n      <defs>\n       <path d=\"M 31.78125 66.40625 \nQ 24.171875 66.40625 20.328125 58.90625 \nQ 16.5 51.421875 16.5 36.375 \nQ 16.5 21.390625 20.328125 13.890625 \nQ 24.171875 6.390625 31.78125 6.390625 \nQ 39.453125 6.390625 43.28125 13.890625 \nQ 47.125 21.390625 47.125 36.375 \nQ 47.125 51.421875 43.28125 58.90625 \nQ 39.453125 66.40625 31.78125 66.40625 \nz\nM 31.78125 74.21875 \nQ 44.046875 74.21875 50.515625 64.515625 \nQ 56.984375 54.828125 56.984375 36.375 \nQ 56.984375 17.96875 50.515625 8.265625 \nQ 44.046875 -1.421875 31.78125 -1.421875 \nQ 19.53125 -1.421875 13.0625 8.265625 \nQ 6.59375 17.96875 6.59375 36.375 \nQ 6.59375 54.828125 13.0625 64.515625 \nQ 19.53125 74.21875 31.78125 74.21875 \nz\n\" id=\"DejaVuSans-48\"/>\n      </defs>\n      <g transform=\"translate(65.269973 239.238437)scale(0.1 -0.1)\">\n       <use xlink:href=\"#DejaVuSans-48\"/>\n      </g>\n     </g>\n    </g>\n    <g id=\"xtick_2\">\n     <g id=\"line2d_2\">\n      <g>\n       <use style=\"stroke:#000000;stroke-width:0.8;\" x=\"115.993184\" xlink:href=\"#m3ad032ba12\" y=\"224.64\"/>\n      </g>\n     </g>\n     <g id=\"text_2\">\n      <!-- 1000 -->\n      <defs>\n       <path d=\"M 12.40625 8.296875 \nL 28.515625 8.296875 \nL 28.515625 63.921875 \nL 10.984375 60.40625 \nL 10.984375 69.390625 \nL 28.421875 72.90625 \nL 38.28125 72.90625 \nL 38.28125 8.296875 \nL 54.390625 8.296875 \nL 54.390625 0 \nL 12.40625 0 \nz\n\" id=\"DejaVuSans-49\"/>\n      </defs>\n      <g transform=\"translate(103.268184 239.238437)scale(0.1 -0.1)\">\n       <use xlink:href=\"#DejaVuSans-49\"/>\n       <use x=\"63.623047\" xlink:href=\"#DejaVuSans-48\"/>\n       <use x=\"127.246094\" xlink:href=\"#DejaVuSans-48\"/>\n       <use x=\"190.869141\" xlink:href=\"#DejaVuSans-48\"/>\n      </g>\n     </g>\n    </g>\n    <g id=\"xtick_3\">\n     <g id=\"line2d_3\">\n      <g>\n       <use style=\"stroke:#000000;stroke-width:0.8;\" x=\"163.535146\" xlink:href=\"#m3ad032ba12\" y=\"224.64\"/>\n      </g>\n     </g>\n     <g id=\"text_3\">\n      <!-- 2000 -->\n      <defs>\n       <path d=\"M 19.1875 8.296875 \nL 53.609375 8.296875 \nL 53.609375 0 \nL 7.328125 0 \nL 7.328125 8.296875 \nQ 12.9375 14.109375 22.625 23.890625 \nQ 32.328125 33.6875 34.8125 36.53125 \nQ 39.546875 41.84375 41.421875 45.53125 \nQ 43.3125 49.21875 43.3125 52.78125 \nQ 43.3125 58.59375 39.234375 62.25 \nQ 35.15625 65.921875 28.609375 65.921875 \nQ 23.96875 65.921875 18.8125 64.3125 \nQ 13.671875 62.703125 7.8125 59.421875 \nL 7.8125 69.390625 \nQ 13.765625 71.78125 18.9375 73 \nQ 24.125 74.21875 28.421875 74.21875 \nQ 39.75 74.21875 46.484375 68.546875 \nQ 53.21875 62.890625 53.21875 53.421875 \nQ 53.21875 48.921875 51.53125 44.890625 \nQ 49.859375 40.875 45.40625 35.40625 \nQ 44.1875 33.984375 37.640625 27.21875 \nQ 31.109375 20.453125 19.1875 8.296875 \nz\n\" id=\"DejaVuSans-50\"/>\n      </defs>\n      <g transform=\"translate(150.810146 239.238437)scale(0.1 -0.1)\">\n       <use xlink:href=\"#DejaVuSans-50\"/>\n       <use x=\"63.623047\" xlink:href=\"#DejaVuSans-48\"/>\n       <use x=\"127.246094\" xlink:href=\"#DejaVuSans-48\"/>\n       <use x=\"190.869141\" xlink:href=\"#DejaVuSans-48\"/>\n      </g>\n     </g>\n    </g>\n    <g id=\"xtick_4\">\n     <g id=\"line2d_4\">\n      <g>\n       <use style=\"stroke:#000000;stroke-width:0.8;\" x=\"211.077107\" xlink:href=\"#m3ad032ba12\" y=\"224.64\"/>\n      </g>\n     </g>\n     <g id=\"text_4\">\n      <!-- 3000 -->\n      <defs>\n       <path d=\"M 40.578125 39.3125 \nQ 47.65625 37.796875 51.625 33 \nQ 55.609375 28.21875 55.609375 21.1875 \nQ 55.609375 10.40625 48.1875 4.484375 \nQ 40.765625 -1.421875 27.09375 -1.421875 \nQ 22.515625 -1.421875 17.65625 -0.515625 \nQ 12.796875 0.390625 7.625 2.203125 \nL 7.625 11.71875 \nQ 11.71875 9.328125 16.59375 8.109375 \nQ 21.484375 6.890625 26.8125 6.890625 \nQ 36.078125 6.890625 40.9375 10.546875 \nQ 45.796875 14.203125 45.796875 21.1875 \nQ 45.796875 27.640625 41.28125 31.265625 \nQ 36.765625 34.90625 28.71875 34.90625 \nL 20.21875 34.90625 \nL 20.21875 43.015625 \nL 29.109375 43.015625 \nQ 36.375 43.015625 40.234375 45.921875 \nQ 44.09375 48.828125 44.09375 54.296875 \nQ 44.09375 59.90625 40.109375 62.90625 \nQ 36.140625 65.921875 28.71875 65.921875 \nQ 24.65625 65.921875 20.015625 65.03125 \nQ 15.375 64.15625 9.8125 62.3125 \nL 9.8125 71.09375 \nQ 15.4375 72.65625 20.34375 73.4375 \nQ 25.25 74.21875 29.59375 74.21875 \nQ 40.828125 74.21875 47.359375 69.109375 \nQ 53.90625 64.015625 53.90625 55.328125 \nQ 53.90625 49.265625 50.4375 45.09375 \nQ 46.96875 40.921875 40.578125 39.3125 \nz\n\" id=\"DejaVuSans-51\"/>\n      </defs>\n      <g transform=\"translate(198.352107 239.238437)scale(0.1 -0.1)\">\n       <use xlink:href=\"#DejaVuSans-51\"/>\n       <use x=\"63.623047\" xlink:href=\"#DejaVuSans-48\"/>\n       <use x=\"127.246094\" xlink:href=\"#DejaVuSans-48\"/>\n       <use x=\"190.869141\" xlink:href=\"#DejaVuSans-48\"/>\n      </g>\n     </g>\n    </g>\n    <g id=\"xtick_5\">\n     <g id=\"line2d_5\">\n      <g>\n       <use style=\"stroke:#000000;stroke-width:0.8;\" x=\"258.619068\" xlink:href=\"#m3ad032ba12\" y=\"224.64\"/>\n      </g>\n     </g>\n     <g id=\"text_5\">\n      <!-- 4000 -->\n      <defs>\n       <path d=\"M 37.796875 64.3125 \nL 12.890625 25.390625 \nL 37.796875 25.390625 \nz\nM 35.203125 72.90625 \nL 47.609375 72.90625 \nL 47.609375 25.390625 \nL 58.015625 25.390625 \nL 58.015625 17.1875 \nL 47.609375 17.1875 \nL 47.609375 0 \nL 37.796875 0 \nL 37.796875 17.1875 \nL 4.890625 17.1875 \nL 4.890625 26.703125 \nz\n\" id=\"DejaVuSans-52\"/>\n      </defs>\n      <g transform=\"translate(245.894068 239.238437)scale(0.1 -0.1)\">\n       <use xlink:href=\"#DejaVuSans-52\"/>\n       <use x=\"63.623047\" xlink:href=\"#DejaVuSans-48\"/>\n       <use x=\"127.246094\" xlink:href=\"#DejaVuSans-48\"/>\n       <use x=\"190.869141\" xlink:href=\"#DejaVuSans-48\"/>\n      </g>\n     </g>\n    </g>\n    <g id=\"xtick_6\">\n     <g id=\"line2d_6\">\n      <g>\n       <use style=\"stroke:#000000;stroke-width:0.8;\" x=\"306.161029\" xlink:href=\"#m3ad032ba12\" y=\"224.64\"/>\n      </g>\n     </g>\n     <g id=\"text_6\">\n      <!-- 5000 -->\n      <defs>\n       <path d=\"M 10.796875 72.90625 \nL 49.515625 72.90625 \nL 49.515625 64.59375 \nL 19.828125 64.59375 \nL 19.828125 46.734375 \nQ 21.96875 47.46875 24.109375 47.828125 \nQ 26.265625 48.1875 28.421875 48.1875 \nQ 40.625 48.1875 47.75 41.5 \nQ 54.890625 34.8125 54.890625 23.390625 \nQ 54.890625 11.625 47.5625 5.09375 \nQ 40.234375 -1.421875 26.90625 -1.421875 \nQ 22.3125 -1.421875 17.546875 -0.640625 \nQ 12.796875 0.140625 7.71875 1.703125 \nL 7.71875 11.625 \nQ 12.109375 9.234375 16.796875 8.0625 \nQ 21.484375 6.890625 26.703125 6.890625 \nQ 35.15625 6.890625 40.078125 11.328125 \nQ 45.015625 15.765625 45.015625 23.390625 \nQ 45.015625 31 40.078125 35.4375 \nQ 35.15625 39.890625 26.703125 39.890625 \nQ 22.75 39.890625 18.8125 39.015625 \nQ 14.890625 38.140625 10.796875 36.28125 \nz\n\" id=\"DejaVuSans-53\"/>\n      </defs>\n      <g transform=\"translate(293.436029 239.238437)scale(0.1 -0.1)\">\n       <use xlink:href=\"#DejaVuSans-53\"/>\n       <use x=\"63.623047\" xlink:href=\"#DejaVuSans-48\"/>\n       <use x=\"127.246094\" xlink:href=\"#DejaVuSans-48\"/>\n       <use x=\"190.869141\" xlink:href=\"#DejaVuSans-48\"/>\n      </g>\n     </g>\n    </g>\n    <g id=\"xtick_7\">\n     <g id=\"line2d_7\">\n      <g>\n       <use style=\"stroke:#000000;stroke-width:0.8;\" x=\"353.702991\" xlink:href=\"#m3ad032ba12\" y=\"224.64\"/>\n      </g>\n     </g>\n     <g id=\"text_7\">\n      <!-- 6000 -->\n      <defs>\n       <path d=\"M 33.015625 40.375 \nQ 26.375 40.375 22.484375 35.828125 \nQ 18.609375 31.296875 18.609375 23.390625 \nQ 18.609375 15.53125 22.484375 10.953125 \nQ 26.375 6.390625 33.015625 6.390625 \nQ 39.65625 6.390625 43.53125 10.953125 \nQ 47.40625 15.53125 47.40625 23.390625 \nQ 47.40625 31.296875 43.53125 35.828125 \nQ 39.65625 40.375 33.015625 40.375 \nz\nM 52.59375 71.296875 \nL 52.59375 62.3125 \nQ 48.875 64.0625 45.09375 64.984375 \nQ 41.3125 65.921875 37.59375 65.921875 \nQ 27.828125 65.921875 22.671875 59.328125 \nQ 17.53125 52.734375 16.796875 39.40625 \nQ 19.671875 43.65625 24.015625 45.921875 \nQ 28.375 48.1875 33.59375 48.1875 \nQ 44.578125 48.1875 50.953125 41.515625 \nQ 57.328125 34.859375 57.328125 23.390625 \nQ 57.328125 12.15625 50.6875 5.359375 \nQ 44.046875 -1.421875 33.015625 -1.421875 \nQ 20.359375 -1.421875 13.671875 8.265625 \nQ 6.984375 17.96875 6.984375 36.375 \nQ 6.984375 53.65625 15.1875 63.9375 \nQ 23.390625 74.21875 37.203125 74.21875 \nQ 40.921875 74.21875 44.703125 73.484375 \nQ 48.484375 72.75 52.59375 71.296875 \nz\n\" id=\"DejaVuSans-54\"/>\n      </defs>\n      <g transform=\"translate(340.977991 239.238437)scale(0.1 -0.1)\">\n       <use xlink:href=\"#DejaVuSans-54\"/>\n       <use x=\"63.623047\" xlink:href=\"#DejaVuSans-48\"/>\n       <use x=\"127.246094\" xlink:href=\"#DejaVuSans-48\"/>\n       <use x=\"190.869141\" xlink:href=\"#DejaVuSans-48\"/>\n      </g>\n     </g>\n    </g>\n   </g>\n   <g id=\"matplotlib.axis_2\">\n    <g id=\"ytick_1\">\n     <g id=\"line2d_8\">\n      <defs>\n       <path d=\"M 0 0 \nL -3.5 0 \n\" id=\"m23c489485c\" style=\"stroke:#000000;stroke-width:0.8;\"/>\n      </defs>\n      <g>\n       <use style=\"stroke:#000000;stroke-width:0.8;\" x=\"53.328125\" xlink:href=\"#m23c489485c\" y=\"224.64\"/>\n      </g>\n     </g>\n     <g id=\"text_8\">\n      <!-- 0 -->\n      <g transform=\"translate(39.965625 228.439219)scale(0.1 -0.1)\">\n       <use xlink:href=\"#DejaVuSans-48\"/>\n      </g>\n     </g>\n    </g>\n    <g id=\"ytick_2\">\n     <g id=\"line2d_9\">\n      <g>\n       <use style=\"stroke:#000000;stroke-width:0.8;\" x=\"53.328125\" xlink:href=\"#m23c489485c\" y=\"182.343081\"/>\n      </g>\n     </g>\n     <g id=\"text_9\">\n      <!-- 500 -->\n      <g transform=\"translate(27.240625 186.1423)scale(0.1 -0.1)\">\n       <use xlink:href=\"#DejaVuSans-53\"/>\n       <use x=\"63.623047\" xlink:href=\"#DejaVuSans-48\"/>\n       <use x=\"127.246094\" xlink:href=\"#DejaVuSans-48\"/>\n      </g>\n     </g>\n    </g>\n    <g id=\"ytick_3\">\n     <g id=\"line2d_10\">\n      <g>\n       <use style=\"stroke:#000000;stroke-width:0.8;\" x=\"53.328125\" xlink:href=\"#m23c489485c\" y=\"140.046162\"/>\n      </g>\n     </g>\n     <g id=\"text_10\">\n      <!-- 1000 -->\n      <g transform=\"translate(20.878125 143.845381)scale(0.1 -0.1)\">\n       <use xlink:href=\"#DejaVuSans-49\"/>\n       <use x=\"63.623047\" xlink:href=\"#DejaVuSans-48\"/>\n       <use x=\"127.246094\" xlink:href=\"#DejaVuSans-48\"/>\n       <use x=\"190.869141\" xlink:href=\"#DejaVuSans-48\"/>\n      </g>\n     </g>\n    </g>\n    <g id=\"ytick_4\">\n     <g id=\"line2d_11\">\n      <g>\n       <use style=\"stroke:#000000;stroke-width:0.8;\" x=\"53.328125\" xlink:href=\"#m23c489485c\" y=\"97.749244\"/>\n      </g>\n     </g>\n     <g id=\"text_11\">\n      <!-- 1500 -->\n      <g transform=\"translate(20.878125 101.548462)scale(0.1 -0.1)\">\n       <use xlink:href=\"#DejaVuSans-49\"/>\n       <use x=\"63.623047\" xlink:href=\"#DejaVuSans-53\"/>\n       <use x=\"127.246094\" xlink:href=\"#DejaVuSans-48\"/>\n       <use x=\"190.869141\" xlink:href=\"#DejaVuSans-48\"/>\n      </g>\n     </g>\n    </g>\n    <g id=\"ytick_5\">\n     <g id=\"line2d_12\">\n      <g>\n       <use style=\"stroke:#000000;stroke-width:0.8;\" x=\"53.328125\" xlink:href=\"#m23c489485c\" y=\"55.452325\"/>\n      </g>\n     </g>\n     <g id=\"text_12\">\n      <!-- 2000 -->\n      <g transform=\"translate(20.878125 59.251544)scale(0.1 -0.1)\">\n       <use xlink:href=\"#DejaVuSans-50\"/>\n       <use x=\"63.623047\" xlink:href=\"#DejaVuSans-48\"/>\n       <use x=\"127.246094\" xlink:href=\"#DejaVuSans-48\"/>\n       <use x=\"190.869141\" xlink:href=\"#DejaVuSans-48\"/>\n      </g>\n     </g>\n    </g>\n    <g id=\"ytick_6\">\n     <g id=\"line2d_13\">\n      <g>\n       <use style=\"stroke:#000000;stroke-width:0.8;\" x=\"53.328125\" xlink:href=\"#m23c489485c\" y=\"13.155406\"/>\n      </g>\n     </g>\n     <g id=\"text_13\">\n      <!-- 2500 -->\n      <g transform=\"translate(20.878125 16.954625)scale(0.1 -0.1)\">\n       <use xlink:href=\"#DejaVuSans-50\"/>\n       <use x=\"63.623047\" xlink:href=\"#DejaVuSans-53\"/>\n       <use x=\"127.246094\" xlink:href=\"#DejaVuSans-48\"/>\n       <use x=\"190.869141\" xlink:href=\"#DejaVuSans-48\"/>\n      </g>\n     </g>\n    </g>\n    <g id=\"text_14\">\n     <!-- Frequency -->\n     <defs>\n      <path d=\"M 9.8125 72.90625 \nL 51.703125 72.90625 \nL 51.703125 64.59375 \nL 19.671875 64.59375 \nL 19.671875 43.109375 \nL 48.578125 43.109375 \nL 48.578125 34.8125 \nL 19.671875 34.8125 \nL 19.671875 0 \nL 9.8125 0 \nz\n\" id=\"DejaVuSans-70\"/>\n      <path d=\"M 41.109375 46.296875 \nQ 39.59375 47.171875 37.8125 47.578125 \nQ 36.03125 48 33.890625 48 \nQ 26.265625 48 22.1875 43.046875 \nQ 18.109375 38.09375 18.109375 28.8125 \nL 18.109375 0 \nL 9.078125 0 \nL 9.078125 54.6875 \nL 18.109375 54.6875 \nL 18.109375 46.1875 \nQ 20.953125 51.171875 25.484375 53.578125 \nQ 30.03125 56 36.53125 56 \nQ 37.453125 56 38.578125 55.875 \nQ 39.703125 55.765625 41.0625 55.515625 \nz\n\" id=\"DejaVuSans-114\"/>\n      <path d=\"M 56.203125 29.59375 \nL 56.203125 25.203125 \nL 14.890625 25.203125 \nQ 15.484375 15.921875 20.484375 11.0625 \nQ 25.484375 6.203125 34.421875 6.203125 \nQ 39.59375 6.203125 44.453125 7.46875 \nQ 49.3125 8.734375 54.109375 11.28125 \nL 54.109375 2.78125 \nQ 49.265625 0.734375 44.1875 -0.34375 \nQ 39.109375 -1.421875 33.890625 -1.421875 \nQ 20.796875 -1.421875 13.15625 6.1875 \nQ 5.515625 13.8125 5.515625 26.8125 \nQ 5.515625 40.234375 12.765625 48.109375 \nQ 20.015625 56 32.328125 56 \nQ 43.359375 56 49.78125 48.890625 \nQ 56.203125 41.796875 56.203125 29.59375 \nz\nM 47.21875 32.234375 \nQ 47.125 39.59375 43.09375 43.984375 \nQ 39.0625 48.390625 32.421875 48.390625 \nQ 24.90625 48.390625 20.390625 44.140625 \nQ 15.875 39.890625 15.1875 32.171875 \nz\n\" id=\"DejaVuSans-101\"/>\n      <path d=\"M 14.796875 27.296875 \nQ 14.796875 17.390625 18.875 11.75 \nQ 22.953125 6.109375 30.078125 6.109375 \nQ 37.203125 6.109375 41.296875 11.75 \nQ 45.40625 17.390625 45.40625 27.296875 \nQ 45.40625 37.203125 41.296875 42.84375 \nQ 37.203125 48.484375 30.078125 48.484375 \nQ 22.953125 48.484375 18.875 42.84375 \nQ 14.796875 37.203125 14.796875 27.296875 \nz\nM 45.40625 8.203125 \nQ 42.578125 3.328125 38.25 0.953125 \nQ 33.9375 -1.421875 27.875 -1.421875 \nQ 17.96875 -1.421875 11.734375 6.484375 \nQ 5.515625 14.40625 5.515625 27.296875 \nQ 5.515625 40.1875 11.734375 48.09375 \nQ 17.96875 56 27.875 56 \nQ 33.9375 56 38.25 53.625 \nQ 42.578125 51.265625 45.40625 46.390625 \nL 45.40625 54.6875 \nL 54.390625 54.6875 \nL 54.390625 -20.796875 \nL 45.40625 -20.796875 \nz\n\" id=\"DejaVuSans-113\"/>\n      <path d=\"M 8.5 21.578125 \nL 8.5 54.6875 \nL 17.484375 54.6875 \nL 17.484375 21.921875 \nQ 17.484375 14.15625 20.5 10.265625 \nQ 23.53125 6.390625 29.59375 6.390625 \nQ 36.859375 6.390625 41.078125 11.03125 \nQ 45.3125 15.671875 45.3125 23.6875 \nL 45.3125 54.6875 \nL 54.296875 54.6875 \nL 54.296875 0 \nL 45.3125 0 \nL 45.3125 8.40625 \nQ 42.046875 3.421875 37.71875 1 \nQ 33.40625 -1.421875 27.6875 -1.421875 \nQ 18.265625 -1.421875 13.375 4.4375 \nQ 8.5 10.296875 8.5 21.578125 \nz\nM 31.109375 56 \nz\n\" id=\"DejaVuSans-117\"/>\n      <path d=\"M 54.890625 33.015625 \nL 54.890625 0 \nL 45.90625 0 \nL 45.90625 32.71875 \nQ 45.90625 40.484375 42.875 44.328125 \nQ 39.84375 48.1875 33.796875 48.1875 \nQ 26.515625 48.1875 22.3125 43.546875 \nQ 18.109375 38.921875 18.109375 30.90625 \nL 18.109375 0 \nL 9.078125 0 \nL 9.078125 54.6875 \nL 18.109375 54.6875 \nL 18.109375 46.1875 \nQ 21.34375 51.125 25.703125 53.5625 \nQ 30.078125 56 35.796875 56 \nQ 45.21875 56 50.046875 50.171875 \nQ 54.890625 44.34375 54.890625 33.015625 \nz\n\" id=\"DejaVuSans-110\"/>\n      <path d=\"M 48.78125 52.59375 \nL 48.78125 44.1875 \nQ 44.96875 46.296875 41.140625 47.34375 \nQ 37.3125 48.390625 33.40625 48.390625 \nQ 24.65625 48.390625 19.8125 42.84375 \nQ 14.984375 37.3125 14.984375 27.296875 \nQ 14.984375 17.28125 19.8125 11.734375 \nQ 24.65625 6.203125 33.40625 6.203125 \nQ 37.3125 6.203125 41.140625 7.25 \nQ 44.96875 8.296875 48.78125 10.40625 \nL 48.78125 2.09375 \nQ 45.015625 0.34375 40.984375 -0.53125 \nQ 36.96875 -1.421875 32.421875 -1.421875 \nQ 20.0625 -1.421875 12.78125 6.34375 \nQ 5.515625 14.109375 5.515625 27.296875 \nQ 5.515625 40.671875 12.859375 48.328125 \nQ 20.21875 56 33.015625 56 \nQ 37.15625 56 41.109375 55.140625 \nQ 45.0625 54.296875 48.78125 52.59375 \nz\n\" id=\"DejaVuSans-99\"/>\n      <path d=\"M 32.171875 -5.078125 \nQ 28.375 -14.84375 24.75 -17.8125 \nQ 21.140625 -20.796875 15.09375 -20.796875 \nL 7.90625 -20.796875 \nL 7.90625 -13.28125 \nL 13.1875 -13.28125 \nQ 16.890625 -13.28125 18.9375 -11.515625 \nQ 21 -9.765625 23.484375 -3.21875 \nL 25.09375 0.875 \nL 2.984375 54.6875 \nL 12.5 54.6875 \nL 29.59375 11.921875 \nL 46.6875 54.6875 \nL 56.203125 54.6875 \nz\n\" id=\"DejaVuSans-121\"/>\n     </defs>\n     <g transform=\"translate(14.798438 141.749687)rotate(-90)scale(0.1 -0.1)\">\n      <use xlink:href=\"#DejaVuSans-70\"/>\n      <use x=\"50.269531\" xlink:href=\"#DejaVuSans-114\"/>\n      <use x=\"89.132812\" xlink:href=\"#DejaVuSans-101\"/>\n      <use x=\"150.65625\" xlink:href=\"#DejaVuSans-113\"/>\n      <use x=\"214.132812\" xlink:href=\"#DejaVuSans-117\"/>\n      <use x=\"277.511719\" xlink:href=\"#DejaVuSans-101\"/>\n      <use x=\"339.035156\" xlink:href=\"#DejaVuSans-110\"/>\n      <use x=\"402.414062\" xlink:href=\"#DejaVuSans-99\"/>\n      <use x=\"457.394531\" xlink:href=\"#DejaVuSans-121\"/>\n     </g>\n    </g>\n   </g>\n   <g id=\"patch_13\">\n    <path d=\"M 53.328125 224.64 \nL 53.328125 7.2 \n\" style=\"fill:none;stroke:#000000;stroke-linecap:square;stroke-linejoin:miter;stroke-width:0.8;\"/>\n   </g>\n   <g id=\"patch_14\">\n    <path d=\"M 388.128125 224.64 \nL 388.128125 7.2 \n\" style=\"fill:none;stroke:#000000;stroke-linecap:square;stroke-linejoin:miter;stroke-width:0.8;\"/>\n   </g>\n   <g id=\"patch_15\">\n    <path d=\"M 53.328125 224.64 \nL 388.128125 224.64 \n\" style=\"fill:none;stroke:#000000;stroke-linecap:square;stroke-linejoin:miter;stroke-width:0.8;\"/>\n   </g>\n   <g id=\"patch_16\">\n    <path d=\"M 53.328125 7.2 \nL 388.128125 7.2 \n\" style=\"fill:none;stroke:#000000;stroke-linecap:square;stroke-linejoin:miter;stroke-width:0.8;\"/>\n   </g>\n  </g>\n </g>\n <defs>\n  <clipPath id=\"p7b79edaee3\">\n   <rect height=\"217.44\" width=\"334.8\" x=\"53.328125\" y=\"7.2\"/>\n  </clipPath>\n </defs>\n</svg>\n",
      "image/png": "[encoded data removed]"
     },
     "metadata": {
      "needs_background": "light"
     }
    }
   ],
   "source": [
    "ted.comments.plot(kind='hist') # histogram divides into default 10 bins, frequency distribution\n",
    "# lot more low comments"
   ]
  },
  {
   "cell_type": "code",
   "execution_count": 25,
   "metadata": {},
   "outputs": [
    {
     "output_type": "execute_result",
     "data": {
      "text/plain": [
       "<matplotlib.axes._subplots.AxesSubplot at 0x7fb9e8538340>"
      ]
     },
     "metadata": {},
     "execution_count": 25
    },
    {
     "output_type": "display_data",
     "data": {
      "text/plain": "<Figure size 432x288 with 1 Axes>",
      "image/svg+xml": "<?xml version=\"1.0\" encoding=\"utf-8\" standalone=\"no\"?>\n<!DOCTYPE svg PUBLIC \"-//W3C//DTD SVG 1.1//EN\"\n  \"http://www.w3.org/Graphics/SVG/1.1/DTD/svg11.dtd\">\n<!-- Created with matplotlib (https://matplotlib.org/) -->\n<svg height=\"248.518125pt\" version=\"1.1\" viewBox=\"0 0 395.328125 248.518125\" width=\"395.328125pt\" xmlns=\"http://www.w3.org/2000/svg\" xmlns:xlink=\"http://www.w3.org/1999/xlink\">\n <defs>\n  <style type=\"text/css\">\n*{stroke-linecap:butt;stroke-linejoin:round;}\n  </style>\n </defs>\n <g id=\"figure_1\">\n  <g id=\"patch_1\">\n   <path d=\"M 0 248.518125 \nL 395.328125 248.518125 \nL 395.328125 0 \nL 0 0 \nz\n\" style=\"fill:none;\"/>\n  </g>\n  <g id=\"axes_1\">\n   <g id=\"patch_2\">\n    <path d=\"M 53.328125 224.64 \nL 388.128125 224.64 \nL 388.128125 7.2 \nL 53.328125 7.2 \nz\n\" style=\"fill:#ffffff;\"/>\n   </g>\n   <g id=\"patch_3\">\n    <path clip-path=\"url(#p1bdc28e3b3)\" d=\"M 68.546307 224.64 \nL 98.98267 224.64 \nL 98.98267 17.554286 \nL 68.546307 17.554286 \nz\n\" style=\"fill:#1f77b4;\"/>\n   </g>\n   <g id=\"patch_4\">\n    <path clip-path=\"url(#p1bdc28e3b3)\" d=\"M 98.98267 224.64 \nL 129.419034 224.64 \nL 129.419034 92.15776 \nL 98.98267 92.15776 \nz\n\" style=\"fill:#1f77b4;\"/>\n   </g>\n   <g id=\"patch_5\">\n    <path clip-path=\"url(#p1bdc28e3b3)\" d=\"M 129.419034 224.64 \nL 159.855398 224.64 \nL 159.855398 162.063282 \nL 129.419034 162.063282 \nz\n\" style=\"fill:#1f77b4;\"/>\n   </g>\n   <g id=\"patch_6\">\n    <path clip-path=\"url(#p1bdc28e3b3)\" d=\"M 159.855398 224.64 \nL 190.291761 224.64 \nL 190.291761 194.761027 \nL 159.855398 194.761027 \nz\n\" style=\"fill:#1f77b4;\"/>\n   </g>\n   <g id=\"patch_7\">\n    <path clip-path=\"url(#p1bdc28e3b3)\" d=\"M 190.291761 224.64 \nL 220.728125 224.64 \nL 220.728125 209.98239 \nL 190.291761 209.98239 \nz\n\" style=\"fill:#1f77b4;\"/>\n   </g>\n   <g id=\"patch_8\">\n    <path clip-path=\"url(#p1bdc28e3b3)\" d=\"M 220.728125 224.64 \nL 251.164489 224.64 \nL 251.164489 214.304506 \nL 220.728125 214.304506 \nz\n\" style=\"fill:#1f77b4;\"/>\n   </g>\n   <g id=\"patch_9\">\n    <path clip-path=\"url(#p1bdc28e3b3)\" d=\"M 251.164489 224.64 \nL 281.600852 224.64 \nL 281.600852 218.438704 \nL 251.164489 218.438704 \nz\n\" style=\"fill:#1f77b4;\"/>\n   </g>\n   <g id=\"patch_10\">\n    <path clip-path=\"url(#p1bdc28e3b3)\" d=\"M 281.600852 224.64 \nL 312.037216 224.64 \nL 312.037216 221.069557 \nL 281.600852 221.069557 \nz\n\" style=\"fill:#1f77b4;\"/>\n   </g>\n   <g id=\"patch_11\">\n    <path clip-path=\"url(#p1bdc28e3b3)\" d=\"M 312.037216 224.64 \nL 342.47358 224.64 \nL 342.47358 221.445393 \nL 312.037216 221.445393 \nz\n\" style=\"fill:#1f77b4;\"/>\n   </g>\n   <g id=\"patch_12\">\n    <path clip-path=\"url(#p1bdc28e3b3)\" d=\"M 342.47358 224.64 \nL 372.909943 224.64 \nL 372.909943 221.445393 \nL 342.47358 221.445393 \nz\n\" style=\"fill:#1f77b4;\"/>\n   </g>\n   <g id=\"matplotlib.axis_1\">\n    <g id=\"xtick_1\">\n     <g id=\"line2d_1\">\n      <defs>\n       <path d=\"M 0 0 \nL 0 3.5 \n\" id=\"mc4d6908220\" style=\"stroke:#000000;stroke-width:0.8;\"/>\n      </defs>\n      <g>\n       <use style=\"stroke:#000000;stroke-width:0.8;\" x=\"67.931431\" xlink:href=\"#mc4d6908220\" y=\"224.64\"/>\n      </g>\n     </g>\n     <g id=\"text_1\">\n      <!-- 0 -->\n      <defs>\n       <path d=\"M 31.78125 66.40625 \nQ 24.171875 66.40625 20.328125 58.90625 \nQ 16.5 51.421875 16.5 36.375 \nQ 16.5 21.390625 20.328125 13.890625 \nQ 24.171875 6.390625 31.78125 6.390625 \nQ 39.453125 6.390625 43.28125 13.890625 \nQ 47.125 21.390625 47.125 36.375 \nQ 47.125 51.421875 43.28125 58.90625 \nQ 39.453125 66.40625 31.78125 66.40625 \nz\nM 31.78125 74.21875 \nQ 44.046875 74.21875 50.515625 64.515625 \nQ 56.984375 54.828125 56.984375 36.375 \nQ 56.984375 17.96875 50.515625 8.265625 \nQ 44.046875 -1.421875 31.78125 -1.421875 \nQ 19.53125 -1.421875 13.0625 8.265625 \nQ 6.59375 17.96875 6.59375 36.375 \nQ 6.59375 54.828125 13.0625 64.515625 \nQ 19.53125 74.21875 31.78125 74.21875 \nz\n\" id=\"DejaVuSans-48\"/>\n      </defs>\n      <g transform=\"translate(64.750181 239.238437)scale(0.1 -0.1)\">\n       <use xlink:href=\"#DejaVuSans-48\"/>\n      </g>\n     </g>\n    </g>\n    <g id=\"xtick_2\">\n     <g id=\"line2d_2\">\n      <g>\n       <use style=\"stroke:#000000;stroke-width:0.8;\" x=\"129.419034\" xlink:href=\"#mc4d6908220\" y=\"224.64\"/>\n      </g>\n     </g>\n     <g id=\"text_2\">\n      <!-- 200 -->\n      <defs>\n       <path d=\"M 19.1875 8.296875 \nL 53.609375 8.296875 \nL 53.609375 0 \nL 7.328125 0 \nL 7.328125 8.296875 \nQ 12.9375 14.109375 22.625 23.890625 \nQ 32.328125 33.6875 34.8125 36.53125 \nQ 39.546875 41.84375 41.421875 45.53125 \nQ 43.3125 49.21875 43.3125 52.78125 \nQ 43.3125 58.59375 39.234375 62.25 \nQ 35.15625 65.921875 28.609375 65.921875 \nQ 23.96875 65.921875 18.8125 64.3125 \nQ 13.671875 62.703125 7.8125 59.421875 \nL 7.8125 69.390625 \nQ 13.765625 71.78125 18.9375 73 \nQ 24.125 74.21875 28.421875 74.21875 \nQ 39.75 74.21875 46.484375 68.546875 \nQ 53.21875 62.890625 53.21875 53.421875 \nQ 53.21875 48.921875 51.53125 44.890625 \nQ 49.859375 40.875 45.40625 35.40625 \nQ 44.1875 33.984375 37.640625 27.21875 \nQ 31.109375 20.453125 19.1875 8.296875 \nz\n\" id=\"DejaVuSans-50\"/>\n      </defs>\n      <g transform=\"translate(119.875284 239.238437)scale(0.1 -0.1)\">\n       <use xlink:href=\"#DejaVuSans-50\"/>\n       <use x=\"63.623047\" xlink:href=\"#DejaVuSans-48\"/>\n       <use x=\"127.246094\" xlink:href=\"#DejaVuSans-48\"/>\n      </g>\n     </g>\n    </g>\n    <g id=\"xtick_3\">\n     <g id=\"line2d_3\">\n      <g>\n       <use style=\"stroke:#000000;stroke-width:0.8;\" x=\"190.906637\" xlink:href=\"#mc4d6908220\" y=\"224.64\"/>\n      </g>\n     </g>\n     <g id=\"text_3\">\n      <!-- 400 -->\n      <defs>\n       <path d=\"M 37.796875 64.3125 \nL 12.890625 25.390625 \nL 37.796875 25.390625 \nz\nM 35.203125 72.90625 \nL 47.609375 72.90625 \nL 47.609375 25.390625 \nL 58.015625 25.390625 \nL 58.015625 17.1875 \nL 47.609375 17.1875 \nL 47.609375 0 \nL 37.796875 0 \nL 37.796875 17.1875 \nL 4.890625 17.1875 \nL 4.890625 26.703125 \nz\n\" id=\"DejaVuSans-52\"/>\n      </defs>\n      <g transform=\"translate(181.362887 239.238437)scale(0.1 -0.1)\">\n       <use xlink:href=\"#DejaVuSans-52\"/>\n       <use x=\"63.623047\" xlink:href=\"#DejaVuSans-48\"/>\n       <use x=\"127.246094\" xlink:href=\"#DejaVuSans-48\"/>\n      </g>\n     </g>\n    </g>\n    <g id=\"xtick_4\">\n     <g id=\"line2d_4\">\n      <g>\n       <use style=\"stroke:#000000;stroke-width:0.8;\" x=\"252.394241\" xlink:href=\"#mc4d6908220\" y=\"224.64\"/>\n      </g>\n     </g>\n     <g id=\"text_4\">\n      <!-- 600 -->\n      <defs>\n       <path d=\"M 33.015625 40.375 \nQ 26.375 40.375 22.484375 35.828125 \nQ 18.609375 31.296875 18.609375 23.390625 \nQ 18.609375 15.53125 22.484375 10.953125 \nQ 26.375 6.390625 33.015625 6.390625 \nQ 39.65625 6.390625 43.53125 10.953125 \nQ 47.40625 15.53125 47.40625 23.390625 \nQ 47.40625 31.296875 43.53125 35.828125 \nQ 39.65625 40.375 33.015625 40.375 \nz\nM 52.59375 71.296875 \nL 52.59375 62.3125 \nQ 48.875 64.0625 45.09375 64.984375 \nQ 41.3125 65.921875 37.59375 65.921875 \nQ 27.828125 65.921875 22.671875 59.328125 \nQ 17.53125 52.734375 16.796875 39.40625 \nQ 19.671875 43.65625 24.015625 45.921875 \nQ 28.375 48.1875 33.59375 48.1875 \nQ 44.578125 48.1875 50.953125 41.515625 \nQ 57.328125 34.859375 57.328125 23.390625 \nQ 57.328125 12.15625 50.6875 5.359375 \nQ 44.046875 -1.421875 33.015625 -1.421875 \nQ 20.359375 -1.421875 13.671875 8.265625 \nQ 6.984375 17.96875 6.984375 36.375 \nQ 6.984375 53.65625 15.1875 63.9375 \nQ 23.390625 74.21875 37.203125 74.21875 \nQ 40.921875 74.21875 44.703125 73.484375 \nQ 48.484375 72.75 52.59375 71.296875 \nz\n\" id=\"DejaVuSans-54\"/>\n      </defs>\n      <g transform=\"translate(242.850491 239.238437)scale(0.1 -0.1)\">\n       <use xlink:href=\"#DejaVuSans-54\"/>\n       <use x=\"63.623047\" xlink:href=\"#DejaVuSans-48\"/>\n       <use x=\"127.246094\" xlink:href=\"#DejaVuSans-48\"/>\n      </g>\n     </g>\n    </g>\n    <g id=\"xtick_5\">\n     <g id=\"line2d_5\">\n      <g>\n       <use style=\"stroke:#000000;stroke-width:0.8;\" x=\"313.881844\" xlink:href=\"#mc4d6908220\" y=\"224.64\"/>\n      </g>\n     </g>\n     <g id=\"text_5\">\n      <!-- 800 -->\n      <defs>\n       <path d=\"M 31.78125 34.625 \nQ 24.75 34.625 20.71875 30.859375 \nQ 16.703125 27.09375 16.703125 20.515625 \nQ 16.703125 13.921875 20.71875 10.15625 \nQ 24.75 6.390625 31.78125 6.390625 \nQ 38.8125 6.390625 42.859375 10.171875 \nQ 46.921875 13.96875 46.921875 20.515625 \nQ 46.921875 27.09375 42.890625 30.859375 \nQ 38.875 34.625 31.78125 34.625 \nz\nM 21.921875 38.8125 \nQ 15.578125 40.375 12.03125 44.71875 \nQ 8.5 49.078125 8.5 55.328125 \nQ 8.5 64.0625 14.71875 69.140625 \nQ 20.953125 74.21875 31.78125 74.21875 \nQ 42.671875 74.21875 48.875 69.140625 \nQ 55.078125 64.0625 55.078125 55.328125 \nQ 55.078125 49.078125 51.53125 44.71875 \nQ 48 40.375 41.703125 38.8125 \nQ 48.828125 37.15625 52.796875 32.3125 \nQ 56.78125 27.484375 56.78125 20.515625 \nQ 56.78125 9.90625 50.3125 4.234375 \nQ 43.84375 -1.421875 31.78125 -1.421875 \nQ 19.734375 -1.421875 13.25 4.234375 \nQ 6.78125 9.90625 6.78125 20.515625 \nQ 6.78125 27.484375 10.78125 32.3125 \nQ 14.796875 37.15625 21.921875 38.8125 \nz\nM 18.3125 54.390625 \nQ 18.3125 48.734375 21.84375 45.5625 \nQ 25.390625 42.390625 31.78125 42.390625 \nQ 38.140625 42.390625 41.71875 45.5625 \nQ 45.3125 48.734375 45.3125 54.390625 \nQ 45.3125 60.0625 41.71875 63.234375 \nQ 38.140625 66.40625 31.78125 66.40625 \nQ 25.390625 66.40625 21.84375 63.234375 \nQ 18.3125 60.0625 18.3125 54.390625 \nz\n\" id=\"DejaVuSans-56\"/>\n      </defs>\n      <g transform=\"translate(304.338094 239.238437)scale(0.1 -0.1)\">\n       <use xlink:href=\"#DejaVuSans-56\"/>\n       <use x=\"63.623047\" xlink:href=\"#DejaVuSans-48\"/>\n       <use x=\"127.246094\" xlink:href=\"#DejaVuSans-48\"/>\n      </g>\n     </g>\n    </g>\n    <g id=\"xtick_6\">\n     <g id=\"line2d_6\">\n      <g>\n       <use style=\"stroke:#000000;stroke-width:0.8;\" x=\"375.369447\" xlink:href=\"#mc4d6908220\" y=\"224.64\"/>\n      </g>\n     </g>\n     <g id=\"text_6\">\n      <!-- 1000 -->\n      <defs>\n       <path d=\"M 12.40625 8.296875 \nL 28.515625 8.296875 \nL 28.515625 63.921875 \nL 10.984375 60.40625 \nL 10.984375 69.390625 \nL 28.421875 72.90625 \nL 38.28125 72.90625 \nL 38.28125 8.296875 \nL 54.390625 8.296875 \nL 54.390625 0 \nL 12.40625 0 \nz\n\" id=\"DejaVuSans-49\"/>\n      </defs>\n      <g transform=\"translate(362.644447 239.238437)scale(0.1 -0.1)\">\n       <use xlink:href=\"#DejaVuSans-49\"/>\n       <use x=\"63.623047\" xlink:href=\"#DejaVuSans-48\"/>\n       <use x=\"127.246094\" xlink:href=\"#DejaVuSans-48\"/>\n       <use x=\"190.869141\" xlink:href=\"#DejaVuSans-48\"/>\n      </g>\n     </g>\n    </g>\n   </g>\n   <g id=\"matplotlib.axis_2\">\n    <g id=\"ytick_1\">\n     <g id=\"line2d_7\">\n      <defs>\n       <path d=\"M 0 0 \nL -3.5 0 \n\" id=\"m3b02e67df2\" style=\"stroke:#000000;stroke-width:0.8;\"/>\n      </defs>\n      <g>\n       <use style=\"stroke:#000000;stroke-width:0.8;\" x=\"53.328125\" xlink:href=\"#m3b02e67df2\" y=\"224.64\"/>\n      </g>\n     </g>\n     <g id=\"text_7\">\n      <!-- 0 -->\n      <g transform=\"translate(39.965625 228.439219)scale(0.1 -0.1)\">\n       <use xlink:href=\"#DejaVuSans-48\"/>\n      </g>\n     </g>\n    </g>\n    <g id=\"ytick_2\">\n     <g id=\"line2d_8\">\n      <g>\n       <use style=\"stroke:#000000;stroke-width:0.8;\" x=\"53.328125\" xlink:href=\"#m3b02e67df2\" y=\"187.056386\"/>\n      </g>\n     </g>\n     <g id=\"text_8\">\n      <!-- 200 -->\n      <g transform=\"translate(27.240625 190.855605)scale(0.1 -0.1)\">\n       <use xlink:href=\"#DejaVuSans-50\"/>\n       <use x=\"63.623047\" xlink:href=\"#DejaVuSans-48\"/>\n       <use x=\"127.246094\" xlink:href=\"#DejaVuSans-48\"/>\n      </g>\n     </g>\n    </g>\n    <g id=\"ytick_3\">\n     <g id=\"line2d_9\">\n      <g>\n       <use style=\"stroke:#000000;stroke-width:0.8;\" x=\"53.328125\" xlink:href=\"#m3b02e67df2\" y=\"149.472772\"/>\n      </g>\n     </g>\n     <g id=\"text_9\">\n      <!-- 400 -->\n      <g transform=\"translate(27.240625 153.27199)scale(0.1 -0.1)\">\n       <use xlink:href=\"#DejaVuSans-52\"/>\n       <use x=\"63.623047\" xlink:href=\"#DejaVuSans-48\"/>\n       <use x=\"127.246094\" xlink:href=\"#DejaVuSans-48\"/>\n      </g>\n     </g>\n    </g>\n    <g id=\"ytick_4\">\n     <g id=\"line2d_10\">\n      <g>\n       <use style=\"stroke:#000000;stroke-width:0.8;\" x=\"53.328125\" xlink:href=\"#m3b02e67df2\" y=\"111.889157\"/>\n      </g>\n     </g>\n     <g id=\"text_10\">\n      <!-- 600 -->\n      <g transform=\"translate(27.240625 115.688376)scale(0.1 -0.1)\">\n       <use xlink:href=\"#DejaVuSans-54\"/>\n       <use x=\"63.623047\" xlink:href=\"#DejaVuSans-48\"/>\n       <use x=\"127.246094\" xlink:href=\"#DejaVuSans-48\"/>\n      </g>\n     </g>\n    </g>\n    <g id=\"ytick_5\">\n     <g id=\"line2d_11\">\n      <g>\n       <use style=\"stroke:#000000;stroke-width:0.8;\" x=\"53.328125\" xlink:href=\"#m3b02e67df2\" y=\"74.305543\"/>\n      </g>\n     </g>\n     <g id=\"text_11\">\n      <!-- 800 -->\n      <g transform=\"translate(27.240625 78.104762)scale(0.1 -0.1)\">\n       <use xlink:href=\"#DejaVuSans-56\"/>\n       <use x=\"63.623047\" xlink:href=\"#DejaVuSans-48\"/>\n       <use x=\"127.246094\" xlink:href=\"#DejaVuSans-48\"/>\n      </g>\n     </g>\n    </g>\n    <g id=\"ytick_6\">\n     <g id=\"line2d_12\">\n      <g>\n       <use style=\"stroke:#000000;stroke-width:0.8;\" x=\"53.328125\" xlink:href=\"#m3b02e67df2\" y=\"36.721929\"/>\n      </g>\n     </g>\n     <g id=\"text_12\">\n      <!-- 1000 -->\n      <g transform=\"translate(20.878125 40.521148)scale(0.1 -0.1)\">\n       <use xlink:href=\"#DejaVuSans-49\"/>\n       <use x=\"63.623047\" xlink:href=\"#DejaVuSans-48\"/>\n       <use x=\"127.246094\" xlink:href=\"#DejaVuSans-48\"/>\n       <use x=\"190.869141\" xlink:href=\"#DejaVuSans-48\"/>\n      </g>\n     </g>\n    </g>\n    <g id=\"text_13\">\n     <!-- Frequency -->\n     <defs>\n      <path d=\"M 9.8125 72.90625 \nL 51.703125 72.90625 \nL 51.703125 64.59375 \nL 19.671875 64.59375 \nL 19.671875 43.109375 \nL 48.578125 43.109375 \nL 48.578125 34.8125 \nL 19.671875 34.8125 \nL 19.671875 0 \nL 9.8125 0 \nz\n\" id=\"DejaVuSans-70\"/>\n      <path d=\"M 41.109375 46.296875 \nQ 39.59375 47.171875 37.8125 47.578125 \nQ 36.03125 48 33.890625 48 \nQ 26.265625 48 22.1875 43.046875 \nQ 18.109375 38.09375 18.109375 28.8125 \nL 18.109375 0 \nL 9.078125 0 \nL 9.078125 54.6875 \nL 18.109375 54.6875 \nL 18.109375 46.1875 \nQ 20.953125 51.171875 25.484375 53.578125 \nQ 30.03125 56 36.53125 56 \nQ 37.453125 56 38.578125 55.875 \nQ 39.703125 55.765625 41.0625 55.515625 \nz\n\" id=\"DejaVuSans-114\"/>\n      <path d=\"M 56.203125 29.59375 \nL 56.203125 25.203125 \nL 14.890625 25.203125 \nQ 15.484375 15.921875 20.484375 11.0625 \nQ 25.484375 6.203125 34.421875 6.203125 \nQ 39.59375 6.203125 44.453125 7.46875 \nQ 49.3125 8.734375 54.109375 11.28125 \nL 54.109375 2.78125 \nQ 49.265625 0.734375 44.1875 -0.34375 \nQ 39.109375 -1.421875 33.890625 -1.421875 \nQ 20.796875 -1.421875 13.15625 6.1875 \nQ 5.515625 13.8125 5.515625 26.8125 \nQ 5.515625 40.234375 12.765625 48.109375 \nQ 20.015625 56 32.328125 56 \nQ 43.359375 56 49.78125 48.890625 \nQ 56.203125 41.796875 56.203125 29.59375 \nz\nM 47.21875 32.234375 \nQ 47.125 39.59375 43.09375 43.984375 \nQ 39.0625 48.390625 32.421875 48.390625 \nQ 24.90625 48.390625 20.390625 44.140625 \nQ 15.875 39.890625 15.1875 32.171875 \nz\n\" id=\"DejaVuSans-101\"/>\n      <path d=\"M 14.796875 27.296875 \nQ 14.796875 17.390625 18.875 11.75 \nQ 22.953125 6.109375 30.078125 6.109375 \nQ 37.203125 6.109375 41.296875 11.75 \nQ 45.40625 17.390625 45.40625 27.296875 \nQ 45.40625 37.203125 41.296875 42.84375 \nQ 37.203125 48.484375 30.078125 48.484375 \nQ 22.953125 48.484375 18.875 42.84375 \nQ 14.796875 37.203125 14.796875 27.296875 \nz\nM 45.40625 8.203125 \nQ 42.578125 3.328125 38.25 0.953125 \nQ 33.9375 -1.421875 27.875 -1.421875 \nQ 17.96875 -1.421875 11.734375 6.484375 \nQ 5.515625 14.40625 5.515625 27.296875 \nQ 5.515625 40.1875 11.734375 48.09375 \nQ 17.96875 56 27.875 56 \nQ 33.9375 56 38.25 53.625 \nQ 42.578125 51.265625 45.40625 46.390625 \nL 45.40625 54.6875 \nL 54.390625 54.6875 \nL 54.390625 -20.796875 \nL 45.40625 -20.796875 \nz\n\" id=\"DejaVuSans-113\"/>\n      <path d=\"M 8.5 21.578125 \nL 8.5 54.6875 \nL 17.484375 54.6875 \nL 17.484375 21.921875 \nQ 17.484375 14.15625 20.5 10.265625 \nQ 23.53125 6.390625 29.59375 6.390625 \nQ 36.859375 6.390625 41.078125 11.03125 \nQ 45.3125 15.671875 45.3125 23.6875 \nL 45.3125 54.6875 \nL 54.296875 54.6875 \nL 54.296875 0 \nL 45.3125 0 \nL 45.3125 8.40625 \nQ 42.046875 3.421875 37.71875 1 \nQ 33.40625 -1.421875 27.6875 -1.421875 \nQ 18.265625 -1.421875 13.375 4.4375 \nQ 8.5 10.296875 8.5 21.578125 \nz\nM 31.109375 56 \nz\n\" id=\"DejaVuSans-117\"/>\n      <path d=\"M 54.890625 33.015625 \nL 54.890625 0 \nL 45.90625 0 \nL 45.90625 32.71875 \nQ 45.90625 40.484375 42.875 44.328125 \nQ 39.84375 48.1875 33.796875 48.1875 \nQ 26.515625 48.1875 22.3125 43.546875 \nQ 18.109375 38.921875 18.109375 30.90625 \nL 18.109375 0 \nL 9.078125 0 \nL 9.078125 54.6875 \nL 18.109375 54.6875 \nL 18.109375 46.1875 \nQ 21.34375 51.125 25.703125 53.5625 \nQ 30.078125 56 35.796875 56 \nQ 45.21875 56 50.046875 50.171875 \nQ 54.890625 44.34375 54.890625 33.015625 \nz\n\" id=\"DejaVuSans-110\"/>\n      <path d=\"M 48.78125 52.59375 \nL 48.78125 44.1875 \nQ 44.96875 46.296875 41.140625 47.34375 \nQ 37.3125 48.390625 33.40625 48.390625 \nQ 24.65625 48.390625 19.8125 42.84375 \nQ 14.984375 37.3125 14.984375 27.296875 \nQ 14.984375 17.28125 19.8125 11.734375 \nQ 24.65625 6.203125 33.40625 6.203125 \nQ 37.3125 6.203125 41.140625 7.25 \nQ 44.96875 8.296875 48.78125 10.40625 \nL 48.78125 2.09375 \nQ 45.015625 0.34375 40.984375 -0.53125 \nQ 36.96875 -1.421875 32.421875 -1.421875 \nQ 20.0625 -1.421875 12.78125 6.34375 \nQ 5.515625 14.109375 5.515625 27.296875 \nQ 5.515625 40.671875 12.859375 48.328125 \nQ 20.21875 56 33.015625 56 \nQ 37.15625 56 41.109375 55.140625 \nQ 45.0625 54.296875 48.78125 52.59375 \nz\n\" id=\"DejaVuSans-99\"/>\n      <path d=\"M 32.171875 -5.078125 \nQ 28.375 -14.84375 24.75 -17.8125 \nQ 21.140625 -20.796875 15.09375 -20.796875 \nL 7.90625 -20.796875 \nL 7.90625 -13.28125 \nL 13.1875 -13.28125 \nQ 16.890625 -13.28125 18.9375 -11.515625 \nQ 21 -9.765625 23.484375 -3.21875 \nL 25.09375 0.875 \nL 2.984375 54.6875 \nL 12.5 54.6875 \nL 29.59375 11.921875 \nL 46.6875 54.6875 \nL 56.203125 54.6875 \nz\n\" id=\"DejaVuSans-121\"/>\n     </defs>\n     <g transform=\"translate(14.798438 141.749687)rotate(-90)scale(0.1 -0.1)\">\n      <use xlink:href=\"#DejaVuSans-70\"/>\n      <use x=\"50.269531\" xlink:href=\"#DejaVuSans-114\"/>\n      <use x=\"89.132812\" xlink:href=\"#DejaVuSans-101\"/>\n      <use x=\"150.65625\" xlink:href=\"#DejaVuSans-113\"/>\n      <use x=\"214.132812\" xlink:href=\"#DejaVuSans-117\"/>\n      <use x=\"277.511719\" xlink:href=\"#DejaVuSans-101\"/>\n      <use x=\"339.035156\" xlink:href=\"#DejaVuSans-110\"/>\n      <use x=\"402.414062\" xlink:href=\"#DejaVuSans-99\"/>\n      <use x=\"457.394531\" xlink:href=\"#DejaVuSans-121\"/>\n     </g>\n    </g>\n   </g>\n   <g id=\"patch_13\">\n    <path d=\"M 53.328125 224.64 \nL 53.328125 7.2 \n\" style=\"fill:none;stroke:#000000;stroke-linecap:square;stroke-linejoin:miter;stroke-width:0.8;\"/>\n   </g>\n   <g id=\"patch_14\">\n    <path d=\"M 388.128125 224.64 \nL 388.128125 7.2 \n\" style=\"fill:none;stroke:#000000;stroke-linecap:square;stroke-linejoin:miter;stroke-width:0.8;\"/>\n   </g>\n   <g id=\"patch_15\">\n    <path d=\"M 53.328125 224.64 \nL 388.128125 224.64 \n\" style=\"fill:none;stroke:#000000;stroke-linecap:square;stroke-linejoin:miter;stroke-width:0.8;\"/>\n   </g>\n   <g id=\"patch_16\">\n    <path d=\"M 53.328125 7.2 \nL 388.128125 7.2 \n\" style=\"fill:none;stroke:#000000;stroke-linecap:square;stroke-linejoin:miter;stroke-width:0.8;\"/>\n   </g>\n  </g>\n </g>\n <defs>\n  <clipPath id=\"p1bdc28e3b3\">\n   <rect height=\"217.44\" width=\"334.8\" x=\"53.328125\" y=\"7.2\"/>\n  </clipPath>\n </defs>\n</svg>\n",
      "image/png": "[encoded data removed]"
     },
     "metadata": {
      "needs_background": "light"
     }
    }
   ],
   "source": [
    "ted[ted.comments < 1000].comments.plot(kind='hist') # within the lower comments"
   ]
  },
  {
   "cell_type": "code",
   "execution_count": 26,
   "metadata": {},
   "outputs": [
    {
     "output_type": "execute_result",
     "data": {
      "text/plain": [
       "(32, 18)"
      ]
     },
     "metadata": {},
     "execution_count": 26
    }
   ],
   "source": [
    "ted[ted.comments >=1000].shape # only have 32 talks w over 1k comments"
   ]
  },
  {
   "cell_type": "code",
   "execution_count": 28,
   "metadata": {},
   "outputs": [
    {
     "output_type": "execute_result",
     "data": {
      "text/plain": [
       "<matplotlib.axes._subplots.AxesSubplot at 0x7fb9b9f437f0>"
      ]
     },
     "metadata": {},
     "execution_count": 28
    },
    {
     "output_type": "display_data",
     "data": {
      "text/plain": "<Figure size 432x288 with 1 Axes>",
      "image/svg+xml": "<?xml version=\"1.0\" encoding=\"utf-8\" standalone=\"no\"?>\n<!DOCTYPE svg PUBLIC \"-//W3C//DTD SVG 1.1//EN\"\n  \"http://www.w3.org/Graphics/SVG/1.1/DTD/svg11.dtd\">\n<!-- Created with matplotlib (https://matplotlib.org/) -->\n<svg height=\"248.518125pt\" version=\"1.1\" viewBox=\"0 0 388.965625 248.518125\" width=\"388.965625pt\" xmlns=\"http://www.w3.org/2000/svg\" xmlns:xlink=\"http://www.w3.org/1999/xlink\">\n <defs>\n  <style type=\"text/css\">\n*{stroke-linecap:butt;stroke-linejoin:round;}\n  </style>\n </defs>\n <g id=\"figure_1\">\n  <g id=\"patch_1\">\n   <path d=\"M 0 248.518125 \nL 388.965625 248.518125 \nL 388.965625 0 \nL 0 0 \nz\n\" style=\"fill:none;\"/>\n  </g>\n  <g id=\"axes_1\">\n   <g id=\"patch_2\">\n    <path d=\"M 46.965625 224.64 \nL 381.765625 224.64 \nL 381.765625 7.2 \nL 46.965625 7.2 \nz\n\" style=\"fill:#ffffff;\"/>\n   </g>\n   <g id=\"patch_3\">\n    <path clip-path=\"url(#p47e12ef543)\" d=\"M 62.183807 224.64 \nL 77.401989 224.64 \nL 77.401989 57.613489 \nL 62.183807 57.613489 \nz\n\" style=\"fill:#1f77b4;\"/>\n   </g>\n   <g id=\"patch_4\">\n    <path clip-path=\"url(#p47e12ef543)\" d=\"M 77.401989 224.64 \nL 92.62017 224.64 \nL 92.62017 17.554286 \nL 77.401989 17.554286 \nz\n\" style=\"fill:#1f77b4;\"/>\n   </g>\n   <g id=\"patch_5\">\n    <path clip-path=\"url(#p47e12ef543)\" d=\"M 92.62017 224.64 \nL 107.838352 224.64 \nL 107.838352 73.908759 \nL 92.62017 73.908759 \nz\n\" style=\"fill:#1f77b4;\"/>\n   </g>\n   <g id=\"patch_6\">\n    <path clip-path=\"url(#p47e12ef543)\" d=\"M 107.838352 224.64 \nL 123.056534 224.64 \nL 123.056534 136.034473 \nL 107.838352 136.034473 \nz\n\" style=\"fill:#1f77b4;\"/>\n   </g>\n   <g id=\"patch_7\">\n    <path clip-path=\"url(#p47e12ef543)\" d=\"M 123.056534 224.64 \nL 138.274716 224.64 \nL 138.274716 154.706136 \nL 123.056534 154.706136 \nz\n\" style=\"fill:#1f77b4;\"/>\n   </g>\n   <g id=\"patch_8\">\n    <path clip-path=\"url(#p47e12ef543)\" d=\"M 138.274716 224.64 \nL 153.492898 224.64 \nL 153.492898 181.525433 \nL 138.274716 181.525433 \nz\n\" style=\"fill:#1f77b4;\"/>\n   </g>\n   <g id=\"patch_9\">\n    <path clip-path=\"url(#p47e12ef543)\" d=\"M 153.492898 224.64 \nL 168.71108 224.64 \nL 168.71108 192.388946 \nL 153.492898 192.388946 \nz\n\" style=\"fill:#1f77b4;\"/>\n   </g>\n   <g id=\"patch_10\">\n    <path clip-path=\"url(#p47e12ef543)\" d=\"M 168.71108 224.64 \nL 183.929261 224.64 \nL 183.929261 202.912974 \nL 168.71108 202.912974 \nz\n\" style=\"fill:#1f77b4;\"/>\n   </g>\n   <g id=\"patch_11\">\n    <path clip-path=\"url(#p47e12ef543)\" d=\"M 183.929261 224.64 \nL 199.147443 224.64 \nL 199.147443 210.042155 \nL 183.929261 210.042155 \nz\n\" style=\"fill:#1f77b4;\"/>\n   </g>\n   <g id=\"patch_12\">\n    <path clip-path=\"url(#p47e12ef543)\" d=\"M 199.147443 224.64 \nL 214.365625 224.64 \nL 214.365625 212.758033 \nL 199.147443 212.758033 \nz\n\" style=\"fill:#1f77b4;\"/>\n   </g>\n   <g id=\"patch_13\">\n    <path clip-path=\"url(#p47e12ef543)\" d=\"M 214.365625 224.64 \nL 229.583807 224.64 \nL 229.583807 216.492365 \nL 214.365625 216.492365 \nz\n\" style=\"fill:#1f77b4;\"/>\n   </g>\n   <g id=\"patch_14\">\n    <path clip-path=\"url(#p47e12ef543)\" d=\"M 229.583807 224.64 \nL 244.801989 224.64 \nL 244.801989 214.115972 \nL 229.583807 214.115972 \nz\n\" style=\"fill:#1f77b4;\"/>\n   </g>\n   <g id=\"patch_15\">\n    <path clip-path=\"url(#p47e12ef543)\" d=\"M 244.801989 224.64 \nL 260.02017 224.64 \nL 260.02017 218.868759 \nL 244.801989 218.868759 \nz\n\" style=\"fill:#1f77b4;\"/>\n   </g>\n   <g id=\"patch_16\">\n    <path clip-path=\"url(#p47e12ef543)\" d=\"M 260.02017 224.64 \nL 275.238352 224.64 \nL 275.238352 219.208244 \nL 260.02017 219.208244 \nz\n\" style=\"fill:#1f77b4;\"/>\n   </g>\n   <g id=\"patch_17\">\n    <path clip-path=\"url(#p47e12ef543)\" d=\"M 275.238352 224.64 \nL 290.456534 224.64 \nL 290.456534 222.603091 \nL 275.238352 222.603091 \nz\n\" style=\"fill:#1f77b4;\"/>\n   </g>\n   <g id=\"patch_18\">\n    <path clip-path=\"url(#p47e12ef543)\" d=\"M 290.456534 224.64 \nL 305.674716 224.64 \nL 305.674716 220.226698 \nL 290.456534 220.226698 \nz\n\" style=\"fill:#1f77b4;\"/>\n   </g>\n   <g id=\"patch_19\">\n    <path clip-path=\"url(#p47e12ef543)\" d=\"M 305.674716 224.64 \nL 320.892898 224.64 \nL 320.892898 220.905667 \nL 305.674716 220.905667 \nz\n\" style=\"fill:#1f77b4;\"/>\n   </g>\n   <g id=\"patch_20\">\n    <path clip-path=\"url(#p47e12ef543)\" d=\"M 320.892898 224.64 \nL 336.11108 224.64 \nL 336.11108 222.603091 \nL 320.892898 222.603091 \nz\n\" style=\"fill:#1f77b4;\"/>\n   </g>\n   <g id=\"patch_21\">\n    <path clip-path=\"url(#p47e12ef543)\" d=\"M 336.11108 224.64 \nL 351.329261 224.64 \nL 351.329261 221.245152 \nL 336.11108 221.245152 \nz\n\" style=\"fill:#1f77b4;\"/>\n   </g>\n   <g id=\"patch_22\">\n    <path clip-path=\"url(#p47e12ef543)\" d=\"M 351.329261 224.64 \nL 366.547443 224.64 \nL 366.547443 222.263607 \nL 351.329261 222.263607 \nz\n\" style=\"fill:#1f77b4;\"/>\n   </g>\n   <g id=\"matplotlib.axis_1\">\n    <g id=\"xtick_1\">\n     <g id=\"line2d_1\">\n      <defs>\n       <path d=\"M 0 0 \nL 0 3.5 \n\" id=\"m8c20149d12\" style=\"stroke:#000000;stroke-width:0.8;\"/>\n      </defs>\n      <g>\n       <use style=\"stroke:#000000;stroke-width:0.8;\" x=\"61.568931\" xlink:href=\"#m8c20149d12\" y=\"224.64\"/>\n      </g>\n     </g>\n     <g id=\"text_1\">\n      <!-- 0 -->\n      <defs>\n       <path d=\"M 31.78125 66.40625 \nQ 24.171875 66.40625 20.328125 58.90625 \nQ 16.5 51.421875 16.5 36.375 \nQ 16.5 21.390625 20.328125 13.890625 \nQ 24.171875 6.390625 31.78125 6.390625 \nQ 39.453125 6.390625 43.28125 13.890625 \nQ 47.125 21.390625 47.125 36.375 \nQ 47.125 51.421875 43.28125 58.90625 \nQ 39.453125 66.40625 31.78125 66.40625 \nz\nM 31.78125 74.21875 \nQ 44.046875 74.21875 50.515625 64.515625 \nQ 56.984375 54.828125 56.984375 36.375 \nQ 56.984375 17.96875 50.515625 8.265625 \nQ 44.046875 -1.421875 31.78125 -1.421875 \nQ 19.53125 -1.421875 13.0625 8.265625 \nQ 6.59375 17.96875 6.59375 36.375 \nQ 6.59375 54.828125 13.0625 64.515625 \nQ 19.53125 74.21875 31.78125 74.21875 \nz\n\" id=\"DejaVuSans-48\"/>\n      </defs>\n      <g transform=\"translate(58.387681 239.238437)scale(0.1 -0.1)\">\n       <use xlink:href=\"#DejaVuSans-48\"/>\n      </g>\n     </g>\n    </g>\n    <g id=\"xtick_2\">\n     <g id=\"line2d_2\">\n      <g>\n       <use style=\"stroke:#000000;stroke-width:0.8;\" x=\"123.056534\" xlink:href=\"#m8c20149d12\" y=\"224.64\"/>\n      </g>\n     </g>\n     <g id=\"text_2\">\n      <!-- 200 -->\n      <defs>\n       <path d=\"M 19.1875 8.296875 \nL 53.609375 8.296875 \nL 53.609375 0 \nL 7.328125 0 \nL 7.328125 8.296875 \nQ 12.9375 14.109375 22.625 23.890625 \nQ 32.328125 33.6875 34.8125 36.53125 \nQ 39.546875 41.84375 41.421875 45.53125 \nQ 43.3125 49.21875 43.3125 52.78125 \nQ 43.3125 58.59375 39.234375 62.25 \nQ 35.15625 65.921875 28.609375 65.921875 \nQ 23.96875 65.921875 18.8125 64.3125 \nQ 13.671875 62.703125 7.8125 59.421875 \nL 7.8125 69.390625 \nQ 13.765625 71.78125 18.9375 73 \nQ 24.125 74.21875 28.421875 74.21875 \nQ 39.75 74.21875 46.484375 68.546875 \nQ 53.21875 62.890625 53.21875 53.421875 \nQ 53.21875 48.921875 51.53125 44.890625 \nQ 49.859375 40.875 45.40625 35.40625 \nQ 44.1875 33.984375 37.640625 27.21875 \nQ 31.109375 20.453125 19.1875 8.296875 \nz\n\" id=\"DejaVuSans-50\"/>\n      </defs>\n      <g transform=\"translate(113.512784 239.238437)scale(0.1 -0.1)\">\n       <use xlink:href=\"#DejaVuSans-50\"/>\n       <use x=\"63.623047\" xlink:href=\"#DejaVuSans-48\"/>\n       <use x=\"127.246094\" xlink:href=\"#DejaVuSans-48\"/>\n      </g>\n     </g>\n    </g>\n    <g id=\"xtick_3\">\n     <g id=\"line2d_3\">\n      <g>\n       <use style=\"stroke:#000000;stroke-width:0.8;\" x=\"184.544137\" xlink:href=\"#m8c20149d12\" y=\"224.64\"/>\n      </g>\n     </g>\n     <g id=\"text_3\">\n      <!-- 400 -->\n      <defs>\n       <path d=\"M 37.796875 64.3125 \nL 12.890625 25.390625 \nL 37.796875 25.390625 \nz\nM 35.203125 72.90625 \nL 47.609375 72.90625 \nL 47.609375 25.390625 \nL 58.015625 25.390625 \nL 58.015625 17.1875 \nL 47.609375 17.1875 \nL 47.609375 0 \nL 37.796875 0 \nL 37.796875 17.1875 \nL 4.890625 17.1875 \nL 4.890625 26.703125 \nz\n\" id=\"DejaVuSans-52\"/>\n      </defs>\n      <g transform=\"translate(175.000387 239.238437)scale(0.1 -0.1)\">\n       <use xlink:href=\"#DejaVuSans-52\"/>\n       <use x=\"63.623047\" xlink:href=\"#DejaVuSans-48\"/>\n       <use x=\"127.246094\" xlink:href=\"#DejaVuSans-48\"/>\n      </g>\n     </g>\n    </g>\n    <g id=\"xtick_4\">\n     <g id=\"line2d_4\">\n      <g>\n       <use style=\"stroke:#000000;stroke-width:0.8;\" x=\"246.031741\" xlink:href=\"#m8c20149d12\" y=\"224.64\"/>\n      </g>\n     </g>\n     <g id=\"text_4\">\n      <!-- 600 -->\n      <defs>\n       <path d=\"M 33.015625 40.375 \nQ 26.375 40.375 22.484375 35.828125 \nQ 18.609375 31.296875 18.609375 23.390625 \nQ 18.609375 15.53125 22.484375 10.953125 \nQ 26.375 6.390625 33.015625 6.390625 \nQ 39.65625 6.390625 43.53125 10.953125 \nQ 47.40625 15.53125 47.40625 23.390625 \nQ 47.40625 31.296875 43.53125 35.828125 \nQ 39.65625 40.375 33.015625 40.375 \nz\nM 52.59375 71.296875 \nL 52.59375 62.3125 \nQ 48.875 64.0625 45.09375 64.984375 \nQ 41.3125 65.921875 37.59375 65.921875 \nQ 27.828125 65.921875 22.671875 59.328125 \nQ 17.53125 52.734375 16.796875 39.40625 \nQ 19.671875 43.65625 24.015625 45.921875 \nQ 28.375 48.1875 33.59375 48.1875 \nQ 44.578125 48.1875 50.953125 41.515625 \nQ 57.328125 34.859375 57.328125 23.390625 \nQ 57.328125 12.15625 50.6875 5.359375 \nQ 44.046875 -1.421875 33.015625 -1.421875 \nQ 20.359375 -1.421875 13.671875 8.265625 \nQ 6.984375 17.96875 6.984375 36.375 \nQ 6.984375 53.65625 15.1875 63.9375 \nQ 23.390625 74.21875 37.203125 74.21875 \nQ 40.921875 74.21875 44.703125 73.484375 \nQ 48.484375 72.75 52.59375 71.296875 \nz\n\" id=\"DejaVuSans-54\"/>\n      </defs>\n      <g transform=\"translate(236.487991 239.238437)scale(0.1 -0.1)\">\n       <use xlink:href=\"#DejaVuSans-54\"/>\n       <use x=\"63.623047\" xlink:href=\"#DejaVuSans-48\"/>\n       <use x=\"127.246094\" xlink:href=\"#DejaVuSans-48\"/>\n      </g>\n     </g>\n    </g>\n    <g id=\"xtick_5\">\n     <g id=\"line2d_5\">\n      <g>\n       <use style=\"stroke:#000000;stroke-width:0.8;\" x=\"307.519344\" xlink:href=\"#m8c20149d12\" y=\"224.64\"/>\n      </g>\n     </g>\n     <g id=\"text_5\">\n      <!-- 800 -->\n      <defs>\n       <path d=\"M 31.78125 34.625 \nQ 24.75 34.625 20.71875 30.859375 \nQ 16.703125 27.09375 16.703125 20.515625 \nQ 16.703125 13.921875 20.71875 10.15625 \nQ 24.75 6.390625 31.78125 6.390625 \nQ 38.8125 6.390625 42.859375 10.171875 \nQ 46.921875 13.96875 46.921875 20.515625 \nQ 46.921875 27.09375 42.890625 30.859375 \nQ 38.875 34.625 31.78125 34.625 \nz\nM 21.921875 38.8125 \nQ 15.578125 40.375 12.03125 44.71875 \nQ 8.5 49.078125 8.5 55.328125 \nQ 8.5 64.0625 14.71875 69.140625 \nQ 20.953125 74.21875 31.78125 74.21875 \nQ 42.671875 74.21875 48.875 69.140625 \nQ 55.078125 64.0625 55.078125 55.328125 \nQ 55.078125 49.078125 51.53125 44.71875 \nQ 48 40.375 41.703125 38.8125 \nQ 48.828125 37.15625 52.796875 32.3125 \nQ 56.78125 27.484375 56.78125 20.515625 \nQ 56.78125 9.90625 50.3125 4.234375 \nQ 43.84375 -1.421875 31.78125 -1.421875 \nQ 19.734375 -1.421875 13.25 4.234375 \nQ 6.78125 9.90625 6.78125 20.515625 \nQ 6.78125 27.484375 10.78125 32.3125 \nQ 14.796875 37.15625 21.921875 38.8125 \nz\nM 18.3125 54.390625 \nQ 18.3125 48.734375 21.84375 45.5625 \nQ 25.390625 42.390625 31.78125 42.390625 \nQ 38.140625 42.390625 41.71875 45.5625 \nQ 45.3125 48.734375 45.3125 54.390625 \nQ 45.3125 60.0625 41.71875 63.234375 \nQ 38.140625 66.40625 31.78125 66.40625 \nQ 25.390625 66.40625 21.84375 63.234375 \nQ 18.3125 60.0625 18.3125 54.390625 \nz\n\" id=\"DejaVuSans-56\"/>\n      </defs>\n      <g transform=\"translate(297.975594 239.238437)scale(0.1 -0.1)\">\n       <use xlink:href=\"#DejaVuSans-56\"/>\n       <use x=\"63.623047\" xlink:href=\"#DejaVuSans-48\"/>\n       <use x=\"127.246094\" xlink:href=\"#DejaVuSans-48\"/>\n      </g>\n     </g>\n    </g>\n    <g id=\"xtick_6\">\n     <g id=\"line2d_6\">\n      <g>\n       <use style=\"stroke:#000000;stroke-width:0.8;\" x=\"369.006947\" xlink:href=\"#m8c20149d12\" y=\"224.64\"/>\n      </g>\n     </g>\n     <g id=\"text_6\">\n      <!-- 1000 -->\n      <defs>\n       <path d=\"M 12.40625 8.296875 \nL 28.515625 8.296875 \nL 28.515625 63.921875 \nL 10.984375 60.40625 \nL 10.984375 69.390625 \nL 28.421875 72.90625 \nL 38.28125 72.90625 \nL 38.28125 8.296875 \nL 54.390625 8.296875 \nL 54.390625 0 \nL 12.40625 0 \nz\n\" id=\"DejaVuSans-49\"/>\n      </defs>\n      <g transform=\"translate(356.281947 239.238437)scale(0.1 -0.1)\">\n       <use xlink:href=\"#DejaVuSans-49\"/>\n       <use x=\"63.623047\" xlink:href=\"#DejaVuSans-48\"/>\n       <use x=\"127.246094\" xlink:href=\"#DejaVuSans-48\"/>\n       <use x=\"190.869141\" xlink:href=\"#DejaVuSans-48\"/>\n      </g>\n     </g>\n    </g>\n   </g>\n   <g id=\"matplotlib.axis_2\">\n    <g id=\"ytick_1\">\n     <g id=\"line2d_7\">\n      <defs>\n       <path d=\"M 0 0 \nL -3.5 0 \n\" id=\"m719a284c31\" style=\"stroke:#000000;stroke-width:0.8;\"/>\n      </defs>\n      <g>\n       <use style=\"stroke:#000000;stroke-width:0.8;\" x=\"46.965625\" xlink:href=\"#m719a284c31\" y=\"224.64\"/>\n      </g>\n     </g>\n     <g id=\"text_7\">\n      <!-- 0 -->\n      <g transform=\"translate(33.603125 228.439219)scale(0.1 -0.1)\">\n       <use xlink:href=\"#DejaVuSans-48\"/>\n      </g>\n     </g>\n    </g>\n    <g id=\"ytick_2\">\n     <g id=\"line2d_8\">\n      <g>\n       <use style=\"stroke:#000000;stroke-width:0.8;\" x=\"46.965625\" xlink:href=\"#m719a284c31\" y=\"190.691522\"/>\n      </g>\n     </g>\n     <g id=\"text_8\">\n      <!-- 100 -->\n      <g transform=\"translate(20.878125 194.490741)scale(0.1 -0.1)\">\n       <use xlink:href=\"#DejaVuSans-49\"/>\n       <use x=\"63.623047\" xlink:href=\"#DejaVuSans-48\"/>\n       <use x=\"127.246094\" xlink:href=\"#DejaVuSans-48\"/>\n      </g>\n     </g>\n    </g>\n    <g id=\"ytick_3\">\n     <g id=\"line2d_9\">\n      <g>\n       <use style=\"stroke:#000000;stroke-width:0.8;\" x=\"46.965625\" xlink:href=\"#m719a284c31\" y=\"156.743044\"/>\n      </g>\n     </g>\n     <g id=\"text_9\">\n      <!-- 200 -->\n      <g transform=\"translate(20.878125 160.542263)scale(0.1 -0.1)\">\n       <use xlink:href=\"#DejaVuSans-50\"/>\n       <use x=\"63.623047\" xlink:href=\"#DejaVuSans-48\"/>\n       <use x=\"127.246094\" xlink:href=\"#DejaVuSans-48\"/>\n      </g>\n     </g>\n    </g>\n    <g id=\"ytick_4\">\n     <g id=\"line2d_10\">\n      <g>\n       <use style=\"stroke:#000000;stroke-width:0.8;\" x=\"46.965625\" xlink:href=\"#m719a284c31\" y=\"122.794567\"/>\n      </g>\n     </g>\n     <g id=\"text_10\">\n      <!-- 300 -->\n      <defs>\n       <path d=\"M 40.578125 39.3125 \nQ 47.65625 37.796875 51.625 33 \nQ 55.609375 28.21875 55.609375 21.1875 \nQ 55.609375 10.40625 48.1875 4.484375 \nQ 40.765625 -1.421875 27.09375 -1.421875 \nQ 22.515625 -1.421875 17.65625 -0.515625 \nQ 12.796875 0.390625 7.625 2.203125 \nL 7.625 11.71875 \nQ 11.71875 9.328125 16.59375 8.109375 \nQ 21.484375 6.890625 26.8125 6.890625 \nQ 36.078125 6.890625 40.9375 10.546875 \nQ 45.796875 14.203125 45.796875 21.1875 \nQ 45.796875 27.640625 41.28125 31.265625 \nQ 36.765625 34.90625 28.71875 34.90625 \nL 20.21875 34.90625 \nL 20.21875 43.015625 \nL 29.109375 43.015625 \nQ 36.375 43.015625 40.234375 45.921875 \nQ 44.09375 48.828125 44.09375 54.296875 \nQ 44.09375 59.90625 40.109375 62.90625 \nQ 36.140625 65.921875 28.71875 65.921875 \nQ 24.65625 65.921875 20.015625 65.03125 \nQ 15.375 64.15625 9.8125 62.3125 \nL 9.8125 71.09375 \nQ 15.4375 72.65625 20.34375 73.4375 \nQ 25.25 74.21875 29.59375 74.21875 \nQ 40.828125 74.21875 47.359375 69.109375 \nQ 53.90625 64.015625 53.90625 55.328125 \nQ 53.90625 49.265625 50.4375 45.09375 \nQ 46.96875 40.921875 40.578125 39.3125 \nz\n\" id=\"DejaVuSans-51\"/>\n      </defs>\n      <g transform=\"translate(20.878125 126.593785)scale(0.1 -0.1)\">\n       <use xlink:href=\"#DejaVuSans-51\"/>\n       <use x=\"63.623047\" xlink:href=\"#DejaVuSans-48\"/>\n       <use x=\"127.246094\" xlink:href=\"#DejaVuSans-48\"/>\n      </g>\n     </g>\n    </g>\n    <g id=\"ytick_5\">\n     <g id=\"line2d_11\">\n      <g>\n       <use style=\"stroke:#000000;stroke-width:0.8;\" x=\"46.965625\" xlink:href=\"#m719a284c31\" y=\"88.846089\"/>\n      </g>\n     </g>\n     <g id=\"text_11\">\n      <!-- 400 -->\n      <g transform=\"translate(20.878125 92.645308)scale(0.1 -0.1)\">\n       <use xlink:href=\"#DejaVuSans-52\"/>\n       <use x=\"63.623047\" xlink:href=\"#DejaVuSans-48\"/>\n       <use x=\"127.246094\" xlink:href=\"#DejaVuSans-48\"/>\n      </g>\n     </g>\n    </g>\n    <g id=\"ytick_6\">\n     <g id=\"line2d_12\">\n      <g>\n       <use style=\"stroke:#000000;stroke-width:0.8;\" x=\"46.965625\" xlink:href=\"#m719a284c31\" y=\"54.897611\"/>\n      </g>\n     </g>\n     <g id=\"text_12\">\n      <!-- 500 -->\n      <defs>\n       <path d=\"M 10.796875 72.90625 \nL 49.515625 72.90625 \nL 49.515625 64.59375 \nL 19.828125 64.59375 \nL 19.828125 46.734375 \nQ 21.96875 47.46875 24.109375 47.828125 \nQ 26.265625 48.1875 28.421875 48.1875 \nQ 40.625 48.1875 47.75 41.5 \nQ 54.890625 34.8125 54.890625 23.390625 \nQ 54.890625 11.625 47.5625 5.09375 \nQ 40.234375 -1.421875 26.90625 -1.421875 \nQ 22.3125 -1.421875 17.546875 -0.640625 \nQ 12.796875 0.140625 7.71875 1.703125 \nL 7.71875 11.625 \nQ 12.109375 9.234375 16.796875 8.0625 \nQ 21.484375 6.890625 26.703125 6.890625 \nQ 35.15625 6.890625 40.078125 11.328125 \nQ 45.015625 15.765625 45.015625 23.390625 \nQ 45.015625 31 40.078125 35.4375 \nQ 35.15625 39.890625 26.703125 39.890625 \nQ 22.75 39.890625 18.8125 39.015625 \nQ 14.890625 38.140625 10.796875 36.28125 \nz\n\" id=\"DejaVuSans-53\"/>\n      </defs>\n      <g transform=\"translate(20.878125 58.69683)scale(0.1 -0.1)\">\n       <use xlink:href=\"#DejaVuSans-53\"/>\n       <use x=\"63.623047\" xlink:href=\"#DejaVuSans-48\"/>\n       <use x=\"127.246094\" xlink:href=\"#DejaVuSans-48\"/>\n      </g>\n     </g>\n    </g>\n    <g id=\"ytick_7\">\n     <g id=\"line2d_13\">\n      <g>\n       <use style=\"stroke:#000000;stroke-width:0.8;\" x=\"46.965625\" xlink:href=\"#m719a284c31\" y=\"20.949133\"/>\n      </g>\n     </g>\n     <g id=\"text_13\">\n      <!-- 600 -->\n      <g transform=\"translate(20.878125 24.748352)scale(0.1 -0.1)\">\n       <use xlink:href=\"#DejaVuSans-54\"/>\n       <use x=\"63.623047\" xlink:href=\"#DejaVuSans-48\"/>\n       <use x=\"127.246094\" xlink:href=\"#DejaVuSans-48\"/>\n      </g>\n     </g>\n    </g>\n    <g id=\"text_14\">\n     <!-- Frequency -->\n     <defs>\n      <path d=\"M 9.8125 72.90625 \nL 51.703125 72.90625 \nL 51.703125 64.59375 \nL 19.671875 64.59375 \nL 19.671875 43.109375 \nL 48.578125 43.109375 \nL 48.578125 34.8125 \nL 19.671875 34.8125 \nL 19.671875 0 \nL 9.8125 0 \nz\n\" id=\"DejaVuSans-70\"/>\n      <path d=\"M 41.109375 46.296875 \nQ 39.59375 47.171875 37.8125 47.578125 \nQ 36.03125 48 33.890625 48 \nQ 26.265625 48 22.1875 43.046875 \nQ 18.109375 38.09375 18.109375 28.8125 \nL 18.109375 0 \nL 9.078125 0 \nL 9.078125 54.6875 \nL 18.109375 54.6875 \nL 18.109375 46.1875 \nQ 20.953125 51.171875 25.484375 53.578125 \nQ 30.03125 56 36.53125 56 \nQ 37.453125 56 38.578125 55.875 \nQ 39.703125 55.765625 41.0625 55.515625 \nz\n\" id=\"DejaVuSans-114\"/>\n      <path d=\"M 56.203125 29.59375 \nL 56.203125 25.203125 \nL 14.890625 25.203125 \nQ 15.484375 15.921875 20.484375 11.0625 \nQ 25.484375 6.203125 34.421875 6.203125 \nQ 39.59375 6.203125 44.453125 7.46875 \nQ 49.3125 8.734375 54.109375 11.28125 \nL 54.109375 2.78125 \nQ 49.265625 0.734375 44.1875 -0.34375 \nQ 39.109375 -1.421875 33.890625 -1.421875 \nQ 20.796875 -1.421875 13.15625 6.1875 \nQ 5.515625 13.8125 5.515625 26.8125 \nQ 5.515625 40.234375 12.765625 48.109375 \nQ 20.015625 56 32.328125 56 \nQ 43.359375 56 49.78125 48.890625 \nQ 56.203125 41.796875 56.203125 29.59375 \nz\nM 47.21875 32.234375 \nQ 47.125 39.59375 43.09375 43.984375 \nQ 39.0625 48.390625 32.421875 48.390625 \nQ 24.90625 48.390625 20.390625 44.140625 \nQ 15.875 39.890625 15.1875 32.171875 \nz\n\" id=\"DejaVuSans-101\"/>\n      <path d=\"M 14.796875 27.296875 \nQ 14.796875 17.390625 18.875 11.75 \nQ 22.953125 6.109375 30.078125 6.109375 \nQ 37.203125 6.109375 41.296875 11.75 \nQ 45.40625 17.390625 45.40625 27.296875 \nQ 45.40625 37.203125 41.296875 42.84375 \nQ 37.203125 48.484375 30.078125 48.484375 \nQ 22.953125 48.484375 18.875 42.84375 \nQ 14.796875 37.203125 14.796875 27.296875 \nz\nM 45.40625 8.203125 \nQ 42.578125 3.328125 38.25 0.953125 \nQ 33.9375 -1.421875 27.875 -1.421875 \nQ 17.96875 -1.421875 11.734375 6.484375 \nQ 5.515625 14.40625 5.515625 27.296875 \nQ 5.515625 40.1875 11.734375 48.09375 \nQ 17.96875 56 27.875 56 \nQ 33.9375 56 38.25 53.625 \nQ 42.578125 51.265625 45.40625 46.390625 \nL 45.40625 54.6875 \nL 54.390625 54.6875 \nL 54.390625 -20.796875 \nL 45.40625 -20.796875 \nz\n\" id=\"DejaVuSans-113\"/>\n      <path d=\"M 8.5 21.578125 \nL 8.5 54.6875 \nL 17.484375 54.6875 \nL 17.484375 21.921875 \nQ 17.484375 14.15625 20.5 10.265625 \nQ 23.53125 6.390625 29.59375 6.390625 \nQ 36.859375 6.390625 41.078125 11.03125 \nQ 45.3125 15.671875 45.3125 23.6875 \nL 45.3125 54.6875 \nL 54.296875 54.6875 \nL 54.296875 0 \nL 45.3125 0 \nL 45.3125 8.40625 \nQ 42.046875 3.421875 37.71875 1 \nQ 33.40625 -1.421875 27.6875 -1.421875 \nQ 18.265625 -1.421875 13.375 4.4375 \nQ 8.5 10.296875 8.5 21.578125 \nz\nM 31.109375 56 \nz\n\" id=\"DejaVuSans-117\"/>\n      <path d=\"M 54.890625 33.015625 \nL 54.890625 0 \nL 45.90625 0 \nL 45.90625 32.71875 \nQ 45.90625 40.484375 42.875 44.328125 \nQ 39.84375 48.1875 33.796875 48.1875 \nQ 26.515625 48.1875 22.3125 43.546875 \nQ 18.109375 38.921875 18.109375 30.90625 \nL 18.109375 0 \nL 9.078125 0 \nL 9.078125 54.6875 \nL 18.109375 54.6875 \nL 18.109375 46.1875 \nQ 21.34375 51.125 25.703125 53.5625 \nQ 30.078125 56 35.796875 56 \nQ 45.21875 56 50.046875 50.171875 \nQ 54.890625 44.34375 54.890625 33.015625 \nz\n\" id=\"DejaVuSans-110\"/>\n      <path d=\"M 48.78125 52.59375 \nL 48.78125 44.1875 \nQ 44.96875 46.296875 41.140625 47.34375 \nQ 37.3125 48.390625 33.40625 48.390625 \nQ 24.65625 48.390625 19.8125 42.84375 \nQ 14.984375 37.3125 14.984375 27.296875 \nQ 14.984375 17.28125 19.8125 11.734375 \nQ 24.65625 6.203125 33.40625 6.203125 \nQ 37.3125 6.203125 41.140625 7.25 \nQ 44.96875 8.296875 48.78125 10.40625 \nL 48.78125 2.09375 \nQ 45.015625 0.34375 40.984375 -0.53125 \nQ 36.96875 -1.421875 32.421875 -1.421875 \nQ 20.0625 -1.421875 12.78125 6.34375 \nQ 5.515625 14.109375 5.515625 27.296875 \nQ 5.515625 40.671875 12.859375 48.328125 \nQ 20.21875 56 33.015625 56 \nQ 37.15625 56 41.109375 55.140625 \nQ 45.0625 54.296875 48.78125 52.59375 \nz\n\" id=\"DejaVuSans-99\"/>\n      <path d=\"M 32.171875 -5.078125 \nQ 28.375 -14.84375 24.75 -17.8125 \nQ 21.140625 -20.796875 15.09375 -20.796875 \nL 7.90625 -20.796875 \nL 7.90625 -13.28125 \nL 13.1875 -13.28125 \nQ 16.890625 -13.28125 18.9375 -11.515625 \nQ 21 -9.765625 23.484375 -3.21875 \nL 25.09375 0.875 \nL 2.984375 54.6875 \nL 12.5 54.6875 \nL 29.59375 11.921875 \nL 46.6875 54.6875 \nL 56.203125 54.6875 \nz\n\" id=\"DejaVuSans-121\"/>\n     </defs>\n     <g transform=\"translate(14.798438 141.749687)rotate(-90)scale(0.1 -0.1)\">\n      <use xlink:href=\"#DejaVuSans-70\"/>\n      <use x=\"50.269531\" xlink:href=\"#DejaVuSans-114\"/>\n      <use x=\"89.132812\" xlink:href=\"#DejaVuSans-101\"/>\n      <use x=\"150.65625\" xlink:href=\"#DejaVuSans-113\"/>\n      <use x=\"214.132812\" xlink:href=\"#DejaVuSans-117\"/>\n      <use x=\"277.511719\" xlink:href=\"#DejaVuSans-101\"/>\n      <use x=\"339.035156\" xlink:href=\"#DejaVuSans-110\"/>\n      <use x=\"402.414062\" xlink:href=\"#DejaVuSans-99\"/>\n      <use x=\"457.394531\" xlink:href=\"#DejaVuSans-121\"/>\n     </g>\n    </g>\n   </g>\n   <g id=\"patch_23\">\n    <path d=\"M 46.965625 224.64 \nL 46.965625 7.2 \n\" style=\"fill:none;stroke:#000000;stroke-linecap:square;stroke-linejoin:miter;stroke-width:0.8;\"/>\n   </g>\n   <g id=\"patch_24\">\n    <path d=\"M 381.765625 224.64 \nL 381.765625 7.2 \n\" style=\"fill:none;stroke:#000000;stroke-linecap:square;stroke-linejoin:miter;stroke-width:0.8;\"/>\n   </g>\n   <g id=\"patch_25\">\n    <path d=\"M 46.965625 224.64 \nL 381.765625 224.64 \n\" style=\"fill:none;stroke:#000000;stroke-linecap:square;stroke-linejoin:miter;stroke-width:0.8;\"/>\n   </g>\n   <g id=\"patch_26\">\n    <path d=\"M 46.965625 7.2 \nL 381.765625 7.2 \n\" style=\"fill:none;stroke:#000000;stroke-linecap:square;stroke-linejoin:miter;stroke-width:0.8;\"/>\n   </g>\n  </g>\n </g>\n <defs>\n  <clipPath id=\"p47e12ef543\">\n   <rect height=\"217.44\" width=\"334.8\" x=\"46.965625\" y=\"7.2\"/>\n  </clipPath>\n </defs>\n</svg>\n",
      "image/png": "[encoded data removed]"
     },
     "metadata": {
      "needs_background": "light"
     }
    }
   ],
   "source": [
    "ted.loc[ted.comments < 1000, 'comments'].plot(kind='hist', bins=20)"
   ]
  },
  {
   "cell_type": "code",
   "execution_count": 29,
   "metadata": {},
   "outputs": [
    {
     "output_type": "execute_result",
     "data": {
      "text/plain": [
       "<matplotlib.axes._subplots.AxesSubplot at 0x7fb999937bb0>"
      ]
     },
     "metadata": {},
     "execution_count": 29
    },
    {
     "output_type": "display_data",
     "data": {
      "text/plain": "<Figure size 432x288 with 1 Axes>",
      "image/svg+xml": "<?xml version=\"1.0\" encoding=\"utf-8\" standalone=\"no\"?>\n<!DOCTYPE svg PUBLIC \"-//W3C//DTD SVG 1.1//EN\"\n  \"http://www.w3.org/Graphics/SVG/1.1/DTD/svg11.dtd\">\n<!-- Created with matplotlib (https://matplotlib.org/) -->\n<svg height=\"248.518125pt\" version=\"1.1\" viewBox=\"0 0 381.65 248.518125\" width=\"381.65pt\" xmlns=\"http://www.w3.org/2000/svg\" xmlns:xlink=\"http://www.w3.org/1999/xlink\">\n <defs>\n  <style type=\"text/css\">\n*{stroke-linecap:butt;stroke-linejoin:round;}\n  </style>\n </defs>\n <g id=\"figure_1\">\n  <g id=\"patch_1\">\n   <path d=\"M -0 248.518125 \nL 381.65 248.518125 \nL 381.65 0 \nL -0 0 \nz\n\" style=\"fill:none;\"/>\n  </g>\n  <g id=\"axes_1\">\n   <g id=\"patch_2\">\n    <path d=\"M 39.65 224.64 \nL 374.45 224.64 \nL 374.45 7.2 \nL 39.65 7.2 \nz\n\" style=\"fill:#ffffff;\"/>\n   </g>\n   <g id=\"matplotlib.axis_1\">\n    <g id=\"xtick_1\">\n     <g id=\"line2d_1\">\n      <defs>\n       <path d=\"M 0 0 \nL 0 3.5 \n\" id=\"m4667527ddf\" style=\"stroke:#000000;stroke-width:0.8;\"/>\n      </defs>\n      <g>\n       <use style=\"stroke:#000000;stroke-width:0.8;\" x=\"207.05\" xlink:href=\"#m4667527ddf\" y=\"224.64\"/>\n      </g>\n     </g>\n     <g id=\"text_1\">\n      <!-- comments -->\n      <defs>\n       <path d=\"M 48.78125 52.59375 \nL 48.78125 44.1875 \nQ 44.96875 46.296875 41.140625 47.34375 \nQ 37.3125 48.390625 33.40625 48.390625 \nQ 24.65625 48.390625 19.8125 42.84375 \nQ 14.984375 37.3125 14.984375 27.296875 \nQ 14.984375 17.28125 19.8125 11.734375 \nQ 24.65625 6.203125 33.40625 6.203125 \nQ 37.3125 6.203125 41.140625 7.25 \nQ 44.96875 8.296875 48.78125 10.40625 \nL 48.78125 2.09375 \nQ 45.015625 0.34375 40.984375 -0.53125 \nQ 36.96875 -1.421875 32.421875 -1.421875 \nQ 20.0625 -1.421875 12.78125 6.34375 \nQ 5.515625 14.109375 5.515625 27.296875 \nQ 5.515625 40.671875 12.859375 48.328125 \nQ 20.21875 56 33.015625 56 \nQ 37.15625 56 41.109375 55.140625 \nQ 45.0625 54.296875 48.78125 52.59375 \nz\n\" id=\"DejaVuSans-99\"/>\n       <path d=\"M 30.609375 48.390625 \nQ 23.390625 48.390625 19.1875 42.75 \nQ 14.984375 37.109375 14.984375 27.296875 \nQ 14.984375 17.484375 19.15625 11.84375 \nQ 23.34375 6.203125 30.609375 6.203125 \nQ 37.796875 6.203125 41.984375 11.859375 \nQ 46.1875 17.53125 46.1875 27.296875 \nQ 46.1875 37.015625 41.984375 42.703125 \nQ 37.796875 48.390625 30.609375 48.390625 \nz\nM 30.609375 56 \nQ 42.328125 56 49.015625 48.375 \nQ 55.71875 40.765625 55.71875 27.296875 \nQ 55.71875 13.875 49.015625 6.21875 \nQ 42.328125 -1.421875 30.609375 -1.421875 \nQ 18.84375 -1.421875 12.171875 6.21875 \nQ 5.515625 13.875 5.515625 27.296875 \nQ 5.515625 40.765625 12.171875 48.375 \nQ 18.84375 56 30.609375 56 \nz\n\" id=\"DejaVuSans-111\"/>\n       <path d=\"M 52 44.1875 \nQ 55.375 50.25 60.0625 53.125 \nQ 64.75 56 71.09375 56 \nQ 79.640625 56 84.28125 50.015625 \nQ 88.921875 44.046875 88.921875 33.015625 \nL 88.921875 0 \nL 79.890625 0 \nL 79.890625 32.71875 \nQ 79.890625 40.578125 77.09375 44.375 \nQ 74.3125 48.1875 68.609375 48.1875 \nQ 61.625 48.1875 57.5625 43.546875 \nQ 53.515625 38.921875 53.515625 30.90625 \nL 53.515625 0 \nL 44.484375 0 \nL 44.484375 32.71875 \nQ 44.484375 40.625 41.703125 44.40625 \nQ 38.921875 48.1875 33.109375 48.1875 \nQ 26.21875 48.1875 22.15625 43.53125 \nQ 18.109375 38.875 18.109375 30.90625 \nL 18.109375 0 \nL 9.078125 0 \nL 9.078125 54.6875 \nL 18.109375 54.6875 \nL 18.109375 46.1875 \nQ 21.1875 51.21875 25.484375 53.609375 \nQ 29.78125 56 35.6875 56 \nQ 41.65625 56 45.828125 52.96875 \nQ 50 49.953125 52 44.1875 \nz\n\" id=\"DejaVuSans-109\"/>\n       <path d=\"M 56.203125 29.59375 \nL 56.203125 25.203125 \nL 14.890625 25.203125 \nQ 15.484375 15.921875 20.484375 11.0625 \nQ 25.484375 6.203125 34.421875 6.203125 \nQ 39.59375 6.203125 44.453125 7.46875 \nQ 49.3125 8.734375 54.109375 11.28125 \nL 54.109375 2.78125 \nQ 49.265625 0.734375 44.1875 -0.34375 \nQ 39.109375 -1.421875 33.890625 -1.421875 \nQ 20.796875 -1.421875 13.15625 6.1875 \nQ 5.515625 13.8125 5.515625 26.8125 \nQ 5.515625 40.234375 12.765625 48.109375 \nQ 20.015625 56 32.328125 56 \nQ 43.359375 56 49.78125 48.890625 \nQ 56.203125 41.796875 56.203125 29.59375 \nz\nM 47.21875 32.234375 \nQ 47.125 39.59375 43.09375 43.984375 \nQ 39.0625 48.390625 32.421875 48.390625 \nQ 24.90625 48.390625 20.390625 44.140625 \nQ 15.875 39.890625 15.1875 32.171875 \nz\n\" id=\"DejaVuSans-101\"/>\n       <path d=\"M 54.890625 33.015625 \nL 54.890625 0 \nL 45.90625 0 \nL 45.90625 32.71875 \nQ 45.90625 40.484375 42.875 44.328125 \nQ 39.84375 48.1875 33.796875 48.1875 \nQ 26.515625 48.1875 22.3125 43.546875 \nQ 18.109375 38.921875 18.109375 30.90625 \nL 18.109375 0 \nL 9.078125 0 \nL 9.078125 54.6875 \nL 18.109375 54.6875 \nL 18.109375 46.1875 \nQ 21.34375 51.125 25.703125 53.5625 \nQ 30.078125 56 35.796875 56 \nQ 45.21875 56 50.046875 50.171875 \nQ 54.890625 44.34375 54.890625 33.015625 \nz\n\" id=\"DejaVuSans-110\"/>\n       <path d=\"M 18.3125 70.21875 \nL 18.3125 54.6875 \nL 36.8125 54.6875 \nL 36.8125 47.703125 \nL 18.3125 47.703125 \nL 18.3125 18.015625 \nQ 18.3125 11.328125 20.140625 9.421875 \nQ 21.96875 7.515625 27.59375 7.515625 \nL 36.8125 7.515625 \nL 36.8125 0 \nL 27.59375 0 \nQ 17.1875 0 13.234375 3.875 \nQ 9.28125 7.765625 9.28125 18.015625 \nL 9.28125 47.703125 \nL 2.6875 47.703125 \nL 2.6875 54.6875 \nL 9.28125 54.6875 \nL 9.28125 70.21875 \nz\n\" id=\"DejaVuSans-116\"/>\n       <path d=\"M 44.28125 53.078125 \nL 44.28125 44.578125 \nQ 40.484375 46.53125 36.375 47.5 \nQ 32.28125 48.484375 27.875 48.484375 \nQ 21.1875 48.484375 17.84375 46.4375 \nQ 14.5 44.390625 14.5 40.28125 \nQ 14.5 37.15625 16.890625 35.375 \nQ 19.28125 33.59375 26.515625 31.984375 \nL 29.59375 31.296875 \nQ 39.15625 29.25 43.1875 25.515625 \nQ 47.21875 21.78125 47.21875 15.09375 \nQ 47.21875 7.46875 41.1875 3.015625 \nQ 35.15625 -1.421875 24.609375 -1.421875 \nQ 20.21875 -1.421875 15.453125 -0.5625 \nQ 10.6875 0.296875 5.421875 2 \nL 5.421875 11.28125 \nQ 10.40625 8.6875 15.234375 7.390625 \nQ 20.0625 6.109375 24.8125 6.109375 \nQ 31.15625 6.109375 34.5625 8.28125 \nQ 37.984375 10.453125 37.984375 14.40625 \nQ 37.984375 18.0625 35.515625 20.015625 \nQ 33.0625 21.96875 24.703125 23.78125 \nL 21.578125 24.515625 \nQ 13.234375 26.265625 9.515625 29.90625 \nQ 5.8125 33.546875 5.8125 39.890625 \nQ 5.8125 47.609375 11.28125 51.796875 \nQ 16.75 56 26.8125 56 \nQ 31.78125 56 36.171875 55.265625 \nQ 40.578125 54.546875 44.28125 53.078125 \nz\n\" id=\"DejaVuSans-115\"/>\n      </defs>\n      <g transform=\"translate(180.690625 239.238437)scale(0.1 -0.1)\">\n       <use xlink:href=\"#DejaVuSans-99\"/>\n       <use x=\"54.980469\" xlink:href=\"#DejaVuSans-111\"/>\n       <use x=\"116.162109\" xlink:href=\"#DejaVuSans-109\"/>\n       <use x=\"213.574219\" xlink:href=\"#DejaVuSans-109\"/>\n       <use x=\"310.986328\" xlink:href=\"#DejaVuSans-101\"/>\n       <use x=\"372.509766\" xlink:href=\"#DejaVuSans-110\"/>\n       <use x=\"435.888672\" xlink:href=\"#DejaVuSans-116\"/>\n       <use x=\"475.097656\" xlink:href=\"#DejaVuSans-115\"/>\n      </g>\n     </g>\n    </g>\n   </g>\n   <g id=\"matplotlib.axis_2\">\n    <g id=\"ytick_1\">\n     <g id=\"line2d_2\">\n      <defs>\n       <path d=\"M 0 0 \nL -3.5 0 \n\" id=\"mf4b3c176bc\" style=\"stroke:#000000;stroke-width:0.8;\"/>\n      </defs>\n      <g>\n       <use style=\"stroke:#000000;stroke-width:0.8;\" x=\"39.65\" xlink:href=\"#mf4b3c176bc\" y=\"215.155702\"/>\n      </g>\n     </g>\n     <g id=\"text_2\">\n      <!-- 0 -->\n      <defs>\n       <path d=\"M 31.78125 66.40625 \nQ 24.171875 66.40625 20.328125 58.90625 \nQ 16.5 51.421875 16.5 36.375 \nQ 16.5 21.390625 20.328125 13.890625 \nQ 24.171875 6.390625 31.78125 6.390625 \nQ 39.453125 6.390625 43.28125 13.890625 \nQ 47.125 21.390625 47.125 36.375 \nQ 47.125 51.421875 43.28125 58.90625 \nQ 39.453125 66.40625 31.78125 66.40625 \nz\nM 31.78125 74.21875 \nQ 44.046875 74.21875 50.515625 64.515625 \nQ 56.984375 54.828125 56.984375 36.375 \nQ 56.984375 17.96875 50.515625 8.265625 \nQ 44.046875 -1.421875 31.78125 -1.421875 \nQ 19.53125 -1.421875 13.0625 8.265625 \nQ 6.59375 17.96875 6.59375 36.375 \nQ 6.59375 54.828125 13.0625 64.515625 \nQ 19.53125 74.21875 31.78125 74.21875 \nz\n\" id=\"DejaVuSans-48\"/>\n      </defs>\n      <g transform=\"translate(26.2875 218.954921)scale(0.1 -0.1)\">\n       <use xlink:href=\"#DejaVuSans-48\"/>\n      </g>\n     </g>\n    </g>\n    <g id=\"ytick_2\">\n     <g id=\"line2d_3\">\n      <g>\n       <use style=\"stroke:#000000;stroke-width:0.8;\" x=\"39.65\" xlink:href=\"#mf4b3c176bc\" y=\"175.221818\"/>\n      </g>\n     </g>\n     <g id=\"text_3\">\n      <!-- 200 -->\n      <defs>\n       <path d=\"M 19.1875 8.296875 \nL 53.609375 8.296875 \nL 53.609375 0 \nL 7.328125 0 \nL 7.328125 8.296875 \nQ 12.9375 14.109375 22.625 23.890625 \nQ 32.328125 33.6875 34.8125 36.53125 \nQ 39.546875 41.84375 41.421875 45.53125 \nQ 43.3125 49.21875 43.3125 52.78125 \nQ 43.3125 58.59375 39.234375 62.25 \nQ 35.15625 65.921875 28.609375 65.921875 \nQ 23.96875 65.921875 18.8125 64.3125 \nQ 13.671875 62.703125 7.8125 59.421875 \nL 7.8125 69.390625 \nQ 13.765625 71.78125 18.9375 73 \nQ 24.125 74.21875 28.421875 74.21875 \nQ 39.75 74.21875 46.484375 68.546875 \nQ 53.21875 62.890625 53.21875 53.421875 \nQ 53.21875 48.921875 51.53125 44.890625 \nQ 49.859375 40.875 45.40625 35.40625 \nQ 44.1875 33.984375 37.640625 27.21875 \nQ 31.109375 20.453125 19.1875 8.296875 \nz\n\" id=\"DejaVuSans-50\"/>\n      </defs>\n      <g transform=\"translate(13.5625 179.021037)scale(0.1 -0.1)\">\n       <use xlink:href=\"#DejaVuSans-50\"/>\n       <use x=\"63.623047\" xlink:href=\"#DejaVuSans-48\"/>\n       <use x=\"127.246094\" xlink:href=\"#DejaVuSans-48\"/>\n      </g>\n     </g>\n    </g>\n    <g id=\"ytick_3\">\n     <g id=\"line2d_4\">\n      <g>\n       <use style=\"stroke:#000000;stroke-width:0.8;\" x=\"39.65\" xlink:href=\"#mf4b3c176bc\" y=\"135.287934\"/>\n      </g>\n     </g>\n     <g id=\"text_4\">\n      <!-- 400 -->\n      <defs>\n       <path d=\"M 37.796875 64.3125 \nL 12.890625 25.390625 \nL 37.796875 25.390625 \nz\nM 35.203125 72.90625 \nL 47.609375 72.90625 \nL 47.609375 25.390625 \nL 58.015625 25.390625 \nL 58.015625 17.1875 \nL 47.609375 17.1875 \nL 47.609375 0 \nL 37.796875 0 \nL 37.796875 17.1875 \nL 4.890625 17.1875 \nL 4.890625 26.703125 \nz\n\" id=\"DejaVuSans-52\"/>\n      </defs>\n      <g transform=\"translate(13.5625 139.087153)scale(0.1 -0.1)\">\n       <use xlink:href=\"#DejaVuSans-52\"/>\n       <use x=\"63.623047\" xlink:href=\"#DejaVuSans-48\"/>\n       <use x=\"127.246094\" xlink:href=\"#DejaVuSans-48\"/>\n      </g>\n     </g>\n    </g>\n    <g id=\"ytick_4\">\n     <g id=\"line2d_5\">\n      <g>\n       <use style=\"stroke:#000000;stroke-width:0.8;\" x=\"39.65\" xlink:href=\"#mf4b3c176bc\" y=\"95.35405\"/>\n      </g>\n     </g>\n     <g id=\"text_5\">\n      <!-- 600 -->\n      <defs>\n       <path d=\"M 33.015625 40.375 \nQ 26.375 40.375 22.484375 35.828125 \nQ 18.609375 31.296875 18.609375 23.390625 \nQ 18.609375 15.53125 22.484375 10.953125 \nQ 26.375 6.390625 33.015625 6.390625 \nQ 39.65625 6.390625 43.53125 10.953125 \nQ 47.40625 15.53125 47.40625 23.390625 \nQ 47.40625 31.296875 43.53125 35.828125 \nQ 39.65625 40.375 33.015625 40.375 \nz\nM 52.59375 71.296875 \nL 52.59375 62.3125 \nQ 48.875 64.0625 45.09375 64.984375 \nQ 41.3125 65.921875 37.59375 65.921875 \nQ 27.828125 65.921875 22.671875 59.328125 \nQ 17.53125 52.734375 16.796875 39.40625 \nQ 19.671875 43.65625 24.015625 45.921875 \nQ 28.375 48.1875 33.59375 48.1875 \nQ 44.578125 48.1875 50.953125 41.515625 \nQ 57.328125 34.859375 57.328125 23.390625 \nQ 57.328125 12.15625 50.6875 5.359375 \nQ 44.046875 -1.421875 33.015625 -1.421875 \nQ 20.359375 -1.421875 13.671875 8.265625 \nQ 6.984375 17.96875 6.984375 36.375 \nQ 6.984375 53.65625 15.1875 63.9375 \nQ 23.390625 74.21875 37.203125 74.21875 \nQ 40.921875 74.21875 44.703125 73.484375 \nQ 48.484375 72.75 52.59375 71.296875 \nz\n\" id=\"DejaVuSans-54\"/>\n      </defs>\n      <g transform=\"translate(13.5625 99.153268)scale(0.1 -0.1)\">\n       <use xlink:href=\"#DejaVuSans-54\"/>\n       <use x=\"63.623047\" xlink:href=\"#DejaVuSans-48\"/>\n       <use x=\"127.246094\" xlink:href=\"#DejaVuSans-48\"/>\n      </g>\n     </g>\n    </g>\n    <g id=\"ytick_5\">\n     <g id=\"line2d_6\">\n      <g>\n       <use style=\"stroke:#000000;stroke-width:0.8;\" x=\"39.65\" xlink:href=\"#mf4b3c176bc\" y=\"55.420165\"/>\n      </g>\n     </g>\n     <g id=\"text_6\">\n      <!-- 800 -->\n      <defs>\n       <path d=\"M 31.78125 34.625 \nQ 24.75 34.625 20.71875 30.859375 \nQ 16.703125 27.09375 16.703125 20.515625 \nQ 16.703125 13.921875 20.71875 10.15625 \nQ 24.75 6.390625 31.78125 6.390625 \nQ 38.8125 6.390625 42.859375 10.171875 \nQ 46.921875 13.96875 46.921875 20.515625 \nQ 46.921875 27.09375 42.890625 30.859375 \nQ 38.875 34.625 31.78125 34.625 \nz\nM 21.921875 38.8125 \nQ 15.578125 40.375 12.03125 44.71875 \nQ 8.5 49.078125 8.5 55.328125 \nQ 8.5 64.0625 14.71875 69.140625 \nQ 20.953125 74.21875 31.78125 74.21875 \nQ 42.671875 74.21875 48.875 69.140625 \nQ 55.078125 64.0625 55.078125 55.328125 \nQ 55.078125 49.078125 51.53125 44.71875 \nQ 48 40.375 41.703125 38.8125 \nQ 48.828125 37.15625 52.796875 32.3125 \nQ 56.78125 27.484375 56.78125 20.515625 \nQ 56.78125 9.90625 50.3125 4.234375 \nQ 43.84375 -1.421875 31.78125 -1.421875 \nQ 19.734375 -1.421875 13.25 4.234375 \nQ 6.78125 9.90625 6.78125 20.515625 \nQ 6.78125 27.484375 10.78125 32.3125 \nQ 14.796875 37.15625 21.921875 38.8125 \nz\nM 18.3125 54.390625 \nQ 18.3125 48.734375 21.84375 45.5625 \nQ 25.390625 42.390625 31.78125 42.390625 \nQ 38.140625 42.390625 41.71875 45.5625 \nQ 45.3125 48.734375 45.3125 54.390625 \nQ 45.3125 60.0625 41.71875 63.234375 \nQ 38.140625 66.40625 31.78125 66.40625 \nQ 25.390625 66.40625 21.84375 63.234375 \nQ 18.3125 60.0625 18.3125 54.390625 \nz\n\" id=\"DejaVuSans-56\"/>\n      </defs>\n      <g transform=\"translate(13.5625 59.219384)scale(0.1 -0.1)\">\n       <use xlink:href=\"#DejaVuSans-56\"/>\n       <use x=\"63.623047\" xlink:href=\"#DejaVuSans-48\"/>\n       <use x=\"127.246094\" xlink:href=\"#DejaVuSans-48\"/>\n      </g>\n     </g>\n    </g>\n    <g id=\"ytick_6\">\n     <g id=\"line2d_7\">\n      <g>\n       <use style=\"stroke:#000000;stroke-width:0.8;\" x=\"39.65\" xlink:href=\"#mf4b3c176bc\" y=\"15.486281\"/>\n      </g>\n     </g>\n     <g id=\"text_7\">\n      <!-- 1000 -->\n      <defs>\n       <path d=\"M 12.40625 8.296875 \nL 28.515625 8.296875 \nL 28.515625 63.921875 \nL 10.984375 60.40625 \nL 10.984375 69.390625 \nL 28.421875 72.90625 \nL 38.28125 72.90625 \nL 38.28125 8.296875 \nL 54.390625 8.296875 \nL 54.390625 0 \nL 12.40625 0 \nz\n\" id=\"DejaVuSans-49\"/>\n      </defs>\n      <g transform=\"translate(7.2 19.2855)scale(0.1 -0.1)\">\n       <use xlink:href=\"#DejaVuSans-49\"/>\n       <use x=\"63.623047\" xlink:href=\"#DejaVuSans-48\"/>\n       <use x=\"127.246094\" xlink:href=\"#DejaVuSans-48\"/>\n       <use x=\"190.869141\" xlink:href=\"#DejaVuSans-48\"/>\n      </g>\n     </g>\n    </g>\n   </g>\n   <g id=\"line2d_8\">\n    <path clip-path=\"url(#p73025ad6a0)\" d=\"M 181.94 202.576529 \nL 232.16 202.576529 \nL 232.16 172.226777 \nL 181.94 172.226777 \nL 181.94 202.576529 \n\" style=\"fill:none;stroke:#1f77b4;stroke-linecap:square;\"/>\n   </g>\n   <g id=\"line2d_9\">\n    <path clip-path=\"url(#p73025ad6a0)\" d=\"M 207.05 202.576529 \nL 207.05 214.756364 \n\" style=\"fill:none;stroke:#1f77b4;stroke-linecap:square;\"/>\n   </g>\n   <g id=\"line2d_10\">\n    <path clip-path=\"url(#p73025ad6a0)\" d=\"M 207.05 172.226777 \nL 207.05 127.101488 \n\" style=\"fill:none;stroke:#1f77b4;stroke-linecap:square;\"/>\n   </g>\n   <g id=\"line2d_11\">\n    <path clip-path=\"url(#p73025ad6a0)\" d=\"M 194.495 214.756364 \nL 219.605 214.756364 \n\" style=\"fill:none;stroke:#000000;stroke-linecap:square;\"/>\n   </g>\n   <g id=\"line2d_12\">\n    <path clip-path=\"url(#p73025ad6a0)\" d=\"M 194.495 127.101488 \nL 219.605 127.101488 \n\" style=\"fill:none;stroke:#000000;stroke-linecap:square;\"/>\n   </g>\n   <g id=\"line2d_13\">\n    <defs>\n     <path d=\"M 0 3 \nC 0.795609 3 1.55874 2.683901 2.12132 2.12132 \nC 2.683901 1.55874 3 0.795609 3 0 \nC 3 -0.795609 2.683901 -1.55874 2.12132 -2.12132 \nC 1.55874 -2.683901 0.795609 -3 0 -3 \nC -0.795609 -3 -1.55874 -2.683901 -2.12132 -2.12132 \nC -2.683901 -1.55874 -3 -0.795609 -3 0 \nC -3 0.795609 -2.683901 1.55874 -2.12132 2.12132 \nC -1.55874 2.683901 -0.795609 3 0 3 \nz\n\" id=\"m57eb9c38d8\" style=\"stroke:#000000;\"/>\n    </defs>\n    <g clip-path=\"url(#p73025ad6a0)\">\n     <use style=\"fill-opacity:0;stroke:#000000;\" x=\"207.05\" xlink:href=\"#m57eb9c38d8\" y=\"96.751736\"/>\n     <use style=\"fill-opacity:0;stroke:#000000;\" x=\"207.05\" xlink:href=\"#m57eb9c38d8\" y=\"80.977851\"/>\n     <use style=\"fill-opacity:0;stroke:#000000;\" x=\"207.05\" xlink:href=\"#m57eb9c38d8\" y=\"31.659504\"/>\n     <use style=\"fill-opacity:0;stroke:#000000;\" x=\"207.05\" xlink:href=\"#m57eb9c38d8\" y=\"45.037355\"/>\n     <use style=\"fill-opacity:0;stroke:#000000;\" x=\"207.05\" xlink:href=\"#m57eb9c38d8\" y=\"35.453223\"/>\n     <use style=\"fill-opacity:0;stroke:#000000;\" x=\"207.05\" xlink:href=\"#m57eb9c38d8\" y=\"104.139504\"/>\n     <use style=\"fill-opacity:0;stroke:#000000;\" x=\"207.05\" xlink:href=\"#m57eb9c38d8\" y=\"113.923306\"/>\n     <use style=\"fill-opacity:0;stroke:#000000;\" x=\"207.05\" xlink:href=\"#m57eb9c38d8\" y=\"21.476364\"/>\n     <use style=\"fill-opacity:0;stroke:#000000;\" x=\"207.05\" xlink:href=\"#m57eb9c38d8\" y=\"17.283306\"/>\n     <use style=\"fill-opacity:0;stroke:#000000;\" x=\"207.05\" xlink:href=\"#m57eb9c38d8\" y=\"92.958017\"/>\n     <use style=\"fill-opacity:0;stroke:#000000;\" x=\"207.05\" xlink:href=\"#m57eb9c38d8\" y=\"116.519008\"/>\n     <use style=\"fill-opacity:0;stroke:#000000;\" x=\"207.05\" xlink:href=\"#m57eb9c38d8\" y=\"99.746777\"/>\n     <use style=\"fill-opacity:0;stroke:#000000;\" x=\"207.05\" xlink:href=\"#m57eb9c38d8\" y=\"115.520661\"/>\n     <use style=\"fill-opacity:0;stroke:#000000;\" x=\"207.05\" xlink:href=\"#m57eb9c38d8\" y=\"115.121322\"/>\n     <use style=\"fill-opacity:0;stroke:#000000;\" x=\"207.05\" xlink:href=\"#m57eb9c38d8\" y=\"97.750083\"/>\n     <use style=\"fill-opacity:0;stroke:#000000;\" x=\"207.05\" xlink:href=\"#m57eb9c38d8\" y=\"79.979504\"/>\n     <use style=\"fill-opacity:0;stroke:#000000;\" x=\"207.05\" xlink:href=\"#m57eb9c38d8\" y=\"94.555372\"/>\n     <use style=\"fill-opacity:0;stroke:#000000;\" x=\"207.05\" xlink:href=\"#m57eb9c38d8\" y=\"122.309421\"/>\n     <use style=\"fill-opacity:0;stroke:#000000;\" x=\"207.05\" xlink:href=\"#m57eb9c38d8\" y=\"104.538843\"/>\n     <use style=\"fill-opacity:0;stroke:#000000;\" x=\"207.05\" xlink:href=\"#m57eb9c38d8\" y=\"124.106446\"/>\n     <use style=\"fill-opacity:0;stroke:#000000;\" x=\"207.05\" xlink:href=\"#m57eb9c38d8\" y=\"105.137851\"/>\n     <use style=\"fill-opacity:0;stroke:#000000;\" x=\"207.05\" xlink:href=\"#m57eb9c38d8\" y=\"82.575207\"/>\n     <use style=\"fill-opacity:0;stroke:#000000;\" x=\"207.05\" xlink:href=\"#m57eb9c38d8\" y=\"108.532231\"/>\n     <use style=\"fill-opacity:0;stroke:#000000;\" x=\"207.05\" xlink:href=\"#m57eb9c38d8\" y=\"107.933223\"/>\n     <use style=\"fill-opacity:0;stroke:#000000;\" x=\"207.05\" xlink:href=\"#m57eb9c38d8\" y=\"87.766612\"/>\n     <use style=\"fill-opacity:0;stroke:#000000;\" x=\"207.05\" xlink:href=\"#m57eb9c38d8\" y=\"57.21719\"/>\n     <use style=\"fill-opacity:0;stroke:#000000;\" x=\"207.05\" xlink:href=\"#m57eb9c38d8\" y=\"98.74843\"/>\n     <use style=\"fill-opacity:0;stroke:#000000;\" x=\"207.05\" xlink:href=\"#m57eb9c38d8\" y=\"81.57686\"/>\n     <use style=\"fill-opacity:0;stroke:#000000;\" x=\"207.05\" xlink:href=\"#m57eb9c38d8\" y=\"47.832727\"/>\n     <use style=\"fill-opacity:0;stroke:#000000;\" x=\"207.05\" xlink:href=\"#m57eb9c38d8\" y=\"121.710413\"/>\n     <use style=\"fill-opacity:0;stroke:#000000;\" x=\"207.05\" xlink:href=\"#m57eb9c38d8\" y=\"114.322645\"/>\n     <use style=\"fill-opacity:0;stroke:#000000;\" x=\"207.05\" xlink:href=\"#m57eb9c38d8\" y=\"125.703802\"/>\n     <use style=\"fill-opacity:0;stroke:#000000;\" x=\"207.05\" xlink:href=\"#m57eb9c38d8\" y=\"61.809587\"/>\n     <use style=\"fill-opacity:0;stroke:#000000;\" x=\"207.05\" xlink:href=\"#m57eb9c38d8\" y=\"46.235372\"/>\n     <use style=\"fill-opacity:0;stroke:#000000;\" x=\"207.05\" xlink:href=\"#m57eb9c38d8\" y=\"97.151074\"/>\n     <use style=\"fill-opacity:0;stroke:#000000;\" x=\"207.05\" xlink:href=\"#m57eb9c38d8\" y=\"97.750083\"/>\n     <use style=\"fill-opacity:0;stroke:#000000;\" x=\"207.05\" xlink:href=\"#m57eb9c38d8\" y=\"86.967934\"/>\n     <use style=\"fill-opacity:0;stroke:#000000;\" x=\"207.05\" xlink:href=\"#m57eb9c38d8\" y=\"120.712066\"/>\n     <use style=\"fill-opacity:0;stroke:#000000;\" x=\"207.05\" xlink:href=\"#m57eb9c38d8\" y=\"112.52562\"/>\n     <use style=\"fill-opacity:0;stroke:#000000;\" x=\"207.05\" xlink:href=\"#m57eb9c38d8\" y=\"121.111405\"/>\n     <use style=\"fill-opacity:0;stroke:#000000;\" x=\"207.05\" xlink:href=\"#m57eb9c38d8\" y=\"91.160992\"/>\n     <use style=\"fill-opacity:0;stroke:#000000;\" x=\"207.05\" xlink:href=\"#m57eb9c38d8\" y=\"65.004298\"/>\n     <use style=\"fill-opacity:0;stroke:#000000;\" x=\"207.05\" xlink:href=\"#m57eb9c38d8\" y=\"119.913388\"/>\n     <use style=\"fill-opacity:0;stroke:#000000;\" x=\"207.05\" xlink:href=\"#m57eb9c38d8\" y=\"96.352397\"/>\n     <use style=\"fill-opacity:0;stroke:#000000;\" x=\"207.05\" xlink:href=\"#m57eb9c38d8\" y=\"104.938182\"/>\n     <use style=\"fill-opacity:0;stroke:#000000;\" x=\"207.05\" xlink:href=\"#m57eb9c38d8\" y=\"120.911736\"/>\n     <use style=\"fill-opacity:0;stroke:#000000;\" x=\"207.05\" xlink:href=\"#m57eb9c38d8\" y=\"25.869091\"/>\n     <use style=\"fill-opacity:0;stroke:#000000;\" x=\"207.05\" xlink:href=\"#m57eb9c38d8\" y=\"104.139504\"/>\n     <use style=\"fill-opacity:0;stroke:#000000;\" x=\"207.05\" xlink:href=\"#m57eb9c38d8\" y=\"56.418512\"/>\n     <use style=\"fill-opacity:0;stroke:#000000;\" x=\"207.05\" xlink:href=\"#m57eb9c38d8\" y=\"124.505785\"/>\n     <use style=\"fill-opacity:0;stroke:#000000;\" x=\"207.05\" xlink:href=\"#m57eb9c38d8\" y=\"98.349091\"/>\n     <use style=\"fill-opacity:0;stroke:#000000;\" x=\"207.05\" xlink:href=\"#m57eb9c38d8\" y=\"85.370579\"/>\n     <use style=\"fill-opacity:0;stroke:#000000;\" x=\"207.05\" xlink:href=\"#m57eb9c38d8\" y=\"99.347438\"/>\n     <use style=\"fill-opacity:0;stroke:#000000;\" x=\"207.05\" xlink:href=\"#m57eb9c38d8\" y=\"119.913388\"/>\n     <use style=\"fill-opacity:0;stroke:#000000;\" x=\"207.05\" xlink:href=\"#m57eb9c38d8\" y=\"117.118017\"/>\n     <use style=\"fill-opacity:0;stroke:#000000;\" x=\"207.05\" xlink:href=\"#m57eb9c38d8\" y=\"31.260165\"/>\n     <use style=\"fill-opacity:0;stroke:#000000;\" x=\"207.05\" xlink:href=\"#m57eb9c38d8\" y=\"48.032397\"/>\n     <use style=\"fill-opacity:0;stroke:#000000;\" x=\"207.05\" xlink:href=\"#m57eb9c38d8\" y=\"78.781488\"/>\n     <use style=\"fill-opacity:0;stroke:#000000;\" x=\"207.05\" xlink:href=\"#m57eb9c38d8\" y=\"93.956364\"/>\n     <use style=\"fill-opacity:0;stroke:#000000;\" x=\"207.05\" xlink:href=\"#m57eb9c38d8\" y=\"123.507438\"/>\n     <use style=\"fill-opacity:0;stroke:#000000;\" x=\"207.05\" xlink:href=\"#m57eb9c38d8\" y=\"30.261818\"/>\n     <use style=\"fill-opacity:0;stroke:#000000;\" x=\"207.05\" xlink:href=\"#m57eb9c38d8\" y=\"54.621488\"/>\n     <use style=\"fill-opacity:0;stroke:#000000;\" x=\"207.05\" xlink:href=\"#m57eb9c38d8\" y=\"99.147769\"/>\n     <use style=\"fill-opacity:0;stroke:#000000;\" x=\"207.05\" xlink:href=\"#m57eb9c38d8\" y=\"23.672727\"/>\n     <use style=\"fill-opacity:0;stroke:#000000;\" x=\"207.05\" xlink:href=\"#m57eb9c38d8\" y=\"92.758347\"/>\n     <use style=\"fill-opacity:0;stroke:#000000;\" x=\"207.05\" xlink:href=\"#m57eb9c38d8\" y=\"107.733554\"/>\n     <use style=\"fill-opacity:0;stroke:#000000;\" x=\"207.05\" xlink:href=\"#m57eb9c38d8\" y=\"85.570248\"/>\n     <use style=\"fill-opacity:0;stroke:#000000;\" x=\"207.05\" xlink:href=\"#m57eb9c38d8\" y=\"101.743471\"/>\n     <use style=\"fill-opacity:0;stroke:#000000;\" x=\"207.05\" xlink:href=\"#m57eb9c38d8\" y=\"98.948099\"/>\n     <use style=\"fill-opacity:0;stroke:#000000;\" x=\"207.05\" xlink:href=\"#m57eb9c38d8\" y=\"90.162645\"/>\n     <use style=\"fill-opacity:0;stroke:#000000;\" x=\"207.05\" xlink:href=\"#m57eb9c38d8\" y=\"118.515702\"/>\n     <use style=\"fill-opacity:0;stroke:#000000;\" x=\"207.05\" xlink:href=\"#m57eb9c38d8\" y=\"114.322645\"/>\n     <use style=\"fill-opacity:0;stroke:#000000;\" x=\"207.05\" xlink:href=\"#m57eb9c38d8\" y=\"24.671074\"/>\n     <use style=\"fill-opacity:0;stroke:#000000;\" x=\"207.05\" xlink:href=\"#m57eb9c38d8\" y=\"71.793058\"/>\n     <use style=\"fill-opacity:0;stroke:#000000;\" x=\"207.05\" xlink:href=\"#m57eb9c38d8\" y=\"48.631405\"/>\n     <use style=\"fill-opacity:0;stroke:#000000;\" x=\"207.05\" xlink:href=\"#m57eb9c38d8\" y=\"45.436694\"/>\n     <use style=\"fill-opacity:0;stroke:#000000;\" x=\"207.05\" xlink:href=\"#m57eb9c38d8\" y=\"99.547107\"/>\n     <use style=\"fill-opacity:0;stroke:#000000;\" x=\"207.05\" xlink:href=\"#m57eb9c38d8\" y=\"97.550413\"/>\n     <use style=\"fill-opacity:0;stroke:#000000;\" x=\"207.05\" xlink:href=\"#m57eb9c38d8\" y=\"62.009256\"/>\n     <use style=\"fill-opacity:0;stroke:#000000;\" x=\"207.05\" xlink:href=\"#m57eb9c38d8\" y=\"36.850909\"/>\n     <use style=\"fill-opacity:0;stroke:#000000;\" x=\"207.05\" xlink:href=\"#m57eb9c38d8\" y=\"49.230413\"/>\n     <use style=\"fill-opacity:0;stroke:#000000;\" x=\"207.05\" xlink:href=\"#m57eb9c38d8\" y=\"120.712066\"/>\n     <use style=\"fill-opacity:0;stroke:#000000;\" x=\"207.05\" xlink:href=\"#m57eb9c38d8\" y=\"41.842645\"/>\n     <use style=\"fill-opacity:0;stroke:#000000;\" x=\"207.05\" xlink:href=\"#m57eb9c38d8\" y=\"96.951405\"/>\n     <use style=\"fill-opacity:0;stroke:#000000;\" x=\"207.05\" xlink:href=\"#m57eb9c38d8\" y=\"92.159339\"/>\n     <use style=\"fill-opacity:0;stroke:#000000;\" x=\"207.05\" xlink:href=\"#m57eb9c38d8\" y=\"31.459835\"/>\n     <use style=\"fill-opacity:0;stroke:#000000;\" x=\"207.05\" xlink:href=\"#m57eb9c38d8\" y=\"104.339174\"/>\n     <use style=\"fill-opacity:0;stroke:#000000;\" x=\"207.05\" xlink:href=\"#m57eb9c38d8\" y=\"105.73686\"/>\n     <use style=\"fill-opacity:0;stroke:#000000;\" x=\"207.05\" xlink:href=\"#m57eb9c38d8\" y=\"86.368926\"/>\n     <use style=\"fill-opacity:0;stroke:#000000;\" x=\"207.05\" xlink:href=\"#m57eb9c38d8\" y=\"60.81124\"/>\n     <use style=\"fill-opacity:0;stroke:#000000;\" x=\"207.05\" xlink:href=\"#m57eb9c38d8\" y=\"106.934876\"/>\n     <use style=\"fill-opacity:0;stroke:#000000;\" x=\"207.05\" xlink:href=\"#m57eb9c38d8\" y=\"109.530579\"/>\n     <use style=\"fill-opacity:0;stroke:#000000;\" x=\"207.05\" xlink:href=\"#m57eb9c38d8\" y=\"119.31438\"/>\n     <use style=\"fill-opacity:0;stroke:#000000;\" x=\"207.05\" xlink:href=\"#m57eb9c38d8\" y=\"113.923306\"/>\n     <use style=\"fill-opacity:0;stroke:#000000;\" x=\"207.05\" xlink:href=\"#m57eb9c38d8\" y=\"92.359008\"/>\n     <use style=\"fill-opacity:0;stroke:#000000;\" x=\"207.05\" xlink:href=\"#m57eb9c38d8\" y=\"121.111405\"/>\n     <use style=\"fill-opacity:0;stroke:#000000;\" x=\"207.05\" xlink:href=\"#m57eb9c38d8\" y=\"68.199008\"/>\n     <use style=\"fill-opacity:0;stroke:#000000;\" x=\"207.05\" xlink:href=\"#m57eb9c38d8\" y=\"91.160992\"/>\n     <use style=\"fill-opacity:0;stroke:#000000;\" x=\"207.05\" xlink:href=\"#m57eb9c38d8\" y=\"84.172562\"/>\n     <use style=\"fill-opacity:0;stroke:#000000;\" x=\"207.05\" xlink:href=\"#m57eb9c38d8\" y=\"96.951405\"/>\n     <use style=\"fill-opacity:0;stroke:#000000;\" x=\"207.05\" xlink:href=\"#m57eb9c38d8\" y=\"112.52562\"/>\n     <use style=\"fill-opacity:0;stroke:#000000;\" x=\"207.05\" xlink:href=\"#m57eb9c38d8\" y=\"103.141157\"/>\n     <use style=\"fill-opacity:0;stroke:#000000;\" x=\"207.05\" xlink:href=\"#m57eb9c38d8\" y=\"116.319339\"/>\n     <use style=\"fill-opacity:0;stroke:#000000;\" x=\"207.05\" xlink:href=\"#m57eb9c38d8\" y=\"77.583471\"/>\n     <use style=\"fill-opacity:0;stroke:#000000;\" x=\"207.05\" xlink:href=\"#m57eb9c38d8\" y=\"113.923306\"/>\n     <use style=\"fill-opacity:0;stroke:#000000;\" x=\"207.05\" xlink:href=\"#m57eb9c38d8\" y=\"90.162645\"/>\n     <use style=\"fill-opacity:0;stroke:#000000;\" x=\"207.05\" xlink:href=\"#m57eb9c38d8\" y=\"64.604959\"/>\n     <use style=\"fill-opacity:0;stroke:#000000;\" x=\"207.05\" xlink:href=\"#m57eb9c38d8\" y=\"60.411901\"/>\n     <use style=\"fill-opacity:0;stroke:#000000;\" x=\"207.05\" xlink:href=\"#m57eb9c38d8\" y=\"126.30281\"/>\n     <use style=\"fill-opacity:0;stroke:#000000;\" x=\"207.05\" xlink:href=\"#m57eb9c38d8\" y=\"58.215537\"/>\n     <use style=\"fill-opacity:0;stroke:#000000;\" x=\"207.05\" xlink:href=\"#m57eb9c38d8\" y=\"71.992727\"/>\n     <use style=\"fill-opacity:0;stroke:#000000;\" x=\"207.05\" xlink:href=\"#m57eb9c38d8\" y=\"46.634711\"/>\n     <use style=\"fill-opacity:0;stroke:#000000;\" x=\"207.05\" xlink:href=\"#m57eb9c38d8\" y=\"27.666116\"/>\n     <use style=\"fill-opacity:0;stroke:#000000;\" x=\"207.05\" xlink:href=\"#m57eb9c38d8\" y=\"115.92\"/>\n     <use style=\"fill-opacity:0;stroke:#000000;\" x=\"207.05\" xlink:href=\"#m57eb9c38d8\" y=\"73.989421\"/>\n     <use style=\"fill-opacity:0;stroke:#000000;\" x=\"207.05\" xlink:href=\"#m57eb9c38d8\" y=\"112.52562\"/>\n     <use style=\"fill-opacity:0;stroke:#000000;\" x=\"207.05\" xlink:href=\"#m57eb9c38d8\" y=\"118.116364\"/>\n     <use style=\"fill-opacity:0;stroke:#000000;\" x=\"207.05\" xlink:href=\"#m57eb9c38d8\" y=\"97.949752\"/>\n     <use style=\"fill-opacity:0;stroke:#000000;\" x=\"207.05\" xlink:href=\"#m57eb9c38d8\" y=\"91.560331\"/>\n     <use style=\"fill-opacity:0;stroke:#000000;\" x=\"207.05\" xlink:href=\"#m57eb9c38d8\" y=\"85.370579\"/>\n     <use style=\"fill-opacity:0;stroke:#000000;\" x=\"207.05\" xlink:href=\"#m57eb9c38d8\" y=\"62.807934\"/>\n     <use style=\"fill-opacity:0;stroke:#000000;\" x=\"207.05\" xlink:href=\"#m57eb9c38d8\" y=\"117.118017\"/>\n     <use style=\"fill-opacity:0;stroke:#000000;\" x=\"207.05\" xlink:href=\"#m57eb9c38d8\" y=\"124.106446\"/>\n     <use style=\"fill-opacity:0;stroke:#000000;\" x=\"207.05\" xlink:href=\"#m57eb9c38d8\" y=\"104.538843\"/>\n     <use style=\"fill-opacity:0;stroke:#000000;\" x=\"207.05\" xlink:href=\"#m57eb9c38d8\" y=\"123.707107\"/>\n     <use style=\"fill-opacity:0;stroke:#000000;\" x=\"207.05\" xlink:href=\"#m57eb9c38d8\" y=\"122.70876\"/>\n     <use style=\"fill-opacity:0;stroke:#000000;\" x=\"207.05\" xlink:href=\"#m57eb9c38d8\" y=\"120.712066\"/>\n     <use style=\"fill-opacity:0;stroke:#000000;\" x=\"207.05\" xlink:href=\"#m57eb9c38d8\" y=\"122.109752\"/>\n     <use style=\"fill-opacity:0;stroke:#000000;\" x=\"207.05\" xlink:href=\"#m57eb9c38d8\" y=\"110.129587\"/>\n     <use style=\"fill-opacity:0;stroke:#000000;\" x=\"207.05\" xlink:href=\"#m57eb9c38d8\" y=\"124.306116\"/>\n     <use style=\"fill-opacity:0;stroke:#000000;\" x=\"207.05\" xlink:href=\"#m57eb9c38d8\" y=\"81.976198\"/>\n     <use style=\"fill-opacity:0;stroke:#000000;\" x=\"207.05\" xlink:href=\"#m57eb9c38d8\" y=\"59.014215\"/>\n     <use style=\"fill-opacity:0;stroke:#000000;\" x=\"207.05\" xlink:href=\"#m57eb9c38d8\" y=\"53.423471\"/>\n     <use style=\"fill-opacity:0;stroke:#000000;\" x=\"207.05\" xlink:href=\"#m57eb9c38d8\" y=\"46.235372\"/>\n     <use style=\"fill-opacity:0;stroke:#000000;\" x=\"207.05\" xlink:href=\"#m57eb9c38d8\" y=\"83.573554\"/>\n     <use style=\"fill-opacity:0;stroke:#000000;\" x=\"207.05\" xlink:href=\"#m57eb9c38d8\" y=\"51.826116\"/>\n     <use style=\"fill-opacity:0;stroke:#000000;\" x=\"207.05\" xlink:href=\"#m57eb9c38d8\" y=\"55.420165\"/>\n     <use style=\"fill-opacity:0;stroke:#000000;\" x=\"207.05\" xlink:href=\"#m57eb9c38d8\" y=\"120.712066\"/>\n     <use style=\"fill-opacity:0;stroke:#000000;\" x=\"207.05\" xlink:href=\"#m57eb9c38d8\" y=\"105.73686\"/>\n     <use style=\"fill-opacity:0;stroke:#000000;\" x=\"207.05\" xlink:href=\"#m57eb9c38d8\" y=\"47.832727\"/>\n     <use style=\"fill-opacity:0;stroke:#000000;\" x=\"207.05\" xlink:href=\"#m57eb9c38d8\" y=\"71.393719\"/>\n     <use style=\"fill-opacity:0;stroke:#000000;\" x=\"207.05\" xlink:href=\"#m57eb9c38d8\" y=\"35.053884\"/>\n     <use style=\"fill-opacity:0;stroke:#000000;\" x=\"207.05\" xlink:href=\"#m57eb9c38d8\" y=\"69.796364\"/>\n     <use style=\"fill-opacity:0;stroke:#000000;\" x=\"207.05\" xlink:href=\"#m57eb9c38d8\" y=\"120.712066\"/>\n     <use style=\"fill-opacity:0;stroke:#000000;\" x=\"207.05\" xlink:href=\"#m57eb9c38d8\" y=\"88.964628\"/>\n     <use style=\"fill-opacity:0;stroke:#000000;\" x=\"207.05\" xlink:href=\"#m57eb9c38d8\" y=\"83.573554\"/>\n     <use style=\"fill-opacity:0;stroke:#000000;\" x=\"207.05\" xlink:href=\"#m57eb9c38d8\" y=\"88.565289\"/>\n     <use style=\"fill-opacity:0;stroke:#000000;\" x=\"207.05\" xlink:href=\"#m57eb9c38d8\" y=\"28.065455\"/>\n     <use style=\"fill-opacity:0;stroke:#000000;\" x=\"207.05\" xlink:href=\"#m57eb9c38d8\" y=\"120.312727\"/>\n     <use style=\"fill-opacity:0;stroke:#000000;\" x=\"207.05\" xlink:href=\"#m57eb9c38d8\" y=\"31.260165\"/>\n     <use style=\"fill-opacity:0;stroke:#000000;\" x=\"207.05\" xlink:href=\"#m57eb9c38d8\" y=\"117.517355\"/>\n     <use style=\"fill-opacity:0;stroke:#000000;\" x=\"207.05\" xlink:href=\"#m57eb9c38d8\" y=\"89.363967\"/>\n     <use style=\"fill-opacity:0;stroke:#000000;\" x=\"207.05\" xlink:href=\"#m57eb9c38d8\" y=\"81.177521\"/>\n     <use style=\"fill-opacity:0;stroke:#000000;\" x=\"207.05\" xlink:href=\"#m57eb9c38d8\" y=\"76.784793\"/>\n     <use style=\"fill-opacity:0;stroke:#000000;\" x=\"207.05\" xlink:href=\"#m57eb9c38d8\" y=\"104.538843\"/>\n     <use style=\"fill-opacity:0;stroke:#000000;\" x=\"207.05\" xlink:href=\"#m57eb9c38d8\" y=\"122.70876\"/>\n     <use style=\"fill-opacity:0;stroke:#000000;\" x=\"207.05\" xlink:href=\"#m57eb9c38d8\" y=\"111.327603\"/>\n     <use style=\"fill-opacity:0;stroke:#000000;\" x=\"207.05\" xlink:href=\"#m57eb9c38d8\" y=\"102.342479\"/>\n     <use style=\"fill-opacity:0;stroke:#000000;\" x=\"207.05\" xlink:href=\"#m57eb9c38d8\" y=\"112.32595\"/>\n     <use style=\"fill-opacity:0;stroke:#000000;\" x=\"207.05\" xlink:href=\"#m57eb9c38d8\" y=\"48.831074\"/>\n     <use style=\"fill-opacity:0;stroke:#000000;\" x=\"207.05\" xlink:href=\"#m57eb9c38d8\" y=\"17.083636\"/>\n     <use style=\"fill-opacity:0;stroke:#000000;\" x=\"207.05\" xlink:href=\"#m57eb9c38d8\" y=\"98.948099\"/>\n     <use style=\"fill-opacity:0;stroke:#000000;\" x=\"207.05\" xlink:href=\"#m57eb9c38d8\" y=\"113.923306\"/>\n     <use style=\"fill-opacity:0;stroke:#000000;\" x=\"207.05\" xlink:href=\"#m57eb9c38d8\" y=\"96.552066\"/>\n     <use style=\"fill-opacity:0;stroke:#000000;\" x=\"207.05\" xlink:href=\"#m57eb9c38d8\" y=\"62.009256\"/>\n     <use style=\"fill-opacity:0;stroke:#000000;\" x=\"207.05\" xlink:href=\"#m57eb9c38d8\" y=\"59.014215\"/>\n     <use style=\"fill-opacity:0;stroke:#000000;\" x=\"207.05\" xlink:href=\"#m57eb9c38d8\" y=\"78.781488\"/>\n     <use style=\"fill-opacity:0;stroke:#000000;\" x=\"207.05\" xlink:href=\"#m57eb9c38d8\" y=\"108.532231\"/>\n     <use style=\"fill-opacity:0;stroke:#000000;\" x=\"207.05\" xlink:href=\"#m57eb9c38d8\" y=\"124.705455\"/>\n     <use style=\"fill-opacity:0;stroke:#000000;\" x=\"207.05\" xlink:href=\"#m57eb9c38d8\" y=\"17.083636\"/>\n     <use style=\"fill-opacity:0;stroke:#000000;\" x=\"207.05\" xlink:href=\"#m57eb9c38d8\" y=\"114.721983\"/>\n     <use style=\"fill-opacity:0;stroke:#000000;\" x=\"207.05\" xlink:href=\"#m57eb9c38d8\" y=\"118.116364\"/>\n     <use style=\"fill-opacity:0;stroke:#000000;\" x=\"207.05\" xlink:href=\"#m57eb9c38d8\" y=\"62.009256\"/>\n     <use style=\"fill-opacity:0;stroke:#000000;\" x=\"207.05\" xlink:href=\"#m57eb9c38d8\" y=\"110.528926\"/>\n     <use style=\"fill-opacity:0;stroke:#000000;\" x=\"207.05\" xlink:href=\"#m57eb9c38d8\" y=\"117.517355\"/>\n     <use style=\"fill-opacity:0;stroke:#000000;\" x=\"207.05\" xlink:href=\"#m57eb9c38d8\" y=\"109.929917\"/>\n     <use style=\"fill-opacity:0;stroke:#000000;\" x=\"207.05\" xlink:href=\"#m57eb9c38d8\" y=\"117.317686\"/>\n    </g>\n   </g>\n   <g id=\"line2d_14\">\n    <path clip-path=\"url(#p73025ad6a0)\" d=\"M 181.94 191.99405 \nL 232.16 191.99405 \n\" style=\"fill:none;stroke:#2ca02c;stroke-linecap:square;\"/>\n   </g>\n   <g id=\"patch_3\">\n    <path d=\"M 39.65 224.64 \nL 39.65 7.2 \n\" style=\"fill:none;stroke:#000000;stroke-linecap:square;stroke-linejoin:miter;stroke-width:0.8;\"/>\n   </g>\n   <g id=\"patch_4\">\n    <path d=\"M 374.45 224.64 \nL 374.45 7.2 \n\" style=\"fill:none;stroke:#000000;stroke-linecap:square;stroke-linejoin:miter;stroke-width:0.8;\"/>\n   </g>\n   <g id=\"patch_5\">\n    <path d=\"M 39.65 224.64 \nL 374.45 224.64 \n\" style=\"fill:none;stroke:#000000;stroke-linecap:square;stroke-linejoin:miter;stroke-width:0.8;\"/>\n   </g>\n   <g id=\"patch_6\">\n    <path d=\"M 39.65 7.2 \nL 374.45 7.2 \n\" style=\"fill:none;stroke:#000000;stroke-linecap:square;stroke-linejoin:miter;stroke-width:0.8;\"/>\n   </g>\n  </g>\n </g>\n <defs>\n  <clipPath id=\"p73025ad6a0\">\n   <rect height=\"217.44\" width=\"334.8\" x=\"39.65\" y=\"7.2\"/>\n  </clipPath>\n </defs>\n</svg>\n",
      "image/png": "[encoded data removed]"
     },
     "metadata": {
      "needs_background": "light"
     }
    }
   ],
   "source": [
    "ted.loc[ted.comments < 1000, 'comments'].plot(kind='box') # black dots are outliers\n"
   ]
  },
  {
   "cell_type": "markdown",
   "metadata": {},
   "source": [
    "## 4. Plot the number of talks that took place each year\n",
    "LESSONS:\n",
    "- convert date to date format, new col with year, group by year, count talks\n",
    "- bar plots good for categorical data\n",
    "- Read the documentation\n",
    "- Use datetime data type for dates and tiems\n",
    "- consider excluding data if it might not be relevant"
   ]
  },
  {
   "cell_type": "code",
   "execution_count": 30,
   "metadata": {},
   "outputs": [
    {
     "output_type": "execute_result",
     "data": {
      "text/plain": [
       "0            TED2006\n",
       "1            TED2006\n",
       "2            TED2006\n",
       "3            TED2006\n",
       "4            TED2006\n",
       "            ...     \n",
       "2545         TED2017\n",
       "2546         TED2017\n",
       "2547         TED2017\n",
       "2548    TEDxMileHigh\n",
       "2549         TED2017\n",
       "Name: event, Length: 2550, dtype: object"
      ]
     },
     "metadata": {},
     "execution_count": 30
    }
   ],
   "source": [
    "ted.event # not all contain the year"
   ]
  },
  {
   "cell_type": "code",
   "execution_count": 33,
   "metadata": {},
   "outputs": [],
   "source": [
    "ted['film_datetime'] = pd.to_datetime(ted.film_date,unit='s')"
   ]
  },
  {
   "cell_type": "code",
   "execution_count": 34,
   "metadata": {},
   "outputs": [
    {
     "output_type": "execute_result",
     "data": {
      "text/plain": [
       "                          event film_datetime\n",
       "905                 TEDPrize@UN    2010-11-18\n",
       "1413  TEDSalon London Fall 2012    2012-11-16\n",
       "380                     TED2009    2009-02-02\n",
       "1292             TEDGlobal 2012    2012-06-27\n",
       "361           Serious Play 2008    2008-05-05"
      ],
      "text/html": "<div>\n<style scoped>\n    .dataframe tbody tr th:only-of-type {\n        vertical-align: middle;\n    }\n\n    .dataframe tbody tr th {\n        vertical-align: top;\n    }\n\n    .dataframe thead th {\n        text-align: right;\n    }\n</style>\n<table border=\"1\" class=\"dataframe\">\n  <thead>\n    <tr style=\"text-align: right;\">\n      <th></th>\n      <th>event</th>\n      <th>film_datetime</th>\n    </tr>\n  </thead>\n  <tbody>\n    <tr>\n      <th>905</th>\n      <td>TEDPrize@UN</td>\n      <td>2010-11-18</td>\n    </tr>\n    <tr>\n      <th>1413</th>\n      <td>TEDSalon London Fall 2012</td>\n      <td>2012-11-16</td>\n    </tr>\n    <tr>\n      <th>380</th>\n      <td>TED2009</td>\n      <td>2009-02-02</td>\n    </tr>\n    <tr>\n      <th>1292</th>\n      <td>TEDGlobal 2012</td>\n      <td>2012-06-27</td>\n    </tr>\n    <tr>\n      <th>361</th>\n      <td>Serious Play 2008</td>\n      <td>2008-05-05</td>\n    </tr>\n  </tbody>\n</table>\n</div>"
     },
     "metadata": {},
     "execution_count": 34
    }
   ],
   "source": [
    "ted[['event','film_datetime']].sample(5)"
   ]
  },
  {
   "cell_type": "code",
   "execution_count": 35,
   "metadata": {},
   "outputs": [
    {
     "output_type": "execute_result",
     "data": {
      "text/plain": [
       "comments                       int64\n",
       "description                   object\n",
       "duration                       int64\n",
       "event                         object\n",
       "film_date                      int64\n",
       "languages                      int64\n",
       "main_speaker                  object\n",
       "name                          object\n",
       "num_speaker                    int64\n",
       "published_date                 int64\n",
       "ratings                       object\n",
       "related_talks                 object\n",
       "speaker_occupation            object\n",
       "tags                          object\n",
       "title                         object\n",
       "url                           object\n",
       "views                          int64\n",
       "views_per_comment            float64\n",
       "film_datetime         datetime64[ns]\n",
       "dtype: object"
      ]
     },
     "metadata": {},
     "execution_count": 35
    }
   ],
   "source": [
    "ted.dtypes"
   ]
  },
  {
   "cell_type": "code",
   "execution_count": 40,
   "metadata": {},
   "outputs": [
    {
     "output_type": "execute_result",
     "data": {
      "text/plain": [
       "<matplotlib.axes._subplots.AxesSubplot at 0x7fb9e8b42c40>"
      ]
     },
     "metadata": {},
     "execution_count": 40
    },
    {
     "output_type": "display_data",
     "data": {
      "text/plain": "<Figure size 432x288 with 1 Axes>",
      "image/svg+xml": "<?xml version=\"1.0\" encoding=\"utf-8\" standalone=\"no\"?>\n<!DOCTYPE svg PUBLIC \"-//W3C//DTD SVG 1.1//EN\"\n  \"http://www.w3.org/Graphics/SVG/1.1/DTD/svg11.dtd\">\n<!-- Created with matplotlib (https://matplotlib.org/) -->\n<svg height=\"248.518125pt\" version=\"1.1\" viewBox=\"0 0 375.2875 248.518125\" width=\"375.2875pt\" xmlns=\"http://www.w3.org/2000/svg\" xmlns:xlink=\"http://www.w3.org/1999/xlink\">\n <defs>\n  <style type=\"text/css\">\n*{stroke-linecap:butt;stroke-linejoin:round;}\n  </style>\n </defs>\n <g id=\"figure_1\">\n  <g id=\"patch_1\">\n   <path d=\"M 0 248.518125 \nL 375.2875 248.518125 \nL 375.2875 0 \nL 0 0 \nz\n\" style=\"fill:none;\"/>\n  </g>\n  <g id=\"axes_1\">\n   <g id=\"patch_2\">\n    <path d=\"M 33.2875 224.64 \nL 368.0875 224.64 \nL 368.0875 7.2 \nL 33.2875 7.2 \nz\n\" style=\"fill:#ffffff;\"/>\n   </g>\n   <g id=\"matplotlib.axis_1\">\n    <g id=\"xtick_1\">\n     <g id=\"line2d_1\">\n      <defs>\n       <path d=\"M 0 0 \nL 0 3.5 \n\" id=\"m21e3fe4350\" style=\"stroke:#000000;stroke-width:0.8;\"/>\n      </defs>\n      <g>\n       <use style=\"stroke:#000000;stroke-width:0.8;\" x=\"34.978409\" xlink:href=\"#m21e3fe4350\" y=\"224.64\"/>\n      </g>\n     </g>\n     <g id=\"text_1\">\n      <!-- 1970 -->\n      <defs>\n       <path d=\"M 12.40625 8.296875 \nL 28.515625 8.296875 \nL 28.515625 63.921875 \nL 10.984375 60.40625 \nL 10.984375 69.390625 \nL 28.421875 72.90625 \nL 38.28125 72.90625 \nL 38.28125 8.296875 \nL 54.390625 8.296875 \nL 54.390625 0 \nL 12.40625 0 \nz\n\" id=\"DejaVuSans-49\"/>\n       <path d=\"M 10.984375 1.515625 \nL 10.984375 10.5 \nQ 14.703125 8.734375 18.5 7.8125 \nQ 22.3125 6.890625 25.984375 6.890625 \nQ 35.75 6.890625 40.890625 13.453125 \nQ 46.046875 20.015625 46.78125 33.40625 \nQ 43.953125 29.203125 39.59375 26.953125 \nQ 35.25 24.703125 29.984375 24.703125 \nQ 19.046875 24.703125 12.671875 31.3125 \nQ 6.296875 37.9375 6.296875 49.421875 \nQ 6.296875 60.640625 12.9375 67.421875 \nQ 19.578125 74.21875 30.609375 74.21875 \nQ 43.265625 74.21875 49.921875 64.515625 \nQ 56.59375 54.828125 56.59375 36.375 \nQ 56.59375 19.140625 48.40625 8.859375 \nQ 40.234375 -1.421875 26.421875 -1.421875 \nQ 22.703125 -1.421875 18.890625 -0.6875 \nQ 15.09375 0.046875 10.984375 1.515625 \nz\nM 30.609375 32.421875 \nQ 37.25 32.421875 41.125 36.953125 \nQ 45.015625 41.5 45.015625 49.421875 \nQ 45.015625 57.28125 41.125 61.84375 \nQ 37.25 66.40625 30.609375 66.40625 \nQ 23.96875 66.40625 20.09375 61.84375 \nQ 16.21875 57.28125 16.21875 49.421875 \nQ 16.21875 41.5 20.09375 36.953125 \nQ 23.96875 32.421875 30.609375 32.421875 \nz\n\" id=\"DejaVuSans-57\"/>\n       <path d=\"M 8.203125 72.90625 \nL 55.078125 72.90625 \nL 55.078125 68.703125 \nL 28.609375 0 \nL 18.3125 0 \nL 43.21875 64.59375 \nL 8.203125 64.59375 \nz\n\" id=\"DejaVuSans-55\"/>\n       <path d=\"M 31.78125 66.40625 \nQ 24.171875 66.40625 20.328125 58.90625 \nQ 16.5 51.421875 16.5 36.375 \nQ 16.5 21.390625 20.328125 13.890625 \nQ 24.171875 6.390625 31.78125 6.390625 \nQ 39.453125 6.390625 43.28125 13.890625 \nQ 47.125 21.390625 47.125 36.375 \nQ 47.125 51.421875 43.28125 58.90625 \nQ 39.453125 66.40625 31.78125 66.40625 \nz\nM 31.78125 74.21875 \nQ 44.046875 74.21875 50.515625 64.515625 \nQ 56.984375 54.828125 56.984375 36.375 \nQ 56.984375 17.96875 50.515625 8.265625 \nQ 44.046875 -1.421875 31.78125 -1.421875 \nQ 19.53125 -1.421875 13.0625 8.265625 \nQ 6.59375 17.96875 6.59375 36.375 \nQ 6.59375 54.828125 13.0625 64.515625 \nQ 19.53125 74.21875 31.78125 74.21875 \nz\n\" id=\"DejaVuSans-48\"/>\n      </defs>\n      <g transform=\"translate(22.253409 239.238438)scale(0.1 -0.1)\">\n       <use xlink:href=\"#DejaVuSans-49\"/>\n       <use x=\"63.623047\" xlink:href=\"#DejaVuSans-57\"/>\n       <use x=\"127.246094\" xlink:href=\"#DejaVuSans-55\"/>\n       <use x=\"190.869141\" xlink:href=\"#DejaVuSans-48\"/>\n      </g>\n     </g>\n    </g>\n    <g id=\"xtick_2\">\n     <g id=\"line2d_2\">\n      <g>\n       <use style=\"stroke:#000000;stroke-width:0.8;\" x=\"102.614773\" xlink:href=\"#m21e3fe4350\" y=\"224.64\"/>\n      </g>\n     </g>\n     <g id=\"text_2\">\n      <!-- 1980 -->\n      <defs>\n       <path d=\"M 31.78125 34.625 \nQ 24.75 34.625 20.71875 30.859375 \nQ 16.703125 27.09375 16.703125 20.515625 \nQ 16.703125 13.921875 20.71875 10.15625 \nQ 24.75 6.390625 31.78125 6.390625 \nQ 38.8125 6.390625 42.859375 10.171875 \nQ 46.921875 13.96875 46.921875 20.515625 \nQ 46.921875 27.09375 42.890625 30.859375 \nQ 38.875 34.625 31.78125 34.625 \nz\nM 21.921875 38.8125 \nQ 15.578125 40.375 12.03125 44.71875 \nQ 8.5 49.078125 8.5 55.328125 \nQ 8.5 64.0625 14.71875 69.140625 \nQ 20.953125 74.21875 31.78125 74.21875 \nQ 42.671875 74.21875 48.875 69.140625 \nQ 55.078125 64.0625 55.078125 55.328125 \nQ 55.078125 49.078125 51.53125 44.71875 \nQ 48 40.375 41.703125 38.8125 \nQ 48.828125 37.15625 52.796875 32.3125 \nQ 56.78125 27.484375 56.78125 20.515625 \nQ 56.78125 9.90625 50.3125 4.234375 \nQ 43.84375 -1.421875 31.78125 -1.421875 \nQ 19.734375 -1.421875 13.25 4.234375 \nQ 6.78125 9.90625 6.78125 20.515625 \nQ 6.78125 27.484375 10.78125 32.3125 \nQ 14.796875 37.15625 21.921875 38.8125 \nz\nM 18.3125 54.390625 \nQ 18.3125 48.734375 21.84375 45.5625 \nQ 25.390625 42.390625 31.78125 42.390625 \nQ 38.140625 42.390625 41.71875 45.5625 \nQ 45.3125 48.734375 45.3125 54.390625 \nQ 45.3125 60.0625 41.71875 63.234375 \nQ 38.140625 66.40625 31.78125 66.40625 \nQ 25.390625 66.40625 21.84375 63.234375 \nQ 18.3125 60.0625 18.3125 54.390625 \nz\n\" id=\"DejaVuSans-56\"/>\n      </defs>\n      <g transform=\"translate(89.889773 239.238438)scale(0.1 -0.1)\">\n       <use xlink:href=\"#DejaVuSans-49\"/>\n       <use x=\"63.623047\" xlink:href=\"#DejaVuSans-57\"/>\n       <use x=\"127.246094\" xlink:href=\"#DejaVuSans-56\"/>\n       <use x=\"190.869141\" xlink:href=\"#DejaVuSans-48\"/>\n      </g>\n     </g>\n    </g>\n    <g id=\"xtick_3\">\n     <g id=\"line2d_3\">\n      <g>\n       <use style=\"stroke:#000000;stroke-width:0.8;\" x=\"170.251136\" xlink:href=\"#m21e3fe4350\" y=\"224.64\"/>\n      </g>\n     </g>\n     <g id=\"text_3\">\n      <!-- 1990 -->\n      <g transform=\"translate(157.526136 239.238438)scale(0.1 -0.1)\">\n       <use xlink:href=\"#DejaVuSans-49\"/>\n       <use x=\"63.623047\" xlink:href=\"#DejaVuSans-57\"/>\n       <use x=\"127.246094\" xlink:href=\"#DejaVuSans-57\"/>\n       <use x=\"190.869141\" xlink:href=\"#DejaVuSans-48\"/>\n      </g>\n     </g>\n    </g>\n    <g id=\"xtick_4\">\n     <g id=\"line2d_4\">\n      <g>\n       <use style=\"stroke:#000000;stroke-width:0.8;\" x=\"237.8875\" xlink:href=\"#m21e3fe4350\" y=\"224.64\"/>\n      </g>\n     </g>\n     <g id=\"text_4\">\n      <!-- 2000 -->\n      <defs>\n       <path d=\"M 19.1875 8.296875 \nL 53.609375 8.296875 \nL 53.609375 0 \nL 7.328125 0 \nL 7.328125 8.296875 \nQ 12.9375 14.109375 22.625 23.890625 \nQ 32.328125 33.6875 34.8125 36.53125 \nQ 39.546875 41.84375 41.421875 45.53125 \nQ 43.3125 49.21875 43.3125 52.78125 \nQ 43.3125 58.59375 39.234375 62.25 \nQ 35.15625 65.921875 28.609375 65.921875 \nQ 23.96875 65.921875 18.8125 64.3125 \nQ 13.671875 62.703125 7.8125 59.421875 \nL 7.8125 69.390625 \nQ 13.765625 71.78125 18.9375 73 \nQ 24.125 74.21875 28.421875 74.21875 \nQ 39.75 74.21875 46.484375 68.546875 \nQ 53.21875 62.890625 53.21875 53.421875 \nQ 53.21875 48.921875 51.53125 44.890625 \nQ 49.859375 40.875 45.40625 35.40625 \nQ 44.1875 33.984375 37.640625 27.21875 \nQ 31.109375 20.453125 19.1875 8.296875 \nz\n\" id=\"DejaVuSans-50\"/>\n      </defs>\n      <g transform=\"translate(225.1625 239.238438)scale(0.1 -0.1)\">\n       <use xlink:href=\"#DejaVuSans-50\"/>\n       <use x=\"63.623047\" xlink:href=\"#DejaVuSans-48\"/>\n       <use x=\"127.246094\" xlink:href=\"#DejaVuSans-48\"/>\n       <use x=\"190.869141\" xlink:href=\"#DejaVuSans-48\"/>\n      </g>\n     </g>\n    </g>\n    <g id=\"xtick_5\">\n     <g id=\"line2d_5\">\n      <g>\n       <use style=\"stroke:#000000;stroke-width:0.8;\" x=\"305.523864\" xlink:href=\"#m21e3fe4350\" y=\"224.64\"/>\n      </g>\n     </g>\n     <g id=\"text_5\">\n      <!-- 2010 -->\n      <g transform=\"translate(292.798864 239.238438)scale(0.1 -0.1)\">\n       <use xlink:href=\"#DejaVuSans-50\"/>\n       <use x=\"63.623047\" xlink:href=\"#DejaVuSans-48\"/>\n       <use x=\"127.246094\" xlink:href=\"#DejaVuSans-49\"/>\n       <use x=\"190.869141\" xlink:href=\"#DejaVuSans-48\"/>\n      </g>\n     </g>\n    </g>\n   </g>\n   <g id=\"matplotlib.axis_2\">\n    <g id=\"ytick_1\">\n     <g id=\"line2d_6\">\n      <defs>\n       <path d=\"M 0 0 \nL -3.5 0 \n\" id=\"mfbd7a60cc6\" style=\"stroke:#000000;stroke-width:0.8;\"/>\n      </defs>\n      <g>\n       <use style=\"stroke:#000000;stroke-width:0.8;\" x=\"33.2875\" xlink:href=\"#mfbd7a60cc6\" y=\"215.491206\"/>\n      </g>\n     </g>\n     <g id=\"text_6\">\n      <!-- 0 -->\n      <g transform=\"translate(19.925 219.290425)scale(0.1 -0.1)\">\n       <use xlink:href=\"#DejaVuSans-48\"/>\n      </g>\n     </g>\n    </g>\n    <g id=\"ytick_2\">\n     <g id=\"line2d_7\">\n      <g>\n       <use style=\"stroke:#000000;stroke-width:0.8;\" x=\"33.2875\" xlink:href=\"#mfbd7a60cc6\" y=\"178.749064\"/>\n      </g>\n     </g>\n     <g id=\"text_7\">\n      <!-- 50 -->\n      <defs>\n       <path d=\"M 10.796875 72.90625 \nL 49.515625 72.90625 \nL 49.515625 64.59375 \nL 19.828125 64.59375 \nL 19.828125 46.734375 \nQ 21.96875 47.46875 24.109375 47.828125 \nQ 26.265625 48.1875 28.421875 48.1875 \nQ 40.625 48.1875 47.75 41.5 \nQ 54.890625 34.8125 54.890625 23.390625 \nQ 54.890625 11.625 47.5625 5.09375 \nQ 40.234375 -1.421875 26.90625 -1.421875 \nQ 22.3125 -1.421875 17.546875 -0.640625 \nQ 12.796875 0.140625 7.71875 1.703125 \nL 7.71875 11.625 \nQ 12.109375 9.234375 16.796875 8.0625 \nQ 21.484375 6.890625 26.703125 6.890625 \nQ 35.15625 6.890625 40.078125 11.328125 \nQ 45.015625 15.765625 45.015625 23.390625 \nQ 45.015625 31 40.078125 35.4375 \nQ 35.15625 39.890625 26.703125 39.890625 \nQ 22.75 39.890625 18.8125 39.015625 \nQ 14.890625 38.140625 10.796875 36.28125 \nz\n\" id=\"DejaVuSans-53\"/>\n      </defs>\n      <g transform=\"translate(13.5625 182.548283)scale(0.1 -0.1)\">\n       <use xlink:href=\"#DejaVuSans-53\"/>\n       <use x=\"63.623047\" xlink:href=\"#DejaVuSans-48\"/>\n      </g>\n     </g>\n    </g>\n    <g id=\"ytick_3\">\n     <g id=\"line2d_8\">\n      <g>\n       <use style=\"stroke:#000000;stroke-width:0.8;\" x=\"33.2875\" xlink:href=\"#mfbd7a60cc6\" y=\"142.006921\"/>\n      </g>\n     </g>\n     <g id=\"text_8\">\n      <!-- 100 -->\n      <g transform=\"translate(7.2 145.80614)scale(0.1 -0.1)\">\n       <use xlink:href=\"#DejaVuSans-49\"/>\n       <use x=\"63.623047\" xlink:href=\"#DejaVuSans-48\"/>\n       <use x=\"127.246094\" xlink:href=\"#DejaVuSans-48\"/>\n      </g>\n     </g>\n    </g>\n    <g id=\"ytick_4\">\n     <g id=\"line2d_9\">\n      <g>\n       <use style=\"stroke:#000000;stroke-width:0.8;\" x=\"33.2875\" xlink:href=\"#mfbd7a60cc6\" y=\"105.264779\"/>\n      </g>\n     </g>\n     <g id=\"text_9\">\n      <!-- 150 -->\n      <g transform=\"translate(7.2 109.063997)scale(0.1 -0.1)\">\n       <use xlink:href=\"#DejaVuSans-49\"/>\n       <use x=\"63.623047\" xlink:href=\"#DejaVuSans-53\"/>\n       <use x=\"127.246094\" xlink:href=\"#DejaVuSans-48\"/>\n      </g>\n     </g>\n    </g>\n    <g id=\"ytick_5\">\n     <g id=\"line2d_10\">\n      <g>\n       <use style=\"stroke:#000000;stroke-width:0.8;\" x=\"33.2875\" xlink:href=\"#mfbd7a60cc6\" y=\"68.522636\"/>\n      </g>\n     </g>\n     <g id=\"text_10\">\n      <!-- 200 -->\n      <g transform=\"translate(7.2 72.321855)scale(0.1 -0.1)\">\n       <use xlink:href=\"#DejaVuSans-50\"/>\n       <use x=\"63.623047\" xlink:href=\"#DejaVuSans-48\"/>\n       <use x=\"127.246094\" xlink:href=\"#DejaVuSans-48\"/>\n      </g>\n     </g>\n    </g>\n    <g id=\"ytick_6\">\n     <g id=\"line2d_11\">\n      <g>\n       <use style=\"stroke:#000000;stroke-width:0.8;\" x=\"33.2875\" xlink:href=\"#mfbd7a60cc6\" y=\"31.780493\"/>\n      </g>\n     </g>\n     <g id=\"text_11\">\n      <!-- 250 -->\n      <g transform=\"translate(7.2 35.579712)scale(0.1 -0.1)\">\n       <use xlink:href=\"#DejaVuSans-50\"/>\n       <use x=\"63.623047\" xlink:href=\"#DejaVuSans-53\"/>\n       <use x=\"127.246094\" xlink:href=\"#DejaVuSans-48\"/>\n      </g>\n     </g>\n    </g>\n   </g>\n   <g id=\"line2d_12\">\n    <path clip-path=\"url(#p7fc4583e54)\" d=\"M 325.814773 17.083636 \nL 312.2875 17.083636 \nL 305.523864 19.288165 \nL 319.051136 19.288165 \nL 346.105682 34.719865 \nL 339.342045 39.863765 \nL 332.578409 41.33345 \nL 298.760227 45.007665 \nL 285.232955 131.719121 \nL 352.869318 143.476607 \nL 291.996591 153.764407 \nL 271.705682 166.991578 \nL 278.469318 178.749064 \nL 258.178409 191.241392 \nL 264.942045 191.241392 \nL 251.414773 195.650449 \nL 224.360227 211.082149 \nL 244.651136 211.816992 \nL 122.905682 214.756364 \nL 177.014773 214.756364 \nL 197.305682 214.756364 \nL 170.251136 214.756364 \nL 129.669318 214.756364 \nL 48.505682 214.756364 \n\" style=\"fill:none;stroke:#1f77b4;stroke-linecap:square;stroke-width:1.5;\"/>\n   </g>\n   <g id=\"patch_3\">\n    <path d=\"M 33.2875 224.64 \nL 33.2875 7.2 \n\" style=\"fill:none;stroke:#000000;stroke-linecap:square;stroke-linejoin:miter;stroke-width:0.8;\"/>\n   </g>\n   <g id=\"patch_4\">\n    <path d=\"M 368.0875 224.64 \nL 368.0875 7.2 \n\" style=\"fill:none;stroke:#000000;stroke-linecap:square;stroke-linejoin:miter;stroke-width:0.8;\"/>\n   </g>\n   <g id=\"patch_5\">\n    <path d=\"M 33.2875 224.64 \nL 368.0875 224.64 \n\" style=\"fill:none;stroke:#000000;stroke-linecap:square;stroke-linejoin:miter;stroke-width:0.8;\"/>\n   </g>\n   <g id=\"patch_6\">\n    <path d=\"M 33.2875 7.2 \nL 368.0875 7.2 \n\" style=\"fill:none;stroke:#000000;stroke-linecap:square;stroke-linejoin:miter;stroke-width:0.8;\"/>\n   </g>\n  </g>\n </g>\n <defs>\n  <clipPath id=\"p7fc4583e54\">\n   <rect height=\"217.44\" width=\"334.8\" x=\"33.2875\" y=\"7.2\"/>\n  </clipPath>\n </defs>\n</svg>\n",
      "image/png": "[encoded data removed]"
     },
     "metadata": {
      "needs_background": "light"
     }
    }
   ],
   "source": [
    "ted.film_datetime.dt.year.value_counts().plot() # sorting issue"
   ]
  },
  {
   "cell_type": "code",
   "execution_count": 42,
   "metadata": {},
   "outputs": [
    {
     "output_type": "execute_result",
     "data": {
      "text/plain": [
       "<matplotlib.axes._subplots.AxesSubplot at 0x7fba0a4f13d0>"
      ]
     },
     "metadata": {},
     "execution_count": 42
    },
    {
     "output_type": "display_data",
     "data": {
      "text/plain": "<Figure size 432x288 with 1 Axes>",
      "image/svg+xml": "<?xml version=\"1.0\" encoding=\"utf-8\" standalone=\"no\"?>\n<!DOCTYPE svg PUBLIC \"-//W3C//DTD SVG 1.1//EN\"\n  \"http://www.w3.org/Graphics/SVG/1.1/DTD/svg11.dtd\">\n<!-- Created with matplotlib (https://matplotlib.org/) -->\n<svg height=\"248.518125pt\" version=\"1.1\" viewBox=\"0 0 375.2875 248.518125\" width=\"375.2875pt\" xmlns=\"http://www.w3.org/2000/svg\" xmlns:xlink=\"http://www.w3.org/1999/xlink\">\n <defs>\n  <style type=\"text/css\">\n*{stroke-linecap:butt;stroke-linejoin:round;}\n  </style>\n </defs>\n <g id=\"figure_1\">\n  <g id=\"patch_1\">\n   <path d=\"M 0 248.518125 \nL 375.2875 248.518125 \nL 375.2875 0 \nL 0 0 \nz\n\" style=\"fill:none;\"/>\n  </g>\n  <g id=\"axes_1\">\n   <g id=\"patch_2\">\n    <path d=\"M 33.2875 224.64 \nL 368.0875 224.64 \nL 368.0875 7.2 \nL 33.2875 7.2 \nz\n\" style=\"fill:#ffffff;\"/>\n   </g>\n   <g id=\"matplotlib.axis_1\">\n    <g id=\"xtick_1\">\n     <g id=\"line2d_1\">\n      <defs>\n       <path d=\"M 0 0 \nL 0 3.5 \n\" id=\"m0aa028a752\" style=\"stroke:#000000;stroke-width:0.8;\"/>\n      </defs>\n      <g>\n       <use style=\"stroke:#000000;stroke-width:0.8;\" x=\"34.978409\" xlink:href=\"#m0aa028a752\" y=\"224.64\"/>\n      </g>\n     </g>\n     <g id=\"text_1\">\n      <!-- 1970 -->\n      <defs>\n       <path d=\"M 12.40625 8.296875 \nL 28.515625 8.296875 \nL 28.515625 63.921875 \nL 10.984375 60.40625 \nL 10.984375 69.390625 \nL 28.421875 72.90625 \nL 38.28125 72.90625 \nL 38.28125 8.296875 \nL 54.390625 8.296875 \nL 54.390625 0 \nL 12.40625 0 \nz\n\" id=\"DejaVuSans-49\"/>\n       <path d=\"M 10.984375 1.515625 \nL 10.984375 10.5 \nQ 14.703125 8.734375 18.5 7.8125 \nQ 22.3125 6.890625 25.984375 6.890625 \nQ 35.75 6.890625 40.890625 13.453125 \nQ 46.046875 20.015625 46.78125 33.40625 \nQ 43.953125 29.203125 39.59375 26.953125 \nQ 35.25 24.703125 29.984375 24.703125 \nQ 19.046875 24.703125 12.671875 31.3125 \nQ 6.296875 37.9375 6.296875 49.421875 \nQ 6.296875 60.640625 12.9375 67.421875 \nQ 19.578125 74.21875 30.609375 74.21875 \nQ 43.265625 74.21875 49.921875 64.515625 \nQ 56.59375 54.828125 56.59375 36.375 \nQ 56.59375 19.140625 48.40625 8.859375 \nQ 40.234375 -1.421875 26.421875 -1.421875 \nQ 22.703125 -1.421875 18.890625 -0.6875 \nQ 15.09375 0.046875 10.984375 1.515625 \nz\nM 30.609375 32.421875 \nQ 37.25 32.421875 41.125 36.953125 \nQ 45.015625 41.5 45.015625 49.421875 \nQ 45.015625 57.28125 41.125 61.84375 \nQ 37.25 66.40625 30.609375 66.40625 \nQ 23.96875 66.40625 20.09375 61.84375 \nQ 16.21875 57.28125 16.21875 49.421875 \nQ 16.21875 41.5 20.09375 36.953125 \nQ 23.96875 32.421875 30.609375 32.421875 \nz\n\" id=\"DejaVuSans-57\"/>\n       <path d=\"M 8.203125 72.90625 \nL 55.078125 72.90625 \nL 55.078125 68.703125 \nL 28.609375 0 \nL 18.3125 0 \nL 43.21875 64.59375 \nL 8.203125 64.59375 \nz\n\" id=\"DejaVuSans-55\"/>\n       <path d=\"M 31.78125 66.40625 \nQ 24.171875 66.40625 20.328125 58.90625 \nQ 16.5 51.421875 16.5 36.375 \nQ 16.5 21.390625 20.328125 13.890625 \nQ 24.171875 6.390625 31.78125 6.390625 \nQ 39.453125 6.390625 43.28125 13.890625 \nQ 47.125 21.390625 47.125 36.375 \nQ 47.125 51.421875 43.28125 58.90625 \nQ 39.453125 66.40625 31.78125 66.40625 \nz\nM 31.78125 74.21875 \nQ 44.046875 74.21875 50.515625 64.515625 \nQ 56.984375 54.828125 56.984375 36.375 \nQ 56.984375 17.96875 50.515625 8.265625 \nQ 44.046875 -1.421875 31.78125 -1.421875 \nQ 19.53125 -1.421875 13.0625 8.265625 \nQ 6.59375 17.96875 6.59375 36.375 \nQ 6.59375 54.828125 13.0625 64.515625 \nQ 19.53125 74.21875 31.78125 74.21875 \nz\n\" id=\"DejaVuSans-48\"/>\n      </defs>\n      <g transform=\"translate(22.253409 239.238438)scale(0.1 -0.1)\">\n       <use xlink:href=\"#DejaVuSans-49\"/>\n       <use x=\"63.623047\" xlink:href=\"#DejaVuSans-57\"/>\n       <use x=\"127.246094\" xlink:href=\"#DejaVuSans-55\"/>\n       <use x=\"190.869141\" xlink:href=\"#DejaVuSans-48\"/>\n      </g>\n     </g>\n    </g>\n    <g id=\"xtick_2\">\n     <g id=\"line2d_2\">\n      <g>\n       <use style=\"stroke:#000000;stroke-width:0.8;\" x=\"102.614773\" xlink:href=\"#m0aa028a752\" y=\"224.64\"/>\n      </g>\n     </g>\n     <g id=\"text_2\">\n      <!-- 1980 -->\n      <defs>\n       <path d=\"M 31.78125 34.625 \nQ 24.75 34.625 20.71875 30.859375 \nQ 16.703125 27.09375 16.703125 20.515625 \nQ 16.703125 13.921875 20.71875 10.15625 \nQ 24.75 6.390625 31.78125 6.390625 \nQ 38.8125 6.390625 42.859375 10.171875 \nQ 46.921875 13.96875 46.921875 20.515625 \nQ 46.921875 27.09375 42.890625 30.859375 \nQ 38.875 34.625 31.78125 34.625 \nz\nM 21.921875 38.8125 \nQ 15.578125 40.375 12.03125 44.71875 \nQ 8.5 49.078125 8.5 55.328125 \nQ 8.5 64.0625 14.71875 69.140625 \nQ 20.953125 74.21875 31.78125 74.21875 \nQ 42.671875 74.21875 48.875 69.140625 \nQ 55.078125 64.0625 55.078125 55.328125 \nQ 55.078125 49.078125 51.53125 44.71875 \nQ 48 40.375 41.703125 38.8125 \nQ 48.828125 37.15625 52.796875 32.3125 \nQ 56.78125 27.484375 56.78125 20.515625 \nQ 56.78125 9.90625 50.3125 4.234375 \nQ 43.84375 -1.421875 31.78125 -1.421875 \nQ 19.734375 -1.421875 13.25 4.234375 \nQ 6.78125 9.90625 6.78125 20.515625 \nQ 6.78125 27.484375 10.78125 32.3125 \nQ 14.796875 37.15625 21.921875 38.8125 \nz\nM 18.3125 54.390625 \nQ 18.3125 48.734375 21.84375 45.5625 \nQ 25.390625 42.390625 31.78125 42.390625 \nQ 38.140625 42.390625 41.71875 45.5625 \nQ 45.3125 48.734375 45.3125 54.390625 \nQ 45.3125 60.0625 41.71875 63.234375 \nQ 38.140625 66.40625 31.78125 66.40625 \nQ 25.390625 66.40625 21.84375 63.234375 \nQ 18.3125 60.0625 18.3125 54.390625 \nz\n\" id=\"DejaVuSans-56\"/>\n      </defs>\n      <g transform=\"translate(89.889773 239.238438)scale(0.1 -0.1)\">\n       <use xlink:href=\"#DejaVuSans-49\"/>\n       <use x=\"63.623047\" xlink:href=\"#DejaVuSans-57\"/>\n       <use x=\"127.246094\" xlink:href=\"#DejaVuSans-56\"/>\n       <use x=\"190.869141\" xlink:href=\"#DejaVuSans-48\"/>\n      </g>\n     </g>\n    </g>\n    <g id=\"xtick_3\">\n     <g id=\"line2d_3\">\n      <g>\n       <use style=\"stroke:#000000;stroke-width:0.8;\" x=\"170.251136\" xlink:href=\"#m0aa028a752\" y=\"224.64\"/>\n      </g>\n     </g>\n     <g id=\"text_3\">\n      <!-- 1990 -->\n      <g transform=\"translate(157.526136 239.238438)scale(0.1 -0.1)\">\n       <use xlink:href=\"#DejaVuSans-49\"/>\n       <use x=\"63.623047\" xlink:href=\"#DejaVuSans-57\"/>\n       <use x=\"127.246094\" xlink:href=\"#DejaVuSans-57\"/>\n       <use x=\"190.869141\" xlink:href=\"#DejaVuSans-48\"/>\n      </g>\n     </g>\n    </g>\n    <g id=\"xtick_4\">\n     <g id=\"line2d_4\">\n      <g>\n       <use style=\"stroke:#000000;stroke-width:0.8;\" x=\"237.8875\" xlink:href=\"#m0aa028a752\" y=\"224.64\"/>\n      </g>\n     </g>\n     <g id=\"text_4\">\n      <!-- 2000 -->\n      <defs>\n       <path d=\"M 19.1875 8.296875 \nL 53.609375 8.296875 \nL 53.609375 0 \nL 7.328125 0 \nL 7.328125 8.296875 \nQ 12.9375 14.109375 22.625 23.890625 \nQ 32.328125 33.6875 34.8125 36.53125 \nQ 39.546875 41.84375 41.421875 45.53125 \nQ 43.3125 49.21875 43.3125 52.78125 \nQ 43.3125 58.59375 39.234375 62.25 \nQ 35.15625 65.921875 28.609375 65.921875 \nQ 23.96875 65.921875 18.8125 64.3125 \nQ 13.671875 62.703125 7.8125 59.421875 \nL 7.8125 69.390625 \nQ 13.765625 71.78125 18.9375 73 \nQ 24.125 74.21875 28.421875 74.21875 \nQ 39.75 74.21875 46.484375 68.546875 \nQ 53.21875 62.890625 53.21875 53.421875 \nQ 53.21875 48.921875 51.53125 44.890625 \nQ 49.859375 40.875 45.40625 35.40625 \nQ 44.1875 33.984375 37.640625 27.21875 \nQ 31.109375 20.453125 19.1875 8.296875 \nz\n\" id=\"DejaVuSans-50\"/>\n      </defs>\n      <g transform=\"translate(225.1625 239.238438)scale(0.1 -0.1)\">\n       <use xlink:href=\"#DejaVuSans-50\"/>\n       <use x=\"63.623047\" xlink:href=\"#DejaVuSans-48\"/>\n       <use x=\"127.246094\" xlink:href=\"#DejaVuSans-48\"/>\n       <use x=\"190.869141\" xlink:href=\"#DejaVuSans-48\"/>\n      </g>\n     </g>\n    </g>\n    <g id=\"xtick_5\">\n     <g id=\"line2d_5\">\n      <g>\n       <use style=\"stroke:#000000;stroke-width:0.8;\" x=\"305.523864\" xlink:href=\"#m0aa028a752\" y=\"224.64\"/>\n      </g>\n     </g>\n     <g id=\"text_5\">\n      <!-- 2010 -->\n      <g transform=\"translate(292.798864 239.238438)scale(0.1 -0.1)\">\n       <use xlink:href=\"#DejaVuSans-50\"/>\n       <use x=\"63.623047\" xlink:href=\"#DejaVuSans-48\"/>\n       <use x=\"127.246094\" xlink:href=\"#DejaVuSans-49\"/>\n       <use x=\"190.869141\" xlink:href=\"#DejaVuSans-48\"/>\n      </g>\n     </g>\n    </g>\n   </g>\n   <g id=\"matplotlib.axis_2\">\n    <g id=\"ytick_1\">\n     <g id=\"line2d_6\">\n      <defs>\n       <path d=\"M 0 0 \nL -3.5 0 \n\" id=\"m496fa6d178\" style=\"stroke:#000000;stroke-width:0.8;\"/>\n      </defs>\n      <g>\n       <use style=\"stroke:#000000;stroke-width:0.8;\" x=\"33.2875\" xlink:href=\"#m496fa6d178\" y=\"215.491206\"/>\n      </g>\n     </g>\n     <g id=\"text_6\">\n      <!-- 0 -->\n      <g transform=\"translate(19.925 219.290425)scale(0.1 -0.1)\">\n       <use xlink:href=\"#DejaVuSans-48\"/>\n      </g>\n     </g>\n    </g>\n    <g id=\"ytick_2\">\n     <g id=\"line2d_7\">\n      <g>\n       <use style=\"stroke:#000000;stroke-width:0.8;\" x=\"33.2875\" xlink:href=\"#m496fa6d178\" y=\"178.749064\"/>\n      </g>\n     </g>\n     <g id=\"text_7\">\n      <!-- 50 -->\n      <defs>\n       <path d=\"M 10.796875 72.90625 \nL 49.515625 72.90625 \nL 49.515625 64.59375 \nL 19.828125 64.59375 \nL 19.828125 46.734375 \nQ 21.96875 47.46875 24.109375 47.828125 \nQ 26.265625 48.1875 28.421875 48.1875 \nQ 40.625 48.1875 47.75 41.5 \nQ 54.890625 34.8125 54.890625 23.390625 \nQ 54.890625 11.625 47.5625 5.09375 \nQ 40.234375 -1.421875 26.90625 -1.421875 \nQ 22.3125 -1.421875 17.546875 -0.640625 \nQ 12.796875 0.140625 7.71875 1.703125 \nL 7.71875 11.625 \nQ 12.109375 9.234375 16.796875 8.0625 \nQ 21.484375 6.890625 26.703125 6.890625 \nQ 35.15625 6.890625 40.078125 11.328125 \nQ 45.015625 15.765625 45.015625 23.390625 \nQ 45.015625 31 40.078125 35.4375 \nQ 35.15625 39.890625 26.703125 39.890625 \nQ 22.75 39.890625 18.8125 39.015625 \nQ 14.890625 38.140625 10.796875 36.28125 \nz\n\" id=\"DejaVuSans-53\"/>\n      </defs>\n      <g transform=\"translate(13.5625 182.548283)scale(0.1 -0.1)\">\n       <use xlink:href=\"#DejaVuSans-53\"/>\n       <use x=\"63.623047\" xlink:href=\"#DejaVuSans-48\"/>\n      </g>\n     </g>\n    </g>\n    <g id=\"ytick_3\">\n     <g id=\"line2d_8\">\n      <g>\n       <use style=\"stroke:#000000;stroke-width:0.8;\" x=\"33.2875\" xlink:href=\"#m496fa6d178\" y=\"142.006921\"/>\n      </g>\n     </g>\n     <g id=\"text_8\">\n      <!-- 100 -->\n      <g transform=\"translate(7.2 145.80614)scale(0.1 -0.1)\">\n       <use xlink:href=\"#DejaVuSans-49\"/>\n       <use x=\"63.623047\" xlink:href=\"#DejaVuSans-48\"/>\n       <use x=\"127.246094\" xlink:href=\"#DejaVuSans-48\"/>\n      </g>\n     </g>\n    </g>\n    <g id=\"ytick_4\">\n     <g id=\"line2d_9\">\n      <g>\n       <use style=\"stroke:#000000;stroke-width:0.8;\" x=\"33.2875\" xlink:href=\"#m496fa6d178\" y=\"105.264779\"/>\n      </g>\n     </g>\n     <g id=\"text_9\">\n      <!-- 150 -->\n      <g transform=\"translate(7.2 109.063997)scale(0.1 -0.1)\">\n       <use xlink:href=\"#DejaVuSans-49\"/>\n       <use x=\"63.623047\" xlink:href=\"#DejaVuSans-53\"/>\n       <use x=\"127.246094\" xlink:href=\"#DejaVuSans-48\"/>\n      </g>\n     </g>\n    </g>\n    <g id=\"ytick_5\">\n     <g id=\"line2d_10\">\n      <g>\n       <use style=\"stroke:#000000;stroke-width:0.8;\" x=\"33.2875\" xlink:href=\"#m496fa6d178\" y=\"68.522636\"/>\n      </g>\n     </g>\n     <g id=\"text_10\">\n      <!-- 200 -->\n      <g transform=\"translate(7.2 72.321855)scale(0.1 -0.1)\">\n       <use xlink:href=\"#DejaVuSans-50\"/>\n       <use x=\"63.623047\" xlink:href=\"#DejaVuSans-48\"/>\n       <use x=\"127.246094\" xlink:href=\"#DejaVuSans-48\"/>\n      </g>\n     </g>\n    </g>\n    <g id=\"ytick_6\">\n     <g id=\"line2d_11\">\n      <g>\n       <use style=\"stroke:#000000;stroke-width:0.8;\" x=\"33.2875\" xlink:href=\"#m496fa6d178\" y=\"31.780493\"/>\n      </g>\n     </g>\n     <g id=\"text_11\">\n      <!-- 250 -->\n      <g transform=\"translate(7.2 35.579712)scale(0.1 -0.1)\">\n       <use xlink:href=\"#DejaVuSans-50\"/>\n       <use x=\"63.623047\" xlink:href=\"#DejaVuSans-53\"/>\n       <use x=\"127.246094\" xlink:href=\"#DejaVuSans-48\"/>\n      </g>\n     </g>\n    </g>\n   </g>\n   <g id=\"line2d_12\">\n    <path clip-path=\"url(#p18827a7625)\" d=\"M 48.505682 214.756364 \nL 122.905682 214.756364 \nL 129.669318 214.756364 \nL 170.251136 214.756364 \nL 177.014773 214.756364 \nL 197.305682 214.756364 \nL 224.360227 211.082149 \nL 244.651136 211.816992 \nL 251.414773 195.650449 \nL 258.178409 191.241392 \nL 264.942045 191.241392 \nL 271.705682 166.991578 \nL 278.469318 178.749064 \nL 285.232955 131.719121 \nL 291.996591 153.764407 \nL 298.760227 45.007665 \nL 305.523864 19.288165 \nL 312.2875 17.083636 \nL 319.051136 19.288165 \nL 325.814773 17.083636 \nL 332.578409 41.33345 \nL 339.342045 39.863765 \nL 346.105682 34.719865 \nL 352.869318 143.476607 \n\" style=\"fill:none;stroke:#1f77b4;stroke-linecap:square;stroke-width:1.5;\"/>\n   </g>\n   <g id=\"patch_3\">\n    <path d=\"M 33.2875 224.64 \nL 33.2875 7.2 \n\" style=\"fill:none;stroke:#000000;stroke-linecap:square;stroke-linejoin:miter;stroke-width:0.8;\"/>\n   </g>\n   <g id=\"patch_4\">\n    <path d=\"M 368.0875 224.64 \nL 368.0875 7.2 \n\" style=\"fill:none;stroke:#000000;stroke-linecap:square;stroke-linejoin:miter;stroke-width:0.8;\"/>\n   </g>\n   <g id=\"patch_5\">\n    <path d=\"M 33.2875 224.64 \nL 368.0875 224.64 \n\" style=\"fill:none;stroke:#000000;stroke-linecap:square;stroke-linejoin:miter;stroke-width:0.8;\"/>\n   </g>\n   <g id=\"patch_6\">\n    <path d=\"M 33.2875 7.2 \nL 368.0875 7.2 \n\" style=\"fill:none;stroke:#000000;stroke-linecap:square;stroke-linejoin:miter;stroke-width:0.8;\"/>\n   </g>\n  </g>\n </g>\n <defs>\n  <clipPath id=\"p18827a7625\">\n   <rect height=\"217.44\" width=\"334.8\" x=\"33.2875\" y=\"7.2\"/>\n  </clipPath>\n </defs>\n</svg>\n",
      "image/png": "[encoded data removed]"
     },
     "metadata": {
      "needs_background": "light"
     }
    }
   ],
   "source": [
    "ted.film_datetime.dt.year.value_counts().sort_index().plot()"
   ]
  },
  {
   "cell_type": "code",
   "execution_count": 44,
   "metadata": {},
   "outputs": [
    {
     "output_type": "execute_result",
     "data": {
      "text/plain": [
       "Timestamp('1972-05-14 00:00:00')"
      ]
     },
     "metadata": {},
     "execution_count": 44
    }
   ],
   "source": [
    "ted.film_datetime.min()"
   ]
  },
  {
   "cell_type": "markdown",
   "metadata": {},
   "source": [
    "## 5. What were the \"best\" events in TED history to attend?\n",
    "LESSONS:\n",
    "- use apply any time it is necessary (but it's slow, so try to use built in fns)\n",
    "- "
   ]
  },
  {
   "cell_type": "code",
   "execution_count": 48,
   "metadata": {},
   "outputs": [
    {
     "output_type": "execute_result",
     "data": {
      "text/plain": [
       "                   count        mean\n",
       "event                               \n",
       "TEDxNorrkoping         1   6569493.0\n",
       "TEDxCreativeCoast      1   8444981.0\n",
       "TEDxBloomington        2   9484259.5\n",
       "TEDxHouston            2  16140250.5\n",
       "TEDxPuget Sound        1  34309432.0"
      ],
      "text/html": "<div>\n<style scoped>\n    .dataframe tbody tr th:only-of-type {\n        vertical-align: middle;\n    }\n\n    .dataframe tbody tr th {\n        vertical-align: top;\n    }\n\n    .dataframe thead th {\n        text-align: right;\n    }\n</style>\n<table border=\"1\" class=\"dataframe\">\n  <thead>\n    <tr style=\"text-align: right;\">\n      <th></th>\n      <th>count</th>\n      <th>mean</th>\n    </tr>\n    <tr>\n      <th>event</th>\n      <th></th>\n      <th></th>\n    </tr>\n  </thead>\n  <tbody>\n    <tr>\n      <th>TEDxNorrkoping</th>\n      <td>1</td>\n      <td>6569493.0</td>\n    </tr>\n    <tr>\n      <th>TEDxCreativeCoast</th>\n      <td>1</td>\n      <td>8444981.0</td>\n    </tr>\n    <tr>\n      <th>TEDxBloomington</th>\n      <td>2</td>\n      <td>9484259.5</td>\n    </tr>\n    <tr>\n      <th>TEDxHouston</th>\n      <td>2</td>\n      <td>16140250.5</td>\n    </tr>\n    <tr>\n      <th>TEDxPuget Sound</th>\n      <td>1</td>\n      <td>34309432.0</td>\n    </tr>\n  </tbody>\n</table>\n</div>"
     },
     "metadata": {},
     "execution_count": 48
    }
   ],
   "source": [
    "ted.groupby('event').views.agg(['count','mean']).sort_values('mean').tail()"
   ]
  },
  {
   "cell_type": "code",
   "execution_count": 53,
   "metadata": {},
   "outputs": [
    {
     "output_type": "execute_result",
     "data": {
      "text/plain": [
       "                count          mean        sum\n",
       "event                                         \n",
       "TED2006            45  3.274345e+06  147345533\n",
       "TED2015            75  2.011017e+06  150826305\n",
       "TEDGlobal 2013     66  2.584163e+06  170554736\n",
       "TED2014            84  2.072874e+06  174121423\n",
       "TED2013            77  2.302700e+06  177307937"
      ],
      "text/html": "<div>\n<style scoped>\n    .dataframe tbody tr th:only-of-type {\n        vertical-align: middle;\n    }\n\n    .dataframe tbody tr th {\n        vertical-align: top;\n    }\n\n    .dataframe thead th {\n        text-align: right;\n    }\n</style>\n<table border=\"1\" class=\"dataframe\">\n  <thead>\n    <tr style=\"text-align: right;\">\n      <th></th>\n      <th>count</th>\n      <th>mean</th>\n      <th>sum</th>\n    </tr>\n    <tr>\n      <th>event</th>\n      <th></th>\n      <th></th>\n      <th></th>\n    </tr>\n  </thead>\n  <tbody>\n    <tr>\n      <th>TED2006</th>\n      <td>45</td>\n      <td>3.274345e+06</td>\n      <td>147345533</td>\n    </tr>\n    <tr>\n      <th>TED2015</th>\n      <td>75</td>\n      <td>2.011017e+06</td>\n      <td>150826305</td>\n    </tr>\n    <tr>\n      <th>TEDGlobal 2013</th>\n      <td>66</td>\n      <td>2.584163e+06</td>\n      <td>170554736</td>\n    </tr>\n    <tr>\n      <th>TED2014</th>\n      <td>84</td>\n      <td>2.072874e+06</td>\n      <td>174121423</td>\n    </tr>\n    <tr>\n      <th>TED2013</th>\n      <td>77</td>\n      <td>2.302700e+06</td>\n      <td>177307937</td>\n    </tr>\n  </tbody>\n</table>\n</div>"
     },
     "metadata": {},
     "execution_count": 53
    }
   ],
   "source": [
    "ted.groupby('event').views.agg(['count','mean','sum']).sort_values('sum').tail() # what events had most total views"
   ]
  },
  {
   "cell_type": "markdown",
   "metadata": {},
   "source": [
    "## 6. Unpack the ratings data\n",
    "LESSONS:\n",
    "- write your code in small chunks and build iteratively"
   ]
  },
  {
   "cell_type": "code",
   "execution_count": 54,
   "metadata": {},
   "outputs": [
    {
     "output_type": "execute_result",
     "data": {
      "text/plain": [
       "0    [{'id': 7, 'name': 'Funny', 'count': 19645}, {...\n",
       "1    [{'id': 7, 'name': 'Funny', 'count': 544}, {'i...\n",
       "2    [{'id': 7, 'name': 'Funny', 'count': 964}, {'i...\n",
       "3    [{'id': 3, 'name': 'Courageous', 'count': 760}...\n",
       "4    [{'id': 9, 'name': 'Ingenious', 'count': 3202}...\n",
       "Name: ratings, dtype: object"
      ]
     },
     "metadata": {},
     "execution_count": 54
    }
   ],
   "source": [
    "ted.ratings.head() # dictionary\n"
   ]
  },
  {
   "cell_type": "code",
   "execution_count": 55,
   "metadata": {},
   "outputs": [
    {
     "output_type": "execute_result",
     "data": {
      "text/plain": [
       "\"[{'id': 7, 'name': 'Funny', 'count': 19645}, {'id': 1, 'name': 'Beautiful', 'count': 4573}, {'id': 9, 'name': 'Ingenious', 'count': 6073}, {'id': 3, 'name': 'Courageous', 'count': 3253}, {'id': 11, 'name': 'Longwinded', 'count': 387}, {'id': 2, 'name': 'Confusing', 'count': 242}, {'id': 8, 'name': 'Informative', 'count': 7346}, {'id': 22, 'name': 'Fascinating', 'count': 10581}, {'id': 21, 'name': 'Unconvincing', 'count': 300}, {'id': 24, 'name': 'Persuasive', 'count': 10704}, {'id': 23, 'name': 'Jaw-dropping', 'count': 4439}, {'id': 25, 'name': 'OK', 'count': 1174}, {'id': 26, 'name': 'Obnoxious', 'count': 209}, {'id': 10, 'name': 'Inspiring', 'count': 24924}]\""
      ]
     },
     "metadata": {},
     "execution_count": 55
    }
   ],
   "source": [
    "ted.loc[0,'ratings']"
   ]
  },
  {
   "cell_type": "code",
   "execution_count": 58,
   "metadata": {},
   "outputs": [
    {
     "output_type": "execute_result",
     "data": {
      "text/plain": [
       "str"
      ]
     },
     "metadata": {},
     "execution_count": 58
    }
   ],
   "source": [
    "type(ted.ratings[0]) #stringified list of dictionaries"
   ]
  },
  {
   "cell_type": "code",
   "execution_count": 59,
   "metadata": {},
   "outputs": [],
   "source": [
    "import ast #abstract syntax tree"
   ]
  },
  {
   "cell_type": "code",
   "execution_count": 61,
   "metadata": {},
   "outputs": [
    {
     "output_type": "execute_result",
     "data": {
      "text/plain": [
       "[1, 2, 3]"
      ]
     },
     "metadata": {},
     "execution_count": 61
    }
   ],
   "source": [
    "ast.literal_eval('[1,2,3]')"
   ]
  },
  {
   "cell_type": "code",
   "execution_count": 62,
   "metadata": {},
   "outputs": [
    {
     "output_type": "execute_result",
     "data": {
      "text/plain": [
       "[{'id': 7, 'name': 'Funny', 'count': 19645},\n",
       " {'id': 1, 'name': 'Beautiful', 'count': 4573},\n",
       " {'id': 9, 'name': 'Ingenious', 'count': 6073},\n",
       " {'id': 3, 'name': 'Courageous', 'count': 3253},\n",
       " {'id': 11, 'name': 'Longwinded', 'count': 387},\n",
       " {'id': 2, 'name': 'Confusing', 'count': 242},\n",
       " {'id': 8, 'name': 'Informative', 'count': 7346},\n",
       " {'id': 22, 'name': 'Fascinating', 'count': 10581},\n",
       " {'id': 21, 'name': 'Unconvincing', 'count': 300},\n",
       " {'id': 24, 'name': 'Persuasive', 'count': 10704},\n",
       " {'id': 23, 'name': 'Jaw-dropping', 'count': 4439},\n",
       " {'id': 25, 'name': 'OK', 'count': 1174},\n",
       " {'id': 26, 'name': 'Obnoxious', 'count': 209},\n",
       " {'id': 10, 'name': 'Inspiring', 'count': 24924}]"
      ]
     },
     "metadata": {},
     "execution_count": 62
    }
   ],
   "source": [
    "ast.literal_eval(ted.ratings[0])"
   ]
  },
  {
   "cell_type": "code",
   "execution_count": 63,
   "metadata": {},
   "outputs": [],
   "source": [
    "def str_to_list(ratings_str):\n",
    "    return ast.literal_eval(ratings_str)"
   ]
  },
  {
   "cell_type": "code",
   "execution_count": 64,
   "metadata": {},
   "outputs": [
    {
     "output_type": "execute_result",
     "data": {
      "text/plain": [
       "[{'id': 7, 'name': 'Funny', 'count': 19645},\n",
       " {'id': 1, 'name': 'Beautiful', 'count': 4573},\n",
       " {'id': 9, 'name': 'Ingenious', 'count': 6073},\n",
       " {'id': 3, 'name': 'Courageous', 'count': 3253},\n",
       " {'id': 11, 'name': 'Longwinded', 'count': 387},\n",
       " {'id': 2, 'name': 'Confusing', 'count': 242},\n",
       " {'id': 8, 'name': 'Informative', 'count': 7346},\n",
       " {'id': 22, 'name': 'Fascinating', 'count': 10581},\n",
       " {'id': 21, 'name': 'Unconvincing', 'count': 300},\n",
       " {'id': 24, 'name': 'Persuasive', 'count': 10704},\n",
       " {'id': 23, 'name': 'Jaw-dropping', 'count': 4439},\n",
       " {'id': 25, 'name': 'OK', 'count': 1174},\n",
       " {'id': 26, 'name': 'Obnoxious', 'count': 209},\n",
       " {'id': 10, 'name': 'Inspiring', 'count': 24924}]"
      ]
     },
     "metadata": {},
     "execution_count": 64
    }
   ],
   "source": [
    "str_to_list(ted.ratings[0])"
   ]
  },
  {
   "cell_type": "code",
   "execution_count": 65,
   "metadata": {},
   "outputs": [
    {
     "output_type": "execute_result",
     "data": {
      "text/plain": [
       "0    [{'id': 7, 'name': 'Funny', 'count': 19645}, {...\n",
       "1    [{'id': 7, 'name': 'Funny', 'count': 544}, {'i...\n",
       "2    [{'id': 7, 'name': 'Funny', 'count': 964}, {'i...\n",
       "3    [{'id': 3, 'name': 'Courageous', 'count': 760}...\n",
       "4    [{'id': 9, 'name': 'Ingenious', 'count': 3202}...\n",
       "Name: ratings, dtype: object"
      ]
     },
     "metadata": {},
     "execution_count": 65
    }
   ],
   "source": [
    "ted.ratings.apply(str_to_list).head()"
   ]
  },
  {
   "cell_type": "code",
   "execution_count": 66,
   "metadata": {},
   "outputs": [
    {
     "output_type": "execute_result",
     "data": {
      "text/plain": [
       "0       [{'id': 7, 'name': 'Funny', 'count': 19645}, {...\n",
       "1       [{'id': 7, 'name': 'Funny', 'count': 544}, {'i...\n",
       "2       [{'id': 7, 'name': 'Funny', 'count': 964}, {'i...\n",
       "3       [{'id': 3, 'name': 'Courageous', 'count': 760}...\n",
       "4       [{'id': 9, 'name': 'Ingenious', 'count': 3202}...\n",
       "                              ...                        \n",
       "2545    [{'id': 3, 'name': 'Courageous', 'count': 24},...\n",
       "2546    [{'id': 22, 'name': 'Fascinating', 'count': 32...\n",
       "2547    [{'id': 1, 'name': 'Beautiful', 'count': 14}, ...\n",
       "2548    [{'id': 11, 'name': 'Longwinded', 'count': 3},...\n",
       "2549    [{'id': 21, 'name': 'Unconvincing', 'count': 2...\n",
       "Name: ratings, Length: 2550, dtype: object"
      ]
     },
     "metadata": {},
     "execution_count": 66
    }
   ],
   "source": [
    "ted.ratings.apply(lambda x: ast.literal_eval(x))"
   ]
  },
  {
   "cell_type": "code",
   "execution_count": 67,
   "metadata": {},
   "outputs": [],
   "source": [
    "ted['ratings_list'] = ted.ratings.apply(lambda x: ast.literal_eval(x))"
   ]
  },
  {
   "cell_type": "code",
   "execution_count": 68,
   "metadata": {},
   "outputs": [
    {
     "output_type": "execute_result",
     "data": {
      "text/plain": [
       "   comments                                        description  duration  \\\n",
       "0      4553  Sir Ken Robinson makes an entertaining and pro...      1164   \n",
       "1       265  With the same humor and humanity he exuded in ...       977   \n",
       "2       124  New York Times columnist David Pogue takes aim...      1286   \n",
       "3       200  In an emotionally charged talk, MacArthur-winn...      1116   \n",
       "4       593  You've never seen data presented like this. Wi...      1190   \n",
       "\n",
       "     event   film_date  languages   main_speaker  \\\n",
       "0  TED2006  1140825600         60   Ken Robinson   \n",
       "1  TED2006  1140825600         43        Al Gore   \n",
       "2  TED2006  1140739200         26    David Pogue   \n",
       "3  TED2006  1140912000         35  Majora Carter   \n",
       "4  TED2006  1140566400         48   Hans Rosling   \n",
       "\n",
       "                                            name  num_speaker  published_date  \\\n",
       "0      Ken Robinson: Do schools kill creativity?            1      1151367060   \n",
       "1           Al Gore: Averting the climate crisis            1      1151367060   \n",
       "2                  David Pogue: Simplicity sells            1      1151367060   \n",
       "3             Majora Carter: Greening the ghetto            1      1151367060   \n",
       "4  Hans Rosling: The best stats you've ever seen            1      1151440680   \n",
       "\n",
       "                                             ratings  \\\n",
       "0  [{'id': 7, 'name': 'Funny', 'count': 19645}, {...   \n",
       "1  [{'id': 7, 'name': 'Funny', 'count': 544}, {'i...   \n",
       "2  [{'id': 7, 'name': 'Funny', 'count': 964}, {'i...   \n",
       "3  [{'id': 3, 'name': 'Courageous', 'count': 760}...   \n",
       "4  [{'id': 9, 'name': 'Ingenious', 'count': 3202}...   \n",
       "\n",
       "                                       related_talks  \\\n",
       "0  [{'id': 865, 'hero': 'https://pe.tedcdn.com/im...   \n",
       "1  [{'id': 243, 'hero': 'https://pe.tedcdn.com/im...   \n",
       "2  [{'id': 1725, 'hero': 'https://pe.tedcdn.com/i...   \n",
       "3  [{'id': 1041, 'hero': 'https://pe.tedcdn.com/i...   \n",
       "4  [{'id': 2056, 'hero': 'https://pe.tedcdn.com/i...   \n",
       "\n",
       "                     speaker_occupation  \\\n",
       "0                       Author/educator   \n",
       "1                      Climate advocate   \n",
       "2                  Technology columnist   \n",
       "3    Activist for environmental justice   \n",
       "4  Global health expert; data visionary   \n",
       "\n",
       "                                                tags  \\\n",
       "0  ['children', 'creativity', 'culture', 'dance',...   \n",
       "1  ['alternative energy', 'cars', 'climate change...   \n",
       "2  ['computers', 'entertainment', 'interface desi...   \n",
       "3  ['MacArthur grant', 'activism', 'business', 'c...   \n",
       "4  ['Africa', 'Asia', 'Google', 'demo', 'economic...   \n",
       "\n",
       "                             title  \\\n",
       "0      Do schools kill creativity?   \n",
       "1      Averting the climate crisis   \n",
       "2                 Simplicity sells   \n",
       "3              Greening the ghetto   \n",
       "4  The best stats you've ever seen   \n",
       "\n",
       "                                                 url     views  \\\n",
       "0  https://www.ted.com/talks/ken_robinson_says_sc...  47227110   \n",
       "1  https://www.ted.com/talks/al_gore_on_averting_...   3200520   \n",
       "2  https://www.ted.com/talks/david_pogue_says_sim...   1636292   \n",
       "3  https://www.ted.com/talks/majora_carter_s_tale...   1697550   \n",
       "4  https://www.ted.com/talks/hans_rosling_shows_t...  12005869   \n",
       "\n",
       "   views_per_comment film_datetime  \\\n",
       "0       10372.745443    2006-02-25   \n",
       "1       12077.433962    2006-02-25   \n",
       "2       13195.903226    2006-02-24   \n",
       "3        8487.750000    2006-02-26   \n",
       "4       20245.984823    2006-02-22   \n",
       "\n",
       "                                        ratings_list  \n",
       "0  [{'id': 7, 'name': 'Funny', 'count': 19645}, {...  \n",
       "1  [{'id': 7, 'name': 'Funny', 'count': 544}, {'i...  \n",
       "2  [{'id': 7, 'name': 'Funny', 'count': 964}, {'i...  \n",
       "3  [{'id': 3, 'name': 'Courageous', 'count': 760}...  \n",
       "4  [{'id': 9, 'name': 'Ingenious', 'count': 3202}...  "
      ],
      "text/html": "<div>\n<style scoped>\n    .dataframe tbody tr th:only-of-type {\n        vertical-align: middle;\n    }\n\n    .dataframe tbody tr th {\n        vertical-align: top;\n    }\n\n    .dataframe thead th {\n        text-align: right;\n    }\n</style>\n<table border=\"1\" class=\"dataframe\">\n  <thead>\n    <tr style=\"text-align: right;\">\n      <th></th>\n      <th>comments</th>\n      <th>description</th>\n      <th>duration</th>\n      <th>event</th>\n      <th>film_date</th>\n      <th>languages</th>\n      <th>main_speaker</th>\n      <th>name</th>\n      <th>num_speaker</th>\n      <th>published_date</th>\n      <th>ratings</th>\n      <th>related_talks</th>\n      <th>speaker_occupation</th>\n      <th>tags</th>\n      <th>title</th>\n      <th>url</th>\n      <th>views</th>\n      <th>views_per_comment</th>\n      <th>film_datetime</th>\n      <th>ratings_list</th>\n    </tr>\n  </thead>\n  <tbody>\n    <tr>\n      <th>0</th>\n      <td>4553</td>\n      <td>Sir Ken Robinson makes an entertaining and pro...</td>\n      <td>1164</td>\n      <td>TED2006</td>\n      <td>1140825600</td>\n      <td>60</td>\n      <td>Ken Robinson</td>\n      <td>Ken Robinson: Do schools kill creativity?</td>\n      <td>1</td>\n      <td>1151367060</td>\n      <td>[{'id': 7, 'name': 'Funny', 'count': 19645}, {...</td>\n      <td>[{'id': 865, 'hero': 'https://pe.tedcdn.com/im...</td>\n      <td>Author/educator</td>\n      <td>['children', 'creativity', 'culture', 'dance',...</td>\n      <td>Do schools kill creativity?</td>\n      <td>https://www.ted.com/talks/ken_robinson_says_sc...</td>\n      <td>47227110</td>\n      <td>10372.745443</td>\n      <td>2006-02-25</td>\n      <td>[{'id': 7, 'name': 'Funny', 'count': 19645}, {...</td>\n    </tr>\n    <tr>\n      <th>1</th>\n      <td>265</td>\n      <td>With the same humor and humanity he exuded in ...</td>\n      <td>977</td>\n      <td>TED2006</td>\n      <td>1140825600</td>\n      <td>43</td>\n      <td>Al Gore</td>\n      <td>Al Gore: Averting the climate crisis</td>\n      <td>1</td>\n      <td>1151367060</td>\n      <td>[{'id': 7, 'name': 'Funny', 'count': 544}, {'i...</td>\n      <td>[{'id': 243, 'hero': 'https://pe.tedcdn.com/im...</td>\n      <td>Climate advocate</td>\n      <td>['alternative energy', 'cars', 'climate change...</td>\n      <td>Averting the climate crisis</td>\n      <td>https://www.ted.com/talks/al_gore_on_averting_...</td>\n      <td>3200520</td>\n      <td>12077.433962</td>\n      <td>2006-02-25</td>\n      <td>[{'id': 7, 'name': 'Funny', 'count': 544}, {'i...</td>\n    </tr>\n    <tr>\n      <th>2</th>\n      <td>124</td>\n      <td>New York Times columnist David Pogue takes aim...</td>\n      <td>1286</td>\n      <td>TED2006</td>\n      <td>1140739200</td>\n      <td>26</td>\n      <td>David Pogue</td>\n      <td>David Pogue: Simplicity sells</td>\n      <td>1</td>\n      <td>1151367060</td>\n      <td>[{'id': 7, 'name': 'Funny', 'count': 964}, {'i...</td>\n      <td>[{'id': 1725, 'hero': 'https://pe.tedcdn.com/i...</td>\n      <td>Technology columnist</td>\n      <td>['computers', 'entertainment', 'interface desi...</td>\n      <td>Simplicity sells</td>\n      <td>https://www.ted.com/talks/david_pogue_says_sim...</td>\n      <td>1636292</td>\n      <td>13195.903226</td>\n      <td>2006-02-24</td>\n      <td>[{'id': 7, 'name': 'Funny', 'count': 964}, {'i...</td>\n    </tr>\n    <tr>\n      <th>3</th>\n      <td>200</td>\n      <td>In an emotionally charged talk, MacArthur-winn...</td>\n      <td>1116</td>\n      <td>TED2006</td>\n      <td>1140912000</td>\n      <td>35</td>\n      <td>Majora Carter</td>\n      <td>Majora Carter: Greening the ghetto</td>\n      <td>1</td>\n      <td>1151367060</td>\n      <td>[{'id': 3, 'name': 'Courageous', 'count': 760}...</td>\n      <td>[{'id': 1041, 'hero': 'https://pe.tedcdn.com/i...</td>\n      <td>Activist for environmental justice</td>\n      <td>['MacArthur grant', 'activism', 'business', 'c...</td>\n      <td>Greening the ghetto</td>\n      <td>https://www.ted.com/talks/majora_carter_s_tale...</td>\n      <td>1697550</td>\n      <td>8487.750000</td>\n      <td>2006-02-26</td>\n      <td>[{'id': 3, 'name': 'Courageous', 'count': 760}...</td>\n    </tr>\n    <tr>\n      <th>4</th>\n      <td>593</td>\n      <td>You've never seen data presented like this. Wi...</td>\n      <td>1190</td>\n      <td>TED2006</td>\n      <td>1140566400</td>\n      <td>48</td>\n      <td>Hans Rosling</td>\n      <td>Hans Rosling: The best stats you've ever seen</td>\n      <td>1</td>\n      <td>1151440680</td>\n      <td>[{'id': 9, 'name': 'Ingenious', 'count': 3202}...</td>\n      <td>[{'id': 2056, 'hero': 'https://pe.tedcdn.com/i...</td>\n      <td>Global health expert; data visionary</td>\n      <td>['Africa', 'Asia', 'Google', 'demo', 'economic...</td>\n      <td>The best stats you've ever seen</td>\n      <td>https://www.ted.com/talks/hans_rosling_shows_t...</td>\n      <td>12005869</td>\n      <td>20245.984823</td>\n      <td>2006-02-22</td>\n      <td>[{'id': 9, 'name': 'Ingenious', 'count': 3202}...</td>\n    </tr>\n  </tbody>\n</table>\n</div>"
     },
     "metadata": {},
     "execution_count": 68
    }
   ],
   "source": [
    "ted.head()"
   ]
  },
  {
   "cell_type": "markdown",
   "metadata": {},
   "source": [
    "## 7. Count the total number of ratings recevied by each talk\n",
    "- new column name 'num_ratings'"
   ]
  },
  {
   "cell_type": "code",
   "execution_count": 70,
   "metadata": {},
   "outputs": [
    {
     "output_type": "execute_result",
     "data": {
      "text/plain": [
       "[{'id': 7, 'name': 'Funny', 'count': 19645},\n",
       " {'id': 1, 'name': 'Beautiful', 'count': 4573},\n",
       " {'id': 9, 'name': 'Ingenious', 'count': 6073},\n",
       " {'id': 3, 'name': 'Courageous', 'count': 3253},\n",
       " {'id': 11, 'name': 'Longwinded', 'count': 387},\n",
       " {'id': 2, 'name': 'Confusing', 'count': 242},\n",
       " {'id': 8, 'name': 'Informative', 'count': 7346},\n",
       " {'id': 22, 'name': 'Fascinating', 'count': 10581},\n",
       " {'id': 21, 'name': 'Unconvincing', 'count': 300},\n",
       " {'id': 24, 'name': 'Persuasive', 'count': 10704},\n",
       " {'id': 23, 'name': 'Jaw-dropping', 'count': 4439},\n",
       " {'id': 25, 'name': 'OK', 'count': 1174},\n",
       " {'id': 26, 'name': 'Obnoxious', 'count': 209},\n",
       " {'id': 10, 'name': 'Inspiring', 'count': 24924}]"
      ]
     },
     "metadata": {},
     "execution_count": 70
    }
   ],
   "source": [
    "ted.ratings_list[0] # trying to sum the count"
   ]
  },
  {
   "cell_type": "code",
   "execution_count": 83,
   "metadata": {},
   "outputs": [],
   "source": [
    "def get_num_ratings(list_of_dicts):\n",
    "    num = 0\n",
    "    for d in list_of_dicts:\n",
    "        num = num + d['count']\n",
    "    return num"
   ]
  },
  {
   "cell_type": "code",
   "execution_count": 84,
   "metadata": {},
   "outputs": [
    {
     "output_type": "execute_result",
     "data": {
      "text/plain": [
       "93850"
      ]
     },
     "metadata": {},
     "execution_count": 84
    }
   ],
   "source": [
    "get_num_ratings(ted.ratings_list[0])"
   ]
  },
  {
   "cell_type": "code",
   "execution_count": 86,
   "metadata": {},
   "outputs": [],
   "source": [
    "ted['num_ratings'] = ted.ratings_list.apply(get_num_ratings)"
   ]
  },
  {
   "cell_type": "code",
   "execution_count": 89,
   "metadata": {},
   "outputs": [
    {
     "output_type": "execute_result",
     "data": {
      "text/plain": [
       "count     2550.000000\n",
       "mean      2436.408235\n",
       "std       4226.795631\n",
       "min         68.000000\n",
       "25%        870.750000\n",
       "50%       1452.500000\n",
       "75%       2506.750000\n",
       "max      93850.000000\n",
       "Name: num_ratings, dtype: float64"
      ]
     },
     "metadata": {},
     "execution_count": 89
    }
   ],
   "source": [
    "# ted.head()\n",
    "ted.num_ratings.describe()"
   ]
  },
  {
   "cell_type": "markdown",
   "metadata": {},
   "source": [
    "## 8. Which occupations deliver the funniest TED talks on average?\n",
    "LESSONS:\n",
    "- check assumptions about your data\n",
    "- check whether results are reasonable\n",
    "- take advantage of the fact that pandas operations often output a DataFrame or Series (and can do related operations)"
   ]
  },
  {
   "cell_type": "markdown",
   "metadata": {},
   "source": [
    "### Step 1: Count the number of funny ratings"
   ]
  },
  {
   "cell_type": "code",
   "execution_count": 109,
   "metadata": {},
   "outputs": [
    {
     "output_type": "execute_result",
     "data": {
      "text/plain": [
       "0    [{'id': 7, 'name': 'Funny', 'count': 19645}, {...\n",
       "1    [{'id': 7, 'name': 'Funny', 'count': 544}, {'i...\n",
       "2    [{'id': 7, 'name': 'Funny', 'count': 964}, {'i...\n",
       "3    [{'id': 3, 'name': 'Courageous', 'count': 760}...\n",
       "4    [{'id': 9, 'name': 'Ingenious', 'count': 3202}...\n",
       "Name: ratings_list, dtype: object"
      ]
     },
     "metadata": {},
     "execution_count": 109
    }
   ],
   "source": [
    "ted.ratings_list.head()"
   ]
  },
  {
   "cell_type": "code",
   "execution_count": 110,
   "metadata": {},
   "outputs": [
    {
     "output_type": "execute_result",
     "data": {
      "text/plain": [
       "True    2550\n",
       "Name: ratings, dtype: int64"
      ]
     },
     "metadata": {},
     "execution_count": 110
    }
   ],
   "source": [
    "ted.ratings.str.contains('Funny').value_counts()"
   ]
  },
  {
   "cell_type": "code",
   "execution_count": 119,
   "metadata": {},
   "outputs": [],
   "source": [
    "def get_funny_ratings(list_of_dicts):\n",
    "    for d in list_of_dicts:\n",
    "        print(d)\n",
    "        # if d['name'] == 'Funny':\n",
    "        #     return d['count']"
   ]
  },
  {
   "cell_type": "code",
   "execution_count": 120,
   "metadata": {
    "tags": []
   },
   "outputs": [
    {
     "output_type": "stream",
     "name": "stdout",
     "text": [
      "{'id': 7, 'name': 'Funny', 'count': 19645}\n{'id': 1, 'name': 'Beautiful', 'count': 4573}\n{'id': 9, 'name': 'Ingenious', 'count': 6073}\n{'id': 3, 'name': 'Courageous', 'count': 3253}\n{'id': 11, 'name': 'Longwinded', 'count': 387}\n{'id': 2, 'name': 'Confusing', 'count': 242}\n{'id': 8, 'name': 'Informative', 'count': 7346}\n{'id': 22, 'name': 'Fascinating', 'count': 10581}\n{'id': 21, 'name': 'Unconvincing', 'count': 300}\n{'id': 24, 'name': 'Persuasive', 'count': 10704}\n{'id': 23, 'name': 'Jaw-dropping', 'count': 4439}\n{'id': 25, 'name': 'OK', 'count': 1174}\n{'id': 26, 'name': 'Obnoxious', 'count': 209}\n{'id': 10, 'name': 'Inspiring', 'count': 24924}\n"
     ]
    }
   ],
   "source": [
    "# ted['funny_ratings'] = ted.ratings.apply(get_funny_ratings)\n",
    "get_funny_ratings(ted.ratings_list[0])"
   ]
  },
  {
   "cell_type": "code",
   "execution_count": 118,
   "metadata": {},
   "outputs": [
    {
     "output_type": "execute_result",
     "data": {
      "text/plain": [
       "[{'id': 7, 'name': 'Funny', 'count': 19645},\n",
       " {'id': 1, 'name': 'Beautiful', 'count': 4573},\n",
       " {'id': 9, 'name': 'Ingenious', 'count': 6073},\n",
       " {'id': 3, 'name': 'Courageous', 'count': 3253},\n",
       " {'id': 11, 'name': 'Longwinded', 'count': 387},\n",
       " {'id': 2, 'name': 'Confusing', 'count': 242},\n",
       " {'id': 8, 'name': 'Informative', 'count': 7346},\n",
       " {'id': 22, 'name': 'Fascinating', 'count': 10581},\n",
       " {'id': 21, 'name': 'Unconvincing', 'count': 300},\n",
       " {'id': 24, 'name': 'Persuasive', 'count': 10704},\n",
       " {'id': 23, 'name': 'Jaw-dropping', 'count': 4439},\n",
       " {'id': 25, 'name': 'OK', 'count': 1174},\n",
       " {'id': 26, 'name': 'Obnoxious', 'count': 209},\n",
       " {'id': 10, 'name': 'Inspiring', 'count': 24924}]"
      ]
     },
     "metadata": {},
     "execution_count": 118
    }
   ],
   "source": [
    "ted.ratings_list[0]"
   ]
  },
  {
   "cell_type": "code",
   "execution_count": 121,
   "metadata": {},
   "outputs": [],
   "source": [
    "def get_funny_ratings(list_of_dicts):\n",
    "    for d in list_of_dicts:\n",
    "        if d['name'] == 'Funny':\n",
    "            return d['count']"
   ]
  },
  {
   "cell_type": "code",
   "execution_count": 122,
   "metadata": {},
   "outputs": [],
   "source": [
    "ted['funny_ratings'] = ted.ratings_list.apply(get_funny_ratings)"
   ]
  },
  {
   "cell_type": "code",
   "execution_count": 123,
   "metadata": {},
   "outputs": [
    {
     "output_type": "execute_result",
     "data": {
      "text/plain": [
       "0    19645\n",
       "1      544\n",
       "2      964\n",
       "3       59\n",
       "4     1390\n",
       "Name: funny_ratings, dtype: int64"
      ]
     },
     "metadata": {},
     "execution_count": 123
    }
   ],
   "source": [
    "ted.funny_ratings.head()"
   ]
  },
  {
   "cell_type": "code",
   "execution_count": 124,
   "metadata": {},
   "outputs": [
    {
     "output_type": "execute_result",
     "data": {
      "text/plain": [
       "   comments                                        description  duration  \\\n",
       "0      4553  Sir Ken Robinson makes an entertaining and pro...      1164   \n",
       "1       265  With the same humor and humanity he exuded in ...       977   \n",
       "2       124  New York Times columnist David Pogue takes aim...      1286   \n",
       "3       200  In an emotionally charged talk, MacArthur-winn...      1116   \n",
       "4       593  You've never seen data presented like this. Wi...      1190   \n",
       "\n",
       "     event   film_date  languages   main_speaker  \\\n",
       "0  TED2006  1140825600         60   Ken Robinson   \n",
       "1  TED2006  1140825600         43        Al Gore   \n",
       "2  TED2006  1140739200         26    David Pogue   \n",
       "3  TED2006  1140912000         35  Majora Carter   \n",
       "4  TED2006  1140566400         48   Hans Rosling   \n",
       "\n",
       "                                            name  num_speaker  published_date  \\\n",
       "0      Ken Robinson: Do schools kill creativity?            1      1151367060   \n",
       "1           Al Gore: Averting the climate crisis            1      1151367060   \n",
       "2                  David Pogue: Simplicity sells            1      1151367060   \n",
       "3             Majora Carter: Greening the ghetto            1      1151367060   \n",
       "4  Hans Rosling: The best stats you've ever seen            1      1151440680   \n",
       "\n",
       "   ...                    speaker_occupation  \\\n",
       "0  ...                       Author/educator   \n",
       "1  ...                      Climate advocate   \n",
       "2  ...                  Technology columnist   \n",
       "3  ...    Activist for environmental justice   \n",
       "4  ...  Global health expert; data visionary   \n",
       "\n",
       "                                                tags  \\\n",
       "0  ['children', 'creativity', 'culture', 'dance',...   \n",
       "1  ['alternative energy', 'cars', 'climate change...   \n",
       "2  ['computers', 'entertainment', 'interface desi...   \n",
       "3  ['MacArthur grant', 'activism', 'business', 'c...   \n",
       "4  ['Africa', 'Asia', 'Google', 'demo', 'economic...   \n",
       "\n",
       "                             title  \\\n",
       "0      Do schools kill creativity?   \n",
       "1      Averting the climate crisis   \n",
       "2                 Simplicity sells   \n",
       "3              Greening the ghetto   \n",
       "4  The best stats you've ever seen   \n",
       "\n",
       "                                                 url     views  \\\n",
       "0  https://www.ted.com/talks/ken_robinson_says_sc...  47227110   \n",
       "1  https://www.ted.com/talks/al_gore_on_averting_...   3200520   \n",
       "2  https://www.ted.com/talks/david_pogue_says_sim...   1636292   \n",
       "3  https://www.ted.com/talks/majora_carter_s_tale...   1697550   \n",
       "4  https://www.ted.com/talks/hans_rosling_shows_t...  12005869   \n",
       "\n",
       "  views_per_comment  film_datetime  \\\n",
       "0      10372.745443     2006-02-25   \n",
       "1      12077.433962     2006-02-25   \n",
       "2      13195.903226     2006-02-24   \n",
       "3       8487.750000     2006-02-26   \n",
       "4      20245.984823     2006-02-22   \n",
       "\n",
       "                                        ratings_list num_ratings funny_ratings  \n",
       "0  [{'id': 7, 'name': 'Funny', 'count': 19645}, {...       93850         19645  \n",
       "1  [{'id': 7, 'name': 'Funny', 'count': 544}, {'i...        2936           544  \n",
       "2  [{'id': 7, 'name': 'Funny', 'count': 964}, {'i...        2824           964  \n",
       "3  [{'id': 3, 'name': 'Courageous', 'count': 760}...        3728            59  \n",
       "4  [{'id': 9, 'name': 'Ingenious', 'count': 3202}...       25620          1390  \n",
       "\n",
       "[5 rows x 22 columns]"
      ],
      "text/html": "<div>\n<style scoped>\n    .dataframe tbody tr th:only-of-type {\n        vertical-align: middle;\n    }\n\n    .dataframe tbody tr th {\n        vertical-align: top;\n    }\n\n    .dataframe thead th {\n        text-align: right;\n    }\n</style>\n<table border=\"1\" class=\"dataframe\">\n  <thead>\n    <tr style=\"text-align: right;\">\n      <th></th>\n      <th>comments</th>\n      <th>description</th>\n      <th>duration</th>\n      <th>event</th>\n      <th>film_date</th>\n      <th>languages</th>\n      <th>main_speaker</th>\n      <th>name</th>\n      <th>num_speaker</th>\n      <th>published_date</th>\n      <th>...</th>\n      <th>speaker_occupation</th>\n      <th>tags</th>\n      <th>title</th>\n      <th>url</th>\n      <th>views</th>\n      <th>views_per_comment</th>\n      <th>film_datetime</th>\n      <th>ratings_list</th>\n      <th>num_ratings</th>\n      <th>funny_ratings</th>\n    </tr>\n  </thead>\n  <tbody>\n    <tr>\n      <th>0</th>\n      <td>4553</td>\n      <td>Sir Ken Robinson makes an entertaining and pro...</td>\n      <td>1164</td>\n      <td>TED2006</td>\n      <td>1140825600</td>\n      <td>60</td>\n      <td>Ken Robinson</td>\n      <td>Ken Robinson: Do schools kill creativity?</td>\n      <td>1</td>\n      <td>1151367060</td>\n      <td>...</td>\n      <td>Author/educator</td>\n      <td>['children', 'creativity', 'culture', 'dance',...</td>\n      <td>Do schools kill creativity?</td>\n      <td>https://www.ted.com/talks/ken_robinson_says_sc...</td>\n      <td>47227110</td>\n      <td>10372.745443</td>\n      <td>2006-02-25</td>\n      <td>[{'id': 7, 'name': 'Funny', 'count': 19645}, {...</td>\n      <td>93850</td>\n      <td>19645</td>\n    </tr>\n    <tr>\n      <th>1</th>\n      <td>265</td>\n      <td>With the same humor and humanity he exuded in ...</td>\n      <td>977</td>\n      <td>TED2006</td>\n      <td>1140825600</td>\n      <td>43</td>\n      <td>Al Gore</td>\n      <td>Al Gore: Averting the climate crisis</td>\n      <td>1</td>\n      <td>1151367060</td>\n      <td>...</td>\n      <td>Climate advocate</td>\n      <td>['alternative energy', 'cars', 'climate change...</td>\n      <td>Averting the climate crisis</td>\n      <td>https://www.ted.com/talks/al_gore_on_averting_...</td>\n      <td>3200520</td>\n      <td>12077.433962</td>\n      <td>2006-02-25</td>\n      <td>[{'id': 7, 'name': 'Funny', 'count': 544}, {'i...</td>\n      <td>2936</td>\n      <td>544</td>\n    </tr>\n    <tr>\n      <th>2</th>\n      <td>124</td>\n      <td>New York Times columnist David Pogue takes aim...</td>\n      <td>1286</td>\n      <td>TED2006</td>\n      <td>1140739200</td>\n      <td>26</td>\n      <td>David Pogue</td>\n      <td>David Pogue: Simplicity sells</td>\n      <td>1</td>\n      <td>1151367060</td>\n      <td>...</td>\n      <td>Technology columnist</td>\n      <td>['computers', 'entertainment', 'interface desi...</td>\n      <td>Simplicity sells</td>\n      <td>https://www.ted.com/talks/david_pogue_says_sim...</td>\n      <td>1636292</td>\n      <td>13195.903226</td>\n      <td>2006-02-24</td>\n      <td>[{'id': 7, 'name': 'Funny', 'count': 964}, {'i...</td>\n      <td>2824</td>\n      <td>964</td>\n    </tr>\n    <tr>\n      <th>3</th>\n      <td>200</td>\n      <td>In an emotionally charged talk, MacArthur-winn...</td>\n      <td>1116</td>\n      <td>TED2006</td>\n      <td>1140912000</td>\n      <td>35</td>\n      <td>Majora Carter</td>\n      <td>Majora Carter: Greening the ghetto</td>\n      <td>1</td>\n      <td>1151367060</td>\n      <td>...</td>\n      <td>Activist for environmental justice</td>\n      <td>['MacArthur grant', 'activism', 'business', 'c...</td>\n      <td>Greening the ghetto</td>\n      <td>https://www.ted.com/talks/majora_carter_s_tale...</td>\n      <td>1697550</td>\n      <td>8487.750000</td>\n      <td>2006-02-26</td>\n      <td>[{'id': 3, 'name': 'Courageous', 'count': 760}...</td>\n      <td>3728</td>\n      <td>59</td>\n    </tr>\n    <tr>\n      <th>4</th>\n      <td>593</td>\n      <td>You've never seen data presented like this. Wi...</td>\n      <td>1190</td>\n      <td>TED2006</td>\n      <td>1140566400</td>\n      <td>48</td>\n      <td>Hans Rosling</td>\n      <td>Hans Rosling: The best stats you've ever seen</td>\n      <td>1</td>\n      <td>1151440680</td>\n      <td>...</td>\n      <td>Global health expert; data visionary</td>\n      <td>['Africa', 'Asia', 'Google', 'demo', 'economic...</td>\n      <td>The best stats you've ever seen</td>\n      <td>https://www.ted.com/talks/hans_rosling_shows_t...</td>\n      <td>12005869</td>\n      <td>20245.984823</td>\n      <td>2006-02-22</td>\n      <td>[{'id': 9, 'name': 'Ingenious', 'count': 3202}...</td>\n      <td>25620</td>\n      <td>1390</td>\n    </tr>\n  </tbody>\n</table>\n<p>5 rows × 22 columns</p>\n</div>"
     },
     "metadata": {},
     "execution_count": 124
    }
   ],
   "source": [
    "ted.head()"
   ]
  },
  {
   "cell_type": "code",
   "execution_count": 125,
   "metadata": {},
   "outputs": [],
   "source": [
    "ted['funny_rate'] = ted.funny_ratings / ted.num_ratings"
   ]
  },
  {
   "cell_type": "code",
   "execution_count": 126,
   "metadata": {},
   "outputs": [
    {
     "output_type": "execute_result",
     "data": {
      "text/plain": [
       "   comments                                        description  duration  \\\n",
       "0      4553  Sir Ken Robinson makes an entertaining and pro...      1164   \n",
       "1       265  With the same humor and humanity he exuded in ...       977   \n",
       "2       124  New York Times columnist David Pogue takes aim...      1286   \n",
       "3       200  In an emotionally charged talk, MacArthur-winn...      1116   \n",
       "4       593  You've never seen data presented like this. Wi...      1190   \n",
       "\n",
       "     event   film_date  languages   main_speaker  \\\n",
       "0  TED2006  1140825600         60   Ken Robinson   \n",
       "1  TED2006  1140825600         43        Al Gore   \n",
       "2  TED2006  1140739200         26    David Pogue   \n",
       "3  TED2006  1140912000         35  Majora Carter   \n",
       "4  TED2006  1140566400         48   Hans Rosling   \n",
       "\n",
       "                                            name  num_speaker  published_date  \\\n",
       "0      Ken Robinson: Do schools kill creativity?            1      1151367060   \n",
       "1           Al Gore: Averting the climate crisis            1      1151367060   \n",
       "2                  David Pogue: Simplicity sells            1      1151367060   \n",
       "3             Majora Carter: Greening the ghetto            1      1151367060   \n",
       "4  Hans Rosling: The best stats you've ever seen            1      1151440680   \n",
       "\n",
       "   ...                                               tags  \\\n",
       "0  ...  ['children', 'creativity', 'culture', 'dance',...   \n",
       "1  ...  ['alternative energy', 'cars', 'climate change...   \n",
       "2  ...  ['computers', 'entertainment', 'interface desi...   \n",
       "3  ...  ['MacArthur grant', 'activism', 'business', 'c...   \n",
       "4  ...  ['Africa', 'Asia', 'Google', 'demo', 'economic...   \n",
       "\n",
       "                             title  \\\n",
       "0      Do schools kill creativity?   \n",
       "1      Averting the climate crisis   \n",
       "2                 Simplicity sells   \n",
       "3              Greening the ghetto   \n",
       "4  The best stats you've ever seen   \n",
       "\n",
       "                                                 url     views  \\\n",
       "0  https://www.ted.com/talks/ken_robinson_says_sc...  47227110   \n",
       "1  https://www.ted.com/talks/al_gore_on_averting_...   3200520   \n",
       "2  https://www.ted.com/talks/david_pogue_says_sim...   1636292   \n",
       "3  https://www.ted.com/talks/majora_carter_s_tale...   1697550   \n",
       "4  https://www.ted.com/talks/hans_rosling_shows_t...  12005869   \n",
       "\n",
       "  views_per_comment film_datetime  \\\n",
       "0      10372.745443    2006-02-25   \n",
       "1      12077.433962    2006-02-25   \n",
       "2      13195.903226    2006-02-24   \n",
       "3       8487.750000    2006-02-26   \n",
       "4      20245.984823    2006-02-22   \n",
       "\n",
       "                                        ratings_list  num_ratings  \\\n",
       "0  [{'id': 7, 'name': 'Funny', 'count': 19645}, {...        93850   \n",
       "1  [{'id': 7, 'name': 'Funny', 'count': 544}, {'i...         2936   \n",
       "2  [{'id': 7, 'name': 'Funny', 'count': 964}, {'i...         2824   \n",
       "3  [{'id': 3, 'name': 'Courageous', 'count': 760}...         3728   \n",
       "4  [{'id': 9, 'name': 'Ingenious', 'count': 3202}...        25620   \n",
       "\n",
       "  funny_ratings funny_rate  \n",
       "0         19645   0.209323  \n",
       "1           544   0.185286  \n",
       "2           964   0.341360  \n",
       "3            59   0.015826  \n",
       "4          1390   0.054254  \n",
       "\n",
       "[5 rows x 23 columns]"
      ],
      "text/html": "<div>\n<style scoped>\n    .dataframe tbody tr th:only-of-type {\n        vertical-align: middle;\n    }\n\n    .dataframe tbody tr th {\n        vertical-align: top;\n    }\n\n    .dataframe thead th {\n        text-align: right;\n    }\n</style>\n<table border=\"1\" class=\"dataframe\">\n  <thead>\n    <tr style=\"text-align: right;\">\n      <th></th>\n      <th>comments</th>\n      <th>description</th>\n      <th>duration</th>\n      <th>event</th>\n      <th>film_date</th>\n      <th>languages</th>\n      <th>main_speaker</th>\n      <th>name</th>\n      <th>num_speaker</th>\n      <th>published_date</th>\n      <th>...</th>\n      <th>tags</th>\n      <th>title</th>\n      <th>url</th>\n      <th>views</th>\n      <th>views_per_comment</th>\n      <th>film_datetime</th>\n      <th>ratings_list</th>\n      <th>num_ratings</th>\n      <th>funny_ratings</th>\n      <th>funny_rate</th>\n    </tr>\n  </thead>\n  <tbody>\n    <tr>\n      <th>0</th>\n      <td>4553</td>\n      <td>Sir Ken Robinson makes an entertaining and pro...</td>\n      <td>1164</td>\n      <td>TED2006</td>\n      <td>1140825600</td>\n      <td>60</td>\n      <td>Ken Robinson</td>\n      <td>Ken Robinson: Do schools kill creativity?</td>\n      <td>1</td>\n      <td>1151367060</td>\n      <td>...</td>\n      <td>['children', 'creativity', 'culture', 'dance',...</td>\n      <td>Do schools kill creativity?</td>\n      <td>https://www.ted.com/talks/ken_robinson_says_sc...</td>\n      <td>47227110</td>\n      <td>10372.745443</td>\n      <td>2006-02-25</td>\n      <td>[{'id': 7, 'name': 'Funny', 'count': 19645}, {...</td>\n      <td>93850</td>\n      <td>19645</td>\n      <td>0.209323</td>\n    </tr>\n    <tr>\n      <th>1</th>\n      <td>265</td>\n      <td>With the same humor and humanity he exuded in ...</td>\n      <td>977</td>\n      <td>TED2006</td>\n      <td>1140825600</td>\n      <td>43</td>\n      <td>Al Gore</td>\n      <td>Al Gore: Averting the climate crisis</td>\n      <td>1</td>\n      <td>1151367060</td>\n      <td>...</td>\n      <td>['alternative energy', 'cars', 'climate change...</td>\n      <td>Averting the climate crisis</td>\n      <td>https://www.ted.com/talks/al_gore_on_averting_...</td>\n      <td>3200520</td>\n      <td>12077.433962</td>\n      <td>2006-02-25</td>\n      <td>[{'id': 7, 'name': 'Funny', 'count': 544}, {'i...</td>\n      <td>2936</td>\n      <td>544</td>\n      <td>0.185286</td>\n    </tr>\n    <tr>\n      <th>2</th>\n      <td>124</td>\n      <td>New York Times columnist David Pogue takes aim...</td>\n      <td>1286</td>\n      <td>TED2006</td>\n      <td>1140739200</td>\n      <td>26</td>\n      <td>David Pogue</td>\n      <td>David Pogue: Simplicity sells</td>\n      <td>1</td>\n      <td>1151367060</td>\n      <td>...</td>\n      <td>['computers', 'entertainment', 'interface desi...</td>\n      <td>Simplicity sells</td>\n      <td>https://www.ted.com/talks/david_pogue_says_sim...</td>\n      <td>1636292</td>\n      <td>13195.903226</td>\n      <td>2006-02-24</td>\n      <td>[{'id': 7, 'name': 'Funny', 'count': 964}, {'i...</td>\n      <td>2824</td>\n      <td>964</td>\n      <td>0.341360</td>\n    </tr>\n    <tr>\n      <th>3</th>\n      <td>200</td>\n      <td>In an emotionally charged talk, MacArthur-winn...</td>\n      <td>1116</td>\n      <td>TED2006</td>\n      <td>1140912000</td>\n      <td>35</td>\n      <td>Majora Carter</td>\n      <td>Majora Carter: Greening the ghetto</td>\n      <td>1</td>\n      <td>1151367060</td>\n      <td>...</td>\n      <td>['MacArthur grant', 'activism', 'business', 'c...</td>\n      <td>Greening the ghetto</td>\n      <td>https://www.ted.com/talks/majora_carter_s_tale...</td>\n      <td>1697550</td>\n      <td>8487.750000</td>\n      <td>2006-02-26</td>\n      <td>[{'id': 3, 'name': 'Courageous', 'count': 760}...</td>\n      <td>3728</td>\n      <td>59</td>\n      <td>0.015826</td>\n    </tr>\n    <tr>\n      <th>4</th>\n      <td>593</td>\n      <td>You've never seen data presented like this. Wi...</td>\n      <td>1190</td>\n      <td>TED2006</td>\n      <td>1140566400</td>\n      <td>48</td>\n      <td>Hans Rosling</td>\n      <td>Hans Rosling: The best stats you've ever seen</td>\n      <td>1</td>\n      <td>1151440680</td>\n      <td>...</td>\n      <td>['Africa', 'Asia', 'Google', 'demo', 'economic...</td>\n      <td>The best stats you've ever seen</td>\n      <td>https://www.ted.com/talks/hans_rosling_shows_t...</td>\n      <td>12005869</td>\n      <td>20245.984823</td>\n      <td>2006-02-22</td>\n      <td>[{'id': 9, 'name': 'Ingenious', 'count': 3202}...</td>\n      <td>25620</td>\n      <td>1390</td>\n      <td>0.054254</td>\n    </tr>\n  </tbody>\n</table>\n<p>5 rows × 23 columns</p>\n</div>"
     },
     "metadata": {},
     "execution_count": 126
    }
   ],
   "source": [
    "ted.head()"
   ]
  },
  {
   "cell_type": "code",
   "execution_count": 130,
   "metadata": {},
   "outputs": [
    {
     "output_type": "execute_result",
     "data": {
      "text/plain": [
       "1849                       Science humorist\n",
       "337                                Comedian\n",
       "124     Performance poet, multimedia artist\n",
       "315                                  Expert\n",
       "1168             Social energy entrepreneur\n",
       "1468                          Ornithologist\n",
       "595                  Comedian, voice artist\n",
       "1534                         Cartoon editor\n",
       "97                                 Satirist\n",
       "2297                          Actor, writer\n",
       "568                                Comedian\n",
       "675                          Data scientist\n",
       "21                     Humorist, web artist\n",
       "194                                Jugglers\n",
       "2273                    Comedian and writer\n",
       "2114                    Comedian and writer\n",
       "173                                Investor\n",
       "747                                Comedian\n",
       "1398                               Comedian\n",
       "685             Actor, comedian, playwright\n",
       "Name: speaker_occupation, dtype: object"
      ]
     },
     "metadata": {},
     "execution_count": 130
    }
   ],
   "source": [
    "ted.sort_values('funny_rate').speaker_occupation.tail(20) # do the results make sense?"
   ]
  },
  {
   "cell_type": "markdown",
   "metadata": {},
   "source": [
    "### Step 3: Analyze the funny rate by occupation"
   ]
  },
  {
   "cell_type": "code",
   "execution_count": 131,
   "metadata": {},
   "outputs": [
    {
     "output_type": "execute_result",
     "data": {
      "text/plain": [
       "speaker_occupation\n",
       "Comedian                       0.512457\n",
       "Actor, writer                  0.515152\n",
       "Actor, comedian, playwright    0.558107\n",
       "Jugglers                       0.566828\n",
       "Comedian and writer            0.602085\n",
       "Name: funny_rate, dtype: float64"
      ]
     },
     "metadata": {},
     "execution_count": 131
    }
   ],
   "source": [
    "ted.groupby('speaker_occupation').funny_rate.mean().sort_values().tail()"
   ]
  },
  {
   "cell_type": "code",
   "execution_count": 133,
   "metadata": {},
   "outputs": [
    {
     "output_type": "execute_result",
     "data": {
      "text/plain": [
       "                             count      mean\n",
       "speaker_occupation                          \n",
       "Comedian                         6  0.512457\n",
       "Actor, writer                    1  0.515152\n",
       "Actor, comedian, playwright      2  0.558107\n",
       "Jugglers                         1  0.566828\n",
       "Comedian and writer              2  0.602085"
      ],
      "text/html": "<div>\n<style scoped>\n    .dataframe tbody tr th:only-of-type {\n        vertical-align: middle;\n    }\n\n    .dataframe tbody tr th {\n        vertical-align: top;\n    }\n\n    .dataframe thead th {\n        text-align: right;\n    }\n</style>\n<table border=\"1\" class=\"dataframe\">\n  <thead>\n    <tr style=\"text-align: right;\">\n      <th></th>\n      <th>count</th>\n      <th>mean</th>\n    </tr>\n    <tr>\n      <th>speaker_occupation</th>\n      <th></th>\n      <th></th>\n    </tr>\n  </thead>\n  <tbody>\n    <tr>\n      <th>Comedian</th>\n      <td>6</td>\n      <td>0.512457</td>\n    </tr>\n    <tr>\n      <th>Actor, writer</th>\n      <td>1</td>\n      <td>0.515152</td>\n    </tr>\n    <tr>\n      <th>Actor, comedian, playwright</th>\n      <td>2</td>\n      <td>0.558107</td>\n    </tr>\n    <tr>\n      <th>Jugglers</th>\n      <td>1</td>\n      <td>0.566828</td>\n    </tr>\n    <tr>\n      <th>Comedian and writer</th>\n      <td>2</td>\n      <td>0.602085</td>\n    </tr>\n  </tbody>\n</table>\n</div>"
     },
     "metadata": {},
     "execution_count": 133
    }
   ],
   "source": [
    "ted.groupby('speaker_occupation').funny_rate.agg(['count','mean']).sort_values('mean').tail()"
   ]
  },
  {
   "cell_type": "code",
   "execution_count": 135,
   "metadata": {},
   "outputs": [
    {
     "output_type": "execute_result",
     "data": {
      "text/plain": [
       "count       2544\n",
       "unique      1458\n",
       "top       Writer\n",
       "freq          45\n",
       "Name: speaker_occupation, dtype: object"
      ]
     },
     "metadata": {},
     "execution_count": 135
    }
   ],
   "source": [
    "ted.speaker_occupation.describe() # a lot of occupations with a unique (only one) count, small sample size"
   ]
  },
  {
   "cell_type": "markdown",
   "metadata": {},
   "source": [
    "### Step 4: Focus on occupations that are well-represented in the data"
   ]
  },
  {
   "cell_type": "code",
   "execution_count": 139,
   "metadata": {},
   "outputs": [],
   "source": [
    "occupation_counts = ted.speaker_occupation.value_counts() # type is a pandas Series"
   ]
  },
  {
   "cell_type": "code",
   "execution_count": 146,
   "metadata": {},
   "outputs": [],
   "source": [
    "top_occupations = occupation_counts[occupation_counts >= 5].index # list of occupations that appear at least five times"
   ]
  },
  {
   "cell_type": "code",
   "execution_count": 148,
   "metadata": {},
   "outputs": [],
   "source": [
    "ted_top_occupations = ted[ted.speaker_occupation.isin(top_occupations)]"
   ]
  },
  {
   "cell_type": "code",
   "execution_count": 149,
   "metadata": {},
   "outputs": [
    {
     "output_type": "execute_result",
     "data": {
      "text/plain": [
       "(786, 23)"
      ]
     },
     "metadata": {},
     "execution_count": 149
    }
   ],
   "source": [
    "ted_top_occupations.shape"
   ]
  },
  {
   "cell_type": "code",
   "execution_count": 151,
   "metadata": {},
   "outputs": [
    {
     "output_type": "execute_result",
     "data": {
      "text/plain": [
       "speaker_occupation\n",
       "Surgeon                                       0.002465\n",
       "Physician                                     0.004515\n",
       "Photojournalist                               0.004908\n",
       "Investor and advocate for moral leadership    0.005198\n",
       "Photographer                                  0.007152\n",
       "                                                ...   \n",
       "Data scientist                                0.184076\n",
       "Producer                                      0.202531\n",
       "Singer/songwriter                             0.252205\n",
       "Performance poet, multimedia artist           0.306468\n",
       "Comedian                                      0.512457\n",
       "Name: funny_rate, Length: 68, dtype: float64"
      ]
     },
     "metadata": {},
     "execution_count": 151
    }
   ],
   "source": [
    "ted_top_occupations.groupby('speaker_occupation').funny_rate.mean().sort_values()"
   ]
  },
  {
   "cell_type": "code",
   "execution_count": null,
   "metadata": {},
   "outputs": [],
   "source": []
  }
 ]
}